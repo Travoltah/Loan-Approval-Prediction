{
  "cells": [
    {
      "cell_type": "markdown",
      "metadata": {
        "id": "view-in-github",
        "colab_type": "text"
      },
      "source": [
        "<a href=\"https://colab.research.google.com/github/Travoltah/Loan-Approval-Prediction/blob/main/Loan_Approval_Prediction_Trevor_Kauyu_C1213036T.ipynb\" target=\"_parent\"><img src=\"https://colab.research.google.com/assets/colab-badge.svg\" alt=\"Open In Colab\"/></a>"
      ]
    },
    {
      "cell_type": "markdown",
      "metadata": {
        "id": "0rnBgClT776F"
      },
      "source": [
        "# AUTHOR DETAILS\n",
        "Trevor Kauyu: C1213036T <br>\n",
        "tkauyu@gmail.com\n"
      ]
    },
    {
      "cell_type": "markdown",
      "metadata": {
        "id": "aetGEtps776I"
      },
      "source": [
        "# Loan Approval Prediction\n",
        "<br>\n",
        "\n",
        "This project covers the whole process from problem statement to model development and evaluation:\n",
        "1. [Problem Statement](#problem)\n",
        "2. [Hypothesis Generation](#hypothesis)\n",
        "3. [Data Collection](#data)\n",
        "4. [Exploratory Data Analysis (EDA)](#eda)\n",
        "5. [Data Pre-processing](#pre)\n",
        "6. [Model Development and Evaluation](#model)\n",
        "7. [Conclusion](#conclusion)\n",
        "\n",
        "\n"
      ]
    },
    {
      "cell_type": "markdown",
      "metadata": {
        "id": "XxQhefI1776K"
      },
      "source": [
        "***\n",
        "# <a name=\"problem\">Problem Statement</a>\n",
        "\n",
        "### _Business Problem_\n",
        "\n",
        "Bank X, is a commercial bank in Zimbabwe. It is licensed by the Reserve Bank of Zimbabwe, the central bank and national banking regulator. The Bank has over 50 branches accross the coutry in both urban and rural areas which provides various services such as Widrawals, Money Transfers, Mortages, loans and so on.On loans, customers have to first apply for a loan facility after which the company will have to validate the customer's eligibility for the loan facility. The bank wants to automate the loan eligibility process that is real time based on the customer's details provided while applying for a loan. These details include Gender, MaritalStatus, NumberOfDependants, Proffession, PropertyLocation, GrossIncome, FacilityLimit,\tInstallmentAmount, NumberOfInstallments, CreditHist, SelfEmployed, Graduate and so on.\n",
        "\n",
        "\n",
        "Loan prediction is a very common real-life problem that every retail bank faces in their lending operations. If the loan approval process is automated, it can save time thereby improving speed of service to the customers. The increase in customer satisfaction and savings in operational costs are significant. However, the benefits can only be reaped if the bank has a robust model to accurately predict which customer's loan it should approve and which to reject, in order to minimize the risk of loan default.\n",
        "\n",
        "### _Translate Business Problem into Data Science / Machine Learning problem_\n",
        "This is a classification problem where we have to predict whether a loan will be approved or not. Specifically, it is a binary classification problem where we have to predict either one of the two classes given i.e. approved (Y) or not approved (N). Another way to frame the problem is to predict whether the loan will likely to default or not, if it is likely to default, then the loan would not be approved, and vice versa. The dependent variable or target variable is the Loan_Status, while the rest are independent variable or features. Therefore,there is need to develop a model using the features to predict the target variable.\n",
        "\n"
      ]
    },
    {
      "cell_type": "markdown",
      "metadata": {
        "id": "7WRMG0EZ776K"
      },
      "source": [
        "***\n",
        "# <a name=\"hypothesis\">Hypothesis Generation</a>\n",
        "Hypothesis Generation is the process of listing out all the possible factors that can affect the outcome i.e. which of the features will have an impact on whether a loan will be approved or not. Some of the hypothesis are:\n",
        "\n",
        "- Education - Applicants with higher education level i.e. graduate level should have higher chances of loan approval\n",
        "- Income: Applicants with higher income should have more chances of loan approval\n",
        "- Facility Limit(_Loan amount_): If the loan amount is less, the chances of loan approval should be high\n",
        "- Installments (_Loan term_): Loans with shorter time period should have higher chances of approval\n",
        "- Previous credit history: Applicants who have repayed their previous debts should have higher chances of loan approval\n",
        "- Monthly installment amount: If the monthly installment amount is low, the chances of loan approval should be high\n",
        "- And so on\n",
        "\n",
        "Some of the hypothesis seem intuitive while others may not. We will try to validate each of these hypothesis based on the dataset.\n",
        "\n"
      ]
    },
    {
      "cell_type": "markdown",
      "metadata": {
        "id": "J8wvL-x7776L"
      },
      "source": [
        "***\n",
        "# <a name=\"data\">Data Collection</a>\n",
        "\n",
        "The data have already been provided by ZB Bank.\n",
        "- The training set will be used for training the model, i.e. our model will learn from this data. It contains all the independent variables and the target variable. There are 15 columns of features and 3585 rows of records in the training set\n",
        "- The test set contains all the independent variables, but not the target variable. 14 columns of features and 11798 rows of records in the test set\n",
        "\n",
        "We will apply the model to predict the target variable for the test data.  The dataset variables are summarized as below:\n",
        "\n",
        "| No | Variable | Type | Description |\n",
        "|---|---|---|---|---|\n",
        "| 1 | Loan_ID | Numerical - Discrete | Unique Loan ID |\n",
        "| 2 | Gender  | Categorical - Nominal  | Male / Female  |\n",
        "| 3 |  Marital Status | Categorical - Nominal  | Applicant married (Y/N)  |\n",
        "| 4 | NumberOfDependants  | Categorical - Ordinal  |  Number of dependents (0, 1, 2, 3+) |\n",
        "| 5 | Graduate  |  Categorical - Nominal |  Applicant Education (Graduate / Under Graduate) |\n",
        "| 6 | Self_Employed  | Categorical - Nominal  |  Self employed (Y/N) |\n",
        "| 7 | GrossIncome  | Numerical - Continuous  | Applicant income  |\n",
        "| 8 | GuaranteeIncome  | Numerical - Continuous  |  Coapplicant income |\n",
        "| 9 |  FacilityLimit | Numerical - Continuous  |  Loan amount in thousands |\n",
        "| 10 | NumberOfInstallments  |  Numerical - Discrete |  Term of loan in months |\n",
        "| 11 | Credit_History  | Categorical - Nominal  |  credit history meets guidelines (0, 1) |\n",
        "| 12 | Property_Location  | Categorical - Ordinal  |  Urban / Semi Urban / Rural |\n",
        "| 13 | Loan_Status  |  Categorical - Nominal |  Loan approved (Y/N) |\n",
        "\n"
      ]
    },
    {
      "cell_type": "markdown",
      "metadata": {
        "id": "_A5t5Z5c776L"
      },
      "source": [
        "***\n",
        "# <a name=\"eda\">Exploratory Data Analysis (EDA)</a>\n",
        "We will use Python to explore the data in order to gain a better understanding of the features and target variable. We will also analyze the data to summarize their main characteristics, using various visualization techniques."
      ]
    },
    {
      "cell_type": "code",
      "execution_count": null,
      "metadata": {
        "id": "qMo0PJeM776M"
      },
      "outputs": [],
      "source": [
        "# import libraries\n",
        "%matplotlib inline\n",
        "import numpy as np\n",
        "import pandas as pd\n",
        "import matplotlib.pyplot as plt\n",
        "import seaborn as sns\n",
        "import warnings\n",
        "warnings.filterwarnings(\"ignore\")"
      ]
    },
    {
      "cell_type": "code",
      "execution_count": null,
      "metadata": {
        "id": "xu7Uz08u776N"
      },
      "outputs": [],
      "source": [
        "# load the train and test dataset\n",
        "train = pd.read_csv(\"LoansData_Train.csv\")\n",
        "test = pd.read_csv(\"LoansData_Test2.csv\")"
      ]
    },
    {
      "cell_type": "code",
      "execution_count": null,
      "metadata": {
        "id": "FbQADvY1776N"
      },
      "outputs": [],
      "source": [
        "# make a copy of original data\n",
        "# so that even if we have to make any changes in these datasets we would not lose the original datasets\n",
        "\n",
        "train_original = train.copy()\n",
        "test_original = test.copy()\n",
        "test2= test.copy()"
      ]
    },
    {
      "cell_type": "code",
      "execution_count": null,
      "metadata": {
        "id": "sO9WlS5R776O",
        "outputId": "64fc787a-74e9-4766-a8b8-add3ab8d77ae"
      },
      "outputs": [
        {
          "data": {
            "text/html": [
              "<div>\n",
              "<style scoped>\n",
              "    .dataframe tbody tr th:only-of-type {\n",
              "        vertical-align: middle;\n",
              "    }\n",
              "\n",
              "    .dataframe tbody tr th {\n",
              "        vertical-align: top;\n",
              "    }\n",
              "\n",
              "    .dataframe thead th {\n",
              "        text-align: right;\n",
              "    }\n",
              "</style>\n",
              "<table border=\"1\" class=\"dataframe\">\n",
              "  <thead>\n",
              "    <tr style=\"text-align: right;\">\n",
              "      <th></th>\n",
              "      <th>LoanCode</th>\n",
              "      <th>Gender</th>\n",
              "      <th>MaritalStatus</th>\n",
              "      <th>NumberOfDependants</th>\n",
              "      <th>Proffession</th>\n",
              "      <th>PropertyLocation</th>\n",
              "      <th>GrossIncome</th>\n",
              "      <th>FacilityLimit</th>\n",
              "      <th>GuaranteeAmount</th>\n",
              "      <th>GuaranteeIncome</th>\n",
              "      <th>TypeOfContract</th>\n",
              "      <th>NumberOfInstallments</th>\n",
              "      <th>CreditHist</th>\n",
              "      <th>SelfEmployed</th>\n",
              "      <th>Graduate</th>\n",
              "      <th>Loan_Status</th>\n",
              "    </tr>\n",
              "  </thead>\n",
              "  <tbody>\n",
              "    <tr>\n",
              "      <td>0</td>\n",
              "      <td>MQH1160107000087</td>\n",
              "      <td>Male</td>\n",
              "      <td>Married</td>\n",
              "      <td>0</td>\n",
              "      <td>Director</td>\n",
              "      <td>KADOMA</td>\n",
              "      <td>5849.0</td>\n",
              "      <td>23343.52</td>\n",
              "      <td>23343.52</td>\n",
              "      <td>3083.0</td>\n",
              "      <td>AssetFinanceLoans</td>\n",
              "      <td>30</td>\n",
              "      <td>0</td>\n",
              "      <td>No</td>\n",
              "      <td>Graduate</td>\n",
              "      <td>Y</td>\n",
              "    </tr>\n",
              "    <tr>\n",
              "      <td>1</td>\n",
              "      <td>MQH1160126000001</td>\n",
              "      <td>Male</td>\n",
              "      <td>Married</td>\n",
              "      <td>4</td>\n",
              "      <td>InsuranceOfficer</td>\n",
              "      <td>RUWA</td>\n",
              "      <td>4583.0</td>\n",
              "      <td>25000.00</td>\n",
              "      <td>25000.00</td>\n",
              "      <td>6045.0</td>\n",
              "      <td>AssetFinanceLoans</td>\n",
              "      <td>60</td>\n",
              "      <td>1</td>\n",
              "      <td>No</td>\n",
              "      <td>Graduate</td>\n",
              "      <td>Y</td>\n",
              "    </tr>\n",
              "    <tr>\n",
              "      <td>2</td>\n",
              "      <td>MQH1180510000001</td>\n",
              "      <td>Male</td>\n",
              "      <td>Married</td>\n",
              "      <td>0</td>\n",
              "      <td>Engineer</td>\n",
              "      <td>HARARE</td>\n",
              "      <td>3000.0</td>\n",
              "      <td>8405.81</td>\n",
              "      <td>8405.81</td>\n",
              "      <td>5250.0</td>\n",
              "      <td>AssetFinanceLoans</td>\n",
              "      <td>60</td>\n",
              "      <td>1</td>\n",
              "      <td>No</td>\n",
              "      <td>Graduate</td>\n",
              "      <td>Y</td>\n",
              "    </tr>\n",
              "    <tr>\n",
              "      <td>3</td>\n",
              "      <td>MQH1190805000001</td>\n",
              "      <td>Female</td>\n",
              "      <td>Single</td>\n",
              "      <td>3</td>\n",
              "      <td>InsuranceOfficer</td>\n",
              "      <td>HARARE</td>\n",
              "      <td>2583.0</td>\n",
              "      <td>14257.28</td>\n",
              "      <td>14257.28</td>\n",
              "      <td>14683.0</td>\n",
              "      <td>AssetFinanceLoans</td>\n",
              "      <td>60</td>\n",
              "      <td>1</td>\n",
              "      <td>No</td>\n",
              "      <td>Graduate</td>\n",
              "      <td>Y</td>\n",
              "    </tr>\n",
              "    <tr>\n",
              "      <td>4</td>\n",
              "      <td>QQH1130315000001</td>\n",
              "      <td>Male</td>\n",
              "      <td>Married</td>\n",
              "      <td>0</td>\n",
              "      <td>Others</td>\n",
              "      <td>HARARE</td>\n",
              "      <td>6000.0</td>\n",
              "      <td>20000.00</td>\n",
              "      <td>20000.00</td>\n",
              "      <td>4931.0</td>\n",
              "      <td>AssetFinanceLoans</td>\n",
              "      <td>30</td>\n",
              "      <td>0</td>\n",
              "      <td>Yes</td>\n",
              "      <td>Non Graduate</td>\n",
              "      <td>Y</td>\n",
              "    </tr>\n",
              "  </tbody>\n",
              "</table>\n",
              "</div>"
            ],
            "text/plain": [
              "           LoanCode  Gender MaritalStatus  NumberOfDependants  \\\n",
              "0  MQH1160107000087    Male       Married                   0   \n",
              "1  MQH1160126000001    Male       Married                   4   \n",
              "2  MQH1180510000001    Male       Married                   0   \n",
              "3  MQH1190805000001  Female        Single                   3   \n",
              "4  QQH1130315000001    Male       Married                   0   \n",
              "\n",
              "                           Proffession PropertyLocation  GrossIncome  \\\n",
              "0                             Director           KADOMA       5849.0   \n",
              "1                     InsuranceOfficer             RUWA       4583.0   \n",
              "2  Engineer                                      HARARE       3000.0   \n",
              "3                     InsuranceOfficer           HARARE       2583.0   \n",
              "4                               Others           HARARE       6000.0   \n",
              "\n",
              "   FacilityLimit  GuaranteeAmount  GuaranteeIncome     TypeOfContract  \\\n",
              "0       23343.52         23343.52           3083.0  AssetFinanceLoans   \n",
              "1       25000.00         25000.00           6045.0  AssetFinanceLoans   \n",
              "2        8405.81          8405.81           5250.0  AssetFinanceLoans   \n",
              "3       14257.28         14257.28          14683.0  AssetFinanceLoans   \n",
              "4       20000.00         20000.00           4931.0  AssetFinanceLoans   \n",
              "\n",
              "   NumberOfInstallments  CreditHist SelfEmployed      Graduate Loan_Status  \n",
              "0                    30           0           No      Graduate           Y  \n",
              "1                    60           1           No      Graduate           Y  \n",
              "2                    60           1           No      Graduate           Y  \n",
              "3                    60           1           No      Graduate           Y  \n",
              "4                    30           0          Yes  Non Graduate           Y  "
            ]
          },
          "execution_count": 597,
          "metadata": {},
          "output_type": "execute_result"
        }
      ],
      "source": [
        "# take a look at the top 5 rows of the train set, notice the column \"Loan_Status\"\n",
        "train.head()"
      ]
    },
    {
      "cell_type": "code",
      "execution_count": null,
      "metadata": {
        "id": "5vOjuIX3776P",
        "outputId": "2162d5cb-62ae-405f-ffef-da6dcb124502"
      },
      "outputs": [
        {
          "data": {
            "text/html": [
              "<div>\n",
              "<style scoped>\n",
              "    .dataframe tbody tr th:only-of-type {\n",
              "        vertical-align: middle;\n",
              "    }\n",
              "\n",
              "    .dataframe tbody tr th {\n",
              "        vertical-align: top;\n",
              "    }\n",
              "\n",
              "    .dataframe thead th {\n",
              "        text-align: right;\n",
              "    }\n",
              "</style>\n",
              "<table border=\"1\" class=\"dataframe\">\n",
              "  <thead>\n",
              "    <tr style=\"text-align: right;\">\n",
              "      <th></th>\n",
              "      <th>LoanCode</th>\n",
              "      <th>Gender</th>\n",
              "      <th>MaritalStatus</th>\n",
              "      <th>NumberOfDependants</th>\n",
              "      <th>Proffession</th>\n",
              "      <th>PropertyLocation</th>\n",
              "      <th>GrossIncome</th>\n",
              "      <th>FacilityLimit</th>\n",
              "      <th>GuaranteeAmount</th>\n",
              "      <th>GuaranteeIncome</th>\n",
              "      <th>TypeOfContract</th>\n",
              "      <th>NumberOfInstallments</th>\n",
              "      <th>CreditHist</th>\n",
              "      <th>SelfEmployed</th>\n",
              "      <th>Graduate</th>\n",
              "    </tr>\n",
              "  </thead>\n",
              "  <tbody>\n",
              "    <tr>\n",
              "      <td>0</td>\n",
              "      <td>MQZ1190318000004</td>\n",
              "      <td>Male</td>\n",
              "      <td>Married</td>\n",
              "      <td>2</td>\n",
              "      <td>SalesManager</td>\n",
              "      <td>HARARE</td>\n",
              "      <td>5849.0</td>\n",
              "      <td>5100.0</td>\n",
              "      <td>5100.0</td>\n",
              "      <td>3083.0</td>\n",
              "      <td>PersonalLoans</td>\n",
              "      <td>60</td>\n",
              "      <td>1</td>\n",
              "      <td>No</td>\n",
              "      <td>Graduate</td>\n",
              "    </tr>\n",
              "    <tr>\n",
              "      <td>1</td>\n",
              "      <td>MQZ1190320000005</td>\n",
              "      <td>Male</td>\n",
              "      <td>Married</td>\n",
              "      <td>3</td>\n",
              "      <td>Others</td>\n",
              "      <td>HARARE</td>\n",
              "      <td>4583.0</td>\n",
              "      <td>1560.0</td>\n",
              "      <td>1560.0</td>\n",
              "      <td>6045.0</td>\n",
              "      <td>PersonalLoans</td>\n",
              "      <td>30</td>\n",
              "      <td>1</td>\n",
              "      <td>Yes</td>\n",
              "      <td>Non Graduate</td>\n",
              "    </tr>\n",
              "    <tr>\n",
              "      <td>2</td>\n",
              "      <td>MQZ1190321000001</td>\n",
              "      <td>Female</td>\n",
              "      <td>Married</td>\n",
              "      <td>2</td>\n",
              "      <td>Teacher</td>\n",
              "      <td>HARARE</td>\n",
              "      <td>3000.0</td>\n",
              "      <td>6732.0</td>\n",
              "      <td>6732.0</td>\n",
              "      <td>5250.0</td>\n",
              "      <td>PersonalLoans</td>\n",
              "      <td>60</td>\n",
              "      <td>1</td>\n",
              "      <td>No</td>\n",
              "      <td>Graduate</td>\n",
              "    </tr>\n",
              "    <tr>\n",
              "      <td>3</td>\n",
              "      <td>MQZ1190326000001</td>\n",
              "      <td>Female</td>\n",
              "      <td>Married</td>\n",
              "      <td>3</td>\n",
              "      <td>Merchant</td>\n",
              "      <td>HARARE</td>\n",
              "      <td>2583.0</td>\n",
              "      <td>1260.0</td>\n",
              "      <td>1260.0</td>\n",
              "      <td>14683.0</td>\n",
              "      <td>PersonalLoans</td>\n",
              "      <td>30</td>\n",
              "      <td>1</td>\n",
              "      <td>No</td>\n",
              "      <td>Graduate</td>\n",
              "    </tr>\n",
              "    <tr>\n",
              "      <td>4</td>\n",
              "      <td>MQZ1190327000001</td>\n",
              "      <td>Male</td>\n",
              "      <td>Married</td>\n",
              "      <td>0</td>\n",
              "      <td>Others</td>\n",
              "      <td>HARARE</td>\n",
              "      <td>6000.0</td>\n",
              "      <td>1160.0</td>\n",
              "      <td>1160.0</td>\n",
              "      <td>4931.0</td>\n",
              "      <td>PersonalLoans</td>\n",
              "      <td>30</td>\n",
              "      <td>1</td>\n",
              "      <td>Yes</td>\n",
              "      <td>Non Graduate</td>\n",
              "    </tr>\n",
              "  </tbody>\n",
              "</table>\n",
              "</div>"
            ],
            "text/plain": [
              "           LoanCode  Gender MaritalStatus  NumberOfDependants  \\\n",
              "0  MQZ1190318000004    Male       Married                   2   \n",
              "1  MQZ1190320000005    Male       Married                   3   \n",
              "2  MQZ1190321000001  Female       Married                   2   \n",
              "3  MQZ1190326000001  Female       Married                   3   \n",
              "4  MQZ1190327000001    Male       Married                   0   \n",
              "\n",
              "                           Proffession PropertyLocation  GrossIncome  \\\n",
              "0  SalesManager                                  HARARE       5849.0   \n",
              "1  Others                                        HARARE       4583.0   \n",
              "2                              Teacher           HARARE       3000.0   \n",
              "3  Merchant                                      HARARE       2583.0   \n",
              "4  Others                                        HARARE       6000.0   \n",
              "\n",
              "   FacilityLimit  GuaranteeAmount  GuaranteeIncome TypeOfContract  \\\n",
              "0         5100.0           5100.0           3083.0  PersonalLoans   \n",
              "1         1560.0           1560.0           6045.0  PersonalLoans   \n",
              "2         6732.0           6732.0           5250.0  PersonalLoans   \n",
              "3         1260.0           1260.0          14683.0  PersonalLoans   \n",
              "4         1160.0           1160.0           4931.0  PersonalLoans   \n",
              "\n",
              "   NumberOfInstallments  CreditHist SelfEmployed      Graduate  \n",
              "0                    60           1           No      Graduate  \n",
              "1                    30           1          Yes  Non Graduate  \n",
              "2                    60           1           No      Graduate  \n",
              "3                    30           1           No      Graduate  \n",
              "4                    30           1          Yes  Non Graduate  "
            ]
          },
          "execution_count": 598,
          "metadata": {},
          "output_type": "execute_result"
        }
      ],
      "source": [
        "# take a look at the top 5 rows of the test set, notice the absense of \"Loan_Status\" that we will predict\n",
        "test.head()"
      ]
    },
    {
      "cell_type": "code",
      "execution_count": null,
      "metadata": {
        "id": "cuCb6Dze776P",
        "outputId": "3d1cf4c4-3413-4062-ed0b-15404e8b1b78"
      },
      "outputs": [
        {
          "data": {
            "text/plain": [
              "((3584, 16), (4210, 15))"
            ]
          },
          "execution_count": 599,
          "metadata": {},
          "output_type": "execute_result"
        }
      ],
      "source": [
        "# show the shape of the dataset i.e. no of rows, no of columns\n",
        "train.shape, test.shape"
      ]
    },
    {
      "cell_type": "code",
      "execution_count": null,
      "metadata": {
        "id": "5IAhsXaH776P",
        "outputId": "eef459e0-512b-4199-8e74-cd4249cf7ac9"
      },
      "outputs": [
        {
          "data": {
            "text/plain": [
              "(0.45984090325891713, 0.5401590967410829)"
            ]
          },
          "execution_count": 600,
          "metadata": {},
          "output_type": "execute_result"
        }
      ],
      "source": [
        "# calculate train-test-split ratio\n",
        "train.shape[0]/(train.shape[0]+test.shape[0]), test.shape[0]/(train.shape[0]+test.shape[0])"
      ]
    },
    {
      "cell_type": "code",
      "execution_count": null,
      "metadata": {
        "id": "isAkfloe776Q",
        "outputId": "f9c93dd3-ca4b-4e0e-acea-779862303ce0"
      },
      "outputs": [
        {
          "data": {
            "text/plain": [
              "(Index(['LoanCode', 'Gender', 'MaritalStatus', 'NumberOfDependants',\n",
              "        'Proffession', 'PropertyLocation', 'GrossIncome', 'FacilityLimit',\n",
              "        'GuaranteeAmount', 'GuaranteeIncome', 'TypeOfContract',\n",
              "        'NumberOfInstallments', 'CreditHist', 'SelfEmployed', 'Graduate',\n",
              "        'Loan_Status'],\n",
              "       dtype='object'),\n",
              " Index(['LoanCode', 'Gender', 'MaritalStatus', 'NumberOfDependants',\n",
              "        'Proffession', 'PropertyLocation', 'GrossIncome', 'FacilityLimit',\n",
              "        'GuaranteeAmount', 'GuaranteeIncome', 'TypeOfContract',\n",
              "        'NumberOfInstallments', 'CreditHist', 'SelfEmployed', 'Graduate'],\n",
              "       dtype='object'))"
            ]
          },
          "execution_count": 601,
          "metadata": {},
          "output_type": "execute_result"
        }
      ],
      "source": [
        "# take a look at the features (i.e. independent variables) in the dataset\n",
        "train.columns, test.columns"
      ]
    },
    {
      "cell_type": "markdown",
      "metadata": {
        "id": "3ds_t8H1776Q"
      },
      "source": [
        "**Note: ** There are 13 columns of features and 614 rows of records in the train set and 12 columns of features and 367 rows of records in the test set. There are a total of 981 records combining both train and test set, representing a train-test-split of approx 63% and 37%. The features are similar in the test set as the train data except the Loan_Status. We will predict the Loan_Status using the model built using the train data."
      ]
    },
    {
      "cell_type": "code",
      "execution_count": null,
      "metadata": {
        "id": "5aDAf0_c776Q",
        "outputId": "2847ac25-6d88-46c1-ee93-6a641d16cc0d"
      },
      "outputs": [
        {
          "data": {
            "text/plain": [
              "LoanCode                 object\n",
              "Gender                   object\n",
              "MaritalStatus            object\n",
              "NumberOfDependants        int64\n",
              "Proffession              object\n",
              "PropertyLocation         object\n",
              "GrossIncome             float64\n",
              "FacilityLimit           float64\n",
              "GuaranteeAmount         float64\n",
              "GuaranteeIncome         float64\n",
              "TypeOfContract           object\n",
              "NumberOfInstallments      int64\n",
              "CreditHist                int64\n",
              "SelfEmployed             object\n",
              "Graduate                 object\n",
              "Loan_Status              object\n",
              "dtype: object"
            ]
          },
          "execution_count": 602,
          "metadata": {},
          "output_type": "execute_result"
        }
      ],
      "source": [
        "# show the data types for each column of the train set\n",
        "train.dtypes"
      ]
    },
    {
      "cell_type": "code",
      "execution_count": null,
      "metadata": {
        "id": "scvucXaE776Q",
        "outputId": "75904cf8-f010-4dec-b9d8-16c5e0af689b"
      },
      "outputs": [
        {
          "name": "stdout",
          "output_type": "stream",
          "text": [
            "<class 'pandas.core.frame.DataFrame'>\n",
            "RangeIndex: 3584 entries, 0 to 3583\n",
            "Data columns (total 16 columns):\n",
            "LoanCode                3584 non-null object\n",
            "Gender                  3584 non-null object\n",
            "MaritalStatus           3584 non-null object\n",
            "NumberOfDependants      3584 non-null int64\n",
            "Proffession             3584 non-null object\n",
            "PropertyLocation        3584 non-null object\n",
            "GrossIncome             3584 non-null float64\n",
            "FacilityLimit           3584 non-null float64\n",
            "GuaranteeAmount         3584 non-null float64\n",
            "GuaranteeIncome         3584 non-null float64\n",
            "TypeOfContract          3584 non-null object\n",
            "NumberOfInstallments    3584 non-null int64\n",
            "CreditHist              3584 non-null int64\n",
            "SelfEmployed            3584 non-null object\n",
            "Graduate                3584 non-null object\n",
            "Loan_Status             3584 non-null object\n",
            "dtypes: float64(4), int64(3), object(9)\n",
            "memory usage: 448.1+ KB\n"
          ]
        }
      ],
      "source": [
        "# concise summary of the dataset, info about index dtype, column dtypes, non-null values and memory usage\n",
        "train.info()"
      ]
    },
    {
      "cell_type": "markdown",
      "metadata": {
        "id": "xAIkHXXK776R"
      },
      "source": [
        "**Note: ** There are 3 data types in the data\n",
        "- object: Object format means variables are categorical. Categorical variables in our dataset are: Loan_ID, Gender, Married, Graduate, Self_Employed, Property_Location, Loan_Status\n",
        "- int64: It represents the integer variables. NumberOfDependants is of this format.\n",
        "- float64: It represents the variable which have some decimal values involved. They are also numerical variables. Numerical variables in our dataset are: GrossIncome, FacilityLimit and GuaranteeAmount\n",
        "\n",
        "**Why Data Types are important?**\n",
        "\n",
        "Datatypes are an important concept because statistical methods can only be used with certain data types. You have to analyze continuous data differently than categorical data otherwise it would result in a wrong analysis. Therefore knowing the types of data you are dealing with, enables you to choose the correct method of analysis."
      ]
    },
    {
      "cell_type": "markdown",
      "metadata": {
        "id": "1TrVKnph776R"
      },
      "source": [
        "## Univariate analysis\n",
        "Univariate analysis is when we analyze each variable individually.\n",
        "- For categorical features we can use frequency table or bar plots which will calculate the number of each category in a particular variable.\n",
        "- For numerical features, a histogram or a box-plot can be used to look at the distribution of the variable. With a histogram, you can check the central tendency, variability, modality, and kurtosis of a distribution. Note that a histogram can’t show you if you have any outliers. This is why we also use box-plots.\n",
        "\n",
        "### Target Variable (Categorical)\n",
        "We will first look at the target variable, i.e., Loan_Status. As it is a categorical variable, let us look at its frequency table, percentage distribution and bar plot."
      ]
    },
    {
      "cell_type": "code",
      "execution_count": null,
      "metadata": {
        "id": "S3lujHQh776R",
        "outputId": "0dc12e25-829c-4115-944c-e4f631c5fc89"
      },
      "outputs": [
        {
          "data": {
            "text/plain": [
              "Y    3109\n",
              "N     475\n",
              "Name: Loan_Status, dtype: int64"
            ]
          },
          "execution_count": 604,
          "metadata": {},
          "output_type": "execute_result"
        }
      ],
      "source": [
        "# frequency table of a variable will give us the count of each category in that variable\n",
        "train['Loan_Status'].value_counts()"
      ]
    },
    {
      "cell_type": "code",
      "execution_count": null,
      "metadata": {
        "id": "Y87oP7rR776S",
        "outputId": "f59d6e47-c257-4d2f-eabf-2e6178bc81b8"
      },
      "outputs": [
        {
          "data": {
            "text/plain": [
              "Y    0.867467\n",
              "N    0.132533\n",
              "Name: Loan_Status, dtype: float64"
            ]
          },
          "execution_count": 605,
          "metadata": {},
          "output_type": "execute_result"
        }
      ],
      "source": [
        "# percentage distribution can be calculated by setting the normalize=True to show proportions instead of number\n",
        "train['Loan_Status'].value_counts(normalize=True)"
      ]
    },
    {
      "cell_type": "code",
      "execution_count": null,
      "metadata": {
        "id": "OF4tP4Xr776S",
        "outputId": "368542dd-ed6d-4f1b-8550-97cda1bb0c6e"
      },
      "outputs": [
        {
          "data": {
            "text/plain": [
              "<matplotlib.axes._subplots.AxesSubplot at 0x22f85220808>"
            ]
          },
          "execution_count": 606,
          "metadata": {},
          "output_type": "execute_result"
        },
        {
          "data": {
            "image/png": "[encoded data removed]",
            "text/plain": [
              "<Figure size 432x288 with 1 Axes>"
            ]
          },
          "metadata": {
            "needs_background": "light"
          },
          "output_type": "display_data"
        }
      ],
      "source": [
        "# bar plot to visualize the frequency\n",
        "train['Loan_Status'].value_counts().plot.bar(color=['green','blue'], grid=False)"
      ]
    },
    {
      "cell_type": "markdown",
      "metadata": {
        "id": "hjhR_QaC776S"
      },
      "source": [
        "**Note: ** 2463 loans were approved out of a total of 3585 loan application. There is no imbalanced classes issue in this dataset, thus accuracy as an evaluation metric should be appropriate. On the other hand, if there are imbalanced or skewed classes, then we might need to use precision and recall as evaluation metrics."
      ]
    },
    {
      "cell_type": "markdown",
      "metadata": {
        "id": "RKF-nY8d776S"
      },
      "source": [
        "### Independent Variable (Categorical)\n",
        "There are 5 features that are categorical or binary (Gender, MaritalStatus, Self_Employed, Credit_History, Graduate)"
      ]
    },
    {
      "cell_type": "code",
      "execution_count": null,
      "metadata": {
        "id": "g_uyPfgH776S",
        "outputId": "ad00ff7d-288e-4388-a404-29b7bba73e3c"
      },
      "outputs": [
        {
          "data": {
            "image/png": "[encoded data removed]",
            "text/plain": [
              "<Figure size 1440x720 with 5 Axes>"
            ]
          },
          "metadata": {
            "needs_background": "light"
          },
          "output_type": "display_data"
        }
      ],
      "source": [
        "# Visualizing categorical features\n",
        "# plt.figure(1)\n",
        "plt.subplot(231)\n",
        "train['Gender'].value_counts(normalize=True).plot.bar(figsize=(20,10), title= 'Gender',color=['green','brown'], grid=False)\n",
        "\n",
        "plt.subplot(232)\n",
        "train['MaritalStatus'].value_counts(normalize=True).plot.bar(title= 'MaritalStatus',color=['green','brown','orange','purple','blue'])\n",
        "\n",
        "plt.subplot(233)\n",
        "train['SelfEmployed'].value_counts(normalize=True).plot.bar(title= 'SelfEmployed',color=['green','brown'], grid=False)\n",
        "\n",
        "plt.subplot(234)\n",
        "train['CreditHist'].value_counts(normalize=True).plot.bar(title= 'CreditHistory',color=['green','brown'], grid=False)\n",
        "\n",
        "plt.subplot(235)\n",
        "train['Graduate'].value_counts(normalize=True).plot.bar(title= 'Education',color=['green','brown'], grid=False)\n",
        "\n",
        "plt.show()"
      ]
    },
    {
      "cell_type": "markdown",
      "metadata": {
        "id": "RYDVXar_776T"
      },
      "source": [
        "It can be inferred from the above bar plots that:\n",
        "\n",
        "- Around 70% applicants in the dataset are male.\n",
        "- Around 75% of the applicants in the dataset are married.\n",
        "- Around 10% applicants in the dataset are self employed.\n",
        "- Around 75% applicants have credit history (repaid their debts).\n",
        "- Around 85% of the applicants are Graduate.\n"
      ]
    },
    {
      "cell_type": "markdown",
      "metadata": {
        "id": "N2nDEuXV776T"
      },
      "source": [
        "### Independent Variable (Ordinal)\n",
        "There are 2 features that are Ordinal: Variables in categorical features having some order involved (Dependents, TypeOfContract)"
      ]
    },
    {
      "cell_type": "code",
      "execution_count": null,
      "metadata": {
        "id": "7t9J2IwX776T",
        "outputId": "259d2b7c-ce7b-4504-dd8a-b4764189b1a8"
      },
      "outputs": [
        {
          "data": {
            "image/png": "[encoded data removed]",
            "text/plain": [
              "<Figure size 864x288 with 2 Axes>"
            ]
          },
          "metadata": {
            "needs_background": "light"
          },
          "output_type": "display_data"
        }
      ],
      "source": [
        "# Visualizing remaining categorical features\n",
        "# plt.figure(1)\n",
        "plt.subplot(121)\n",
        "train['NumberOfDependants'].value_counts(normalize=True).plot.bar(figsize=(12,4), title= 'NumberOfDependants')\n",
        "\n",
        "plt.subplot(122)\n",
        "train['TypeOfContract'].value_counts(normalize=True).plot.bar(title= 'TypeOfContract',color=['green','brown','orange','purple'])\n",
        "\n",
        "plt.show()"
      ]
    },
    {
      "cell_type": "markdown",
      "metadata": {
        "id": "u6QtYIJP776T"
      },
      "source": [
        "Following inferences can be made from the above bar plots:\n",
        "\n",
        "- Most of the applicants don’t have any dependents.\n",
        "- Around 98%  the applicants are applying for Personal Loans.\n"
      ]
    },
    {
      "cell_type": "markdown",
      "metadata": {
        "id": "YE81FWkR776T"
      },
      "source": [
        "### Independent Variable (Numerical)\n",
        "There are 4 features that are Numerical: These features have numerical values (GrossIncome, GuaranteetIncome,GuaranteetAmount, FacilityLimit, Installments)\n",
        "\n",
        "Firstly, let’s look at the Applicant gross income distribution:"
      ]
    },
    {
      "cell_type": "code",
      "execution_count": null,
      "metadata": {
        "id": "MLeywC3f776T",
        "outputId": "04e88970-338e-4753-de16-aff27cba48b3"
      },
      "outputs": [
        {
          "data": {
            "image/png": "[encoded data removed]",
            "text/plain": [
              "<Figure size 1152x360 with 2 Axes>"
            ]
          },
          "metadata": {
            "needs_background": "light"
          },
          "output_type": "display_data"
        }
      ],
      "source": [
        "# Visualizing Applicant Gross Income\n",
        "# plt.figure(1)\n",
        "plt.subplot(121)\n",
        "sns.distplot(train['GrossIncome'],color='brown');\n",
        "\n",
        "plt.subplot(122)\n",
        "train['GrossIncome'].plot.box(figsize=(16,5),color='brown')\n",
        "\n",
        "plt.show()"
      ]
    },
    {
      "cell_type": "markdown",
      "metadata": {
        "id": "F-AFMrox776U"
      },
      "source": [
        "It can be inferred that most of the data in the distribution of applicant income is towards left which means it is not normally distributed. The distribution is right-skewed (positive skewness).\n",
        "\n",
        "The boxplot shows the presence of a lot of outliers/extreme values. This can be attributed to the income disparity in the society. Part of this can be driven by the fact that we are looking at people with different education levels and Proffession. Let us segregate them by Education:"
      ]
    },
    {
      "cell_type": "code",
      "execution_count": null,
      "metadata": {
        "id": "suit9KCT776U",
        "outputId": "6b8a5fa8-560f-4b77-da52-e6a3b912d0aa"
      },
      "outputs": [
        {
          "data": {
            "text/plain": [
              "Text(0.5, 0.98, '')"
            ]
          },
          "execution_count": 610,
          "metadata": {},
          "output_type": "execute_result"
        },
        {
          "data": {
            "image/png": "[encoded data removed]",
            "text/plain": [
              "<Figure size 432x288 with 1 Axes>"
            ]
          },
          "metadata": {
            "needs_background": "light"
          },
          "output_type": "display_data"
        }
      ],
      "source": [
        "train.boxplot(column='GrossIncome', by = 'Graduate')\n",
        "plt.suptitle(\"\")"
      ]
    },
    {
      "cell_type": "markdown",
      "metadata": {
        "id": "ViBK0Ht2776U"
      },
      "source": [
        "We can see that there are a higher number of graduates with very high incomes, which are appearing to be the outliers."
      ]
    },
    {
      "cell_type": "markdown",
      "metadata": {
        "id": "r5q7zUP8776U"
      },
      "source": [
        "Secondly, Let’s look at the Guarantee income distribution."
      ]
    },
    {
      "cell_type": "code",
      "execution_count": null,
      "metadata": {
        "id": "3BYF4aWf776U",
        "outputId": "5df17d87-742e-49fd-da53-ef3b796a43f7"
      },
      "outputs": [
        {
          "data": {
            "image/png": "[encoded data removed]",
            "text/plain": [
              "<Figure size 1152x360 with 2 Axes>"
            ]
          },
          "metadata": {
            "needs_background": "light"
          },
          "output_type": "display_data"
        }
      ],
      "source": [
        "# plt.figure(1)\n",
        "plt.subplot(121)\n",
        "sns.distplot(train['GuaranteeIncome'],color='green');\n",
        "\n",
        "plt.subplot(122)\n",
        "train['GuaranteeIncome'].plot.box(figsize=(16,5),color='green')\n",
        "\n",
        "plt.show()"
      ]
    },
    {
      "cell_type": "markdown",
      "metadata": {
        "id": "gdu32kvi776U"
      },
      "source": [
        "Majority of guarantee’s income ranges from 0 to 5000. There are also outliers in the guarantee income and it is not normally distributed.\n",
        "\n",
        "Thirdly, let’s look at the distribution of FcailityLimit (LoanAmount) variable."
      ]
    },
    {
      "cell_type": "code",
      "execution_count": null,
      "metadata": {
        "id": "a2Rg7KaM776U",
        "outputId": "09cfdfd6-6ab2-41dd-e401-c20c1b58c6cb"
      },
      "outputs": [
        {
          "data": {
            "image/png": "[encoded data removed]",
            "text/plain": [
              "<Figure size 1152x360 with 2 Axes>"
            ]
          },
          "metadata": {
            "needs_background": "light"
          },
          "output_type": "display_data"
        }
      ],
      "source": [
        "# plt.figure(1)\n",
        "plt.subplot(121)\n",
        "df=train.dropna()\n",
        "sns.distplot(df['FacilityLimit'],color='orange');\n",
        "\n",
        "plt.subplot(122)\n",
        "train['FacilityLimit'].plot.box(figsize=(16,5),color='orange')\n",
        "\n",
        "plt.show()"
      ]
    },
    {
      "cell_type": "markdown",
      "metadata": {
        "id": "Qk0CY2p5776U"
      },
      "source": [
        "There are lot of outliers on the Facility Limit i.e the loan amount.\n",
        "\n",
        "Lastly, let’s look at the distribution of Installments variable. Since Installments is a discrete variable, we will use frequency table and bar plots which will calculate the number of each category."
      ]
    },
    {
      "cell_type": "code",
      "execution_count": null,
      "metadata": {
        "id": "LL61vLiD776a",
        "outputId": "5e3ffa88-3235-472e-94a8-e555b0d48d3a"
      },
      "outputs": [
        {
          "data": {
            "text/plain": [
              "60     1699\n",
              "30      918\n",
              "12      903\n",
              "90       19\n",
              "120      14\n",
              "320      12\n",
              "220      11\n",
              "260       5\n",
              "160       3\n",
              "Name: NumberOfInstallments, dtype: int64"
            ]
          },
          "execution_count": 613,
          "metadata": {},
          "output_type": "execute_result"
        }
      ],
      "source": [
        "# frequency table of a variable will give us the count of each category in that variable\n",
        "train['NumberOfInstallments'].value_counts()"
      ]
    },
    {
      "cell_type": "code",
      "execution_count": null,
      "metadata": {
        "id": "6JwIA63k776b",
        "outputId": "eaea0be0-d7e3-487f-99f8-a68a56d2be26"
      },
      "outputs": [
        {
          "data": {
            "text/plain": [
              "<matplotlib.axes._subplots.AxesSubplot at 0x22f84c60148>"
            ]
          },
          "execution_count": 614,
          "metadata": {},
          "output_type": "execute_result"
        },
        {
          "data": {
            "image/png": "[encoded data removed]",
            "text/plain": [
              "<Figure size 432x288 with 1 Axes>"
            ]
          },
          "metadata": {
            "needs_background": "light"
          },
          "output_type": "display_data"
        }
      ],
      "source": [
        "# plot bar chart\n",
        "train['NumberOfInstallments'].value_counts(normalize=True).plot.bar(title= 'NumberOfInstallments')"
      ]
    },
    {
      "cell_type": "markdown",
      "metadata": {
        "id": "OQcf7ywD776b"
      },
      "source": [
        "It can be inferred from the above bar plot that:\n",
        "\n",
        "- Around 60% of the loans are 60 months term or 5 years period\n",
        "\n",
        "\n",
        "Now we would like to know how well each feature correlate with Loan Status. So, in the next section we will look at bivariate analysis."
      ]
    },
    {
      "cell_type": "markdown",
      "metadata": {
        "id": "jyoplcul776b"
      },
      "source": [
        "## Bivariate Analysis\n",
        "After looking at every variable individually in univariate analysis, we will now explore them again with respect to the target variable in bivariate analysis. We can use bivariate analysis to test the hypotheses that we generated earlier.\n",
        "\n"
      ]
    },
    {
      "cell_type": "markdown",
      "metadata": {
        "id": "svyvM2PI776b"
      },
      "source": [
        "**Categorical Independent Variable vs Target Variable**\n",
        "\n",
        "First of all we will find the relation between target variable and categorical independent variables. Let us look at the stacked bar plot now which will give us the proportion of approved and unapproved loans. For example, we want to see whether an applicant's gender will have any effect on approval chances."
      ]
    },
    {
      "cell_type": "code",
      "execution_count": null,
      "metadata": {
        "id": "CSVDI5Tc776b",
        "outputId": "5bf17f25-7771-4166-8b9b-5c10cd9db3bc"
      },
      "outputs": [
        {
          "name": "stdout",
          "output_type": "stream",
          "text": [
            "Loan_Status    N     Y\n",
            "Gender                \n",
            "Female       177   973\n",
            "Male         298  2136\n"
          ]
        },
        {
          "data": {
            "image/png": "[encoded data removed]",
            "text/plain": [
              "<Figure size 288x288 with 1 Axes>"
            ]
          },
          "metadata": {
            "needs_background": "light"
          },
          "output_type": "display_data"
        }
      ],
      "source": [
        "print(pd.crosstab(train['Gender'],train['Loan_Status']))\n",
        "\n",
        "Gender = pd.crosstab(train['Gender'],train['Loan_Status'])\n",
        "Gender.div(Gender.sum(1).astype(float), axis = 0).plot(kind=\"bar\",color=['brown','green'], stacked=True, figsize=(4,4))\n",
        "plt.xlabel('Gender')\n",
        "p = plt.ylabel('Percentage')"
      ]
    },
    {
      "cell_type": "code",
      "execution_count": null,
      "metadata": {
        "id": "xKtUM1a3776b",
        "outputId": "8db22adb-da7a-4c99-9047-9716bf0aae6f"
      },
      "outputs": [
        {
          "name": "stdout",
          "output_type": "stream",
          "text": [
            "Loan_Status      N     Y\n",
            "MaritalStatus           \n",
            "Divorced         3     8\n",
            "Married        226  2563\n",
            "Separated        2     6\n",
            "Single         231   513\n",
            "Widowed         13    19\n"
          ]
        },
        {
          "data": {
            "image/png": "[encoded data removed]",
            "text/plain": [
              "<Figure size 288x288 with 1 Axes>"
            ]
          },
          "metadata": {
            "needs_background": "light"
          },
          "output_type": "display_data"
        }
      ],
      "source": [
        "print(pd.crosstab(train['MaritalStatus'],train['Loan_Status']))\n",
        "\n",
        "Married = pd.crosstab(train['MaritalStatus'],train['Loan_Status'])\n",
        "Married.div(Married.sum(1).astype(float), axis=0).plot(kind=\"bar\",color=['brown','green'], stacked=True, figsize=(4,4))\n",
        "plt.xlabel('MaritalStatus')\n",
        "p = plt.ylabel('Percentage')"
      ]
    },
    {
      "cell_type": "code",
      "execution_count": null,
      "metadata": {
        "id": "aeHS5j6i776b",
        "outputId": "1ca972d2-e52b-4907-fc55-62f90a449821"
      },
      "outputs": [
        {
          "name": "stdout",
          "output_type": "stream",
          "text": [
            "Loan_Status           N    Y\n",
            "NumberOfDependants          \n",
            "0                   146  848\n",
            "1                   104  377\n",
            "2                   103  750\n",
            "3                    77  491\n",
            "4                    23  316\n",
            "5                    13  175\n",
            "6                     6   97\n",
            "7                     2   33\n",
            "8                     1   22\n"
          ]
        },
        {
          "data": {
            "image/png": "[encoded data removed]",
            "text/plain": [
              "<Figure size 432x288 with 1 Axes>"
            ]
          },
          "metadata": {
            "needs_background": "light"
          },
          "output_type": "display_data"
        }
      ],
      "source": [
        "print(pd.crosstab(train['NumberOfDependants'],train['Loan_Status']))\n",
        "\n",
        "Dependents=pd.crosstab(train['NumberOfDependants'],train['Loan_Status'])\n",
        "Dependents.div(Dependents.sum(1).astype(float), axis=0).plot(kind=\"bar\",color=['brown','green'], stacked=True)\n",
        "plt.xlabel('NumberOfDependants')\n",
        "p = plt.ylabel('Percentage')"
      ]
    },
    {
      "cell_type": "code",
      "execution_count": null,
      "metadata": {
        "id": "m8KH3nZI776b",
        "outputId": "8dfdafee-7ea1-4e5f-820d-557e8a53f7ce"
      },
      "outputs": [
        {
          "name": "stdout",
          "output_type": "stream",
          "text": [
            "Loan_Status     N     Y\n",
            "Graduate               \n",
            "Graduate      446  2873\n",
            "Non Graduate   29   236\n"
          ]
        },
        {
          "data": {
            "image/png": "[encoded data removed]",
            "text/plain": [
              "<Figure size 288x288 with 1 Axes>"
            ]
          },
          "metadata": {
            "needs_background": "light"
          },
          "output_type": "display_data"
        }
      ],
      "source": [
        "print(pd.crosstab(train['Graduate'],train['Loan_Status']))\n",
        "\n",
        "Education=pd.crosstab(train['Graduate'],train['Loan_Status'])\n",
        "Education.div(Education.sum(1).astype(float), axis=0).plot(kind=\"bar\",color=['brown','green'], stacked=True, figsize=(4,4))\n",
        "plt.xlabel('Graduate')\n",
        "p = plt.ylabel('Percentage')"
      ]
    },
    {
      "cell_type": "code",
      "execution_count": null,
      "metadata": {
        "id": "9ueOrIUP776c",
        "outputId": "b37dbc4f-992e-4e9c-997d-b7f58df18f82"
      },
      "outputs": [
        {
          "name": "stdout",
          "output_type": "stream",
          "text": [
            "Loan_Status     N     Y\n",
            "SelfEmployed           \n",
            "No            446  2873\n",
            "Yes            29   236\n"
          ]
        },
        {
          "data": {
            "image/png": "[encoded data removed]",
            "text/plain": [
              "<Figure size 288x288 with 1 Axes>"
            ]
          },
          "metadata": {
            "needs_background": "light"
          },
          "output_type": "display_data"
        }
      ],
      "source": [
        "print(pd.crosstab(train['SelfEmployed'],train['Loan_Status']))\n",
        "\n",
        "Self_Employed=pd.crosstab(train['SelfEmployed'],train['Loan_Status'])\n",
        "Self_Employed.div(Self_Employed.sum(1).astype(float), axis=0).plot(kind=\"bar\",color=['brown','green'], stacked=True, figsize=(4,4))\n",
        "plt.xlabel('SelfEmployed')\n",
        "p = plt.ylabel('Percentage')"
      ]
    },
    {
      "cell_type": "code",
      "execution_count": null,
      "metadata": {
        "id": "fAL9-pFQ776c",
        "outputId": "cccdb78b-8f25-449d-a937-e9bb752ca248"
      },
      "outputs": [
        {
          "name": "stdout",
          "output_type": "stream",
          "text": [
            "Loan_Status    N     Y\n",
            "CreditHist            \n",
            "0             28   271\n",
            "1            447  2838\n"
          ]
        },
        {
          "data": {
            "image/png": "[encoded data removed]",
            "text/plain": [
              "<Figure size 288x288 with 1 Axes>"
            ]
          },
          "metadata": {
            "needs_background": "light"
          },
          "output_type": "display_data"
        }
      ],
      "source": [
        "print(pd.crosstab(train['CreditHist'],train['Loan_Status']))\n",
        "\n",
        "Credit_History=pd.crosstab(train['CreditHist'],train['Loan_Status'])\n",
        "Credit_History.div(Credit_History.sum(1).astype(float), axis=0).plot(kind=\"bar\",color=['brown','green'], stacked=True, figsize=(4,4))\n",
        "plt.xlabel('CreditHistory')\n",
        "p = plt.ylabel('Percentage')"
      ]
    },
    {
      "cell_type": "code",
      "execution_count": null,
      "metadata": {
        "id": "AFSqWKny776c",
        "outputId": "51e943f0-8853-46bc-9ce2-4ba024c78231"
      },
      "outputs": [
        {
          "name": "stdout",
          "output_type": "stream",
          "text": [
            "Loan_Status                    N     Y\n",
            "TypeOfContract                        \n",
            "AssetFinanceLoans              0     6\n",
            "BusinessWorkingCapitalLoans    1     3\n",
            "MortgageLoans                  6    77\n",
            "PersonalLoans                468  3023\n"
          ]
        },
        {
          "data": {
            "image/png": "[encoded data removed]",
            "text/plain": [
              "<Figure size 432x288 with 1 Axes>"
            ]
          },
          "metadata": {
            "needs_background": "light"
          },
          "output_type": "display_data"
        }
      ],
      "source": [
        "print(pd.crosstab(train['TypeOfContract'],train['Loan_Status']))\n",
        "\n",
        "TypeOfContract=pd.crosstab(train['TypeOfContract'],train['Loan_Status'])\n",
        "TypeOfContract.div(TypeOfContract.sum(1).astype(float), axis=0).plot(kind=\"bar\",color=['brown','green'], stacked=True)\n",
        "plt.xlabel('TypeOfContract')\n",
        "P = plt.ylabel('Percentage')"
      ]
    },
    {
      "cell_type": "markdown",
      "metadata": {
        "id": "nTLxO99t776c"
      },
      "source": [
        "From the bar charts above, it can be inferred that:\n",
        "- proportion of male and female applicants is more or less same for both approved and unapproved loans\n",
        "- proportion of married applicants is higher for the approved loans\n",
        "- distribution of applicants with 0 or 3 dependents is similar across both the categories of Loan_Status\n",
        "- there is nothing significant we can infer from Self_Employed vs Loan_Status plot.\n",
        "- proportion of loans getting approved for graduates is higher compared to non-graduates\n",
        "- it seems people with credit history as 1 are more likely to get their loans approved\n",
        "- proportion of loans getting approved for Asset Finance is higher as compared to that of Business Working Capital.\n",
        "\n",
        "Now let’s visualize numerical independent variables with respect to target variable."
      ]
    },
    {
      "cell_type": "markdown",
      "metadata": {
        "id": "n_uhiDyI776c"
      },
      "source": [
        "**Numerical Independent Variable vs Target Variable**<br>\n",
        "\n",
        "We will try to find the mean income of people for which the loan has been approved vs the mean income of people for which the loan has not been approved."
      ]
    },
    {
      "cell_type": "code",
      "execution_count": null,
      "metadata": {
        "id": "yO62q040776c",
        "outputId": "e6368951-2de9-4fcc-ced0-04f863c706ac"
      },
      "outputs": [
        {
          "name": "stdout",
          "output_type": "stream",
          "text": [
            "Loan_Status\n",
            "N    4841.683684\n",
            "Y    5409.814661\n",
            "Name: GrossIncome, dtype: float64\n"
          ]
        },
        {
          "data": {
            "text/plain": [
              "<matplotlib.axes._subplots.AxesSubplot at 0x22f8573ebc8>"
            ]
          },
          "execution_count": 623,
          "metadata": {},
          "output_type": "execute_result"
        },
        {
          "data": {
            "image/png": "[encoded data removed]",
            "text/plain": [
              "<Figure size 432x288 with 1 Axes>"
            ]
          },
          "metadata": {
            "needs_background": "light"
          },
          "output_type": "display_data"
        }
      ],
      "source": [
        "print(train.groupby('Loan_Status')['GrossIncome'].mean())\n",
        "\n",
        "train.groupby('Loan_Status')['GrossIncome'].mean().plot.bar(color=['brown','green'])"
      ]
    },
    {
      "cell_type": "markdown",
      "metadata": {
        "id": "G2fwlFml776c"
      },
      "source": [
        "Here the y-axis represents the mean applicant income. We don’t see any significant difference in the mean income between those approval and not approved applicant (5293 vs 5463).\n",
        "\n",
        "So, let’s make bins for the applicant income variable based on the values in it and analyze the corresponding loan status for each bin."
      ]
    },
    {
      "cell_type": "code",
      "execution_count": null,
      "metadata": {
        "id": "SYfySHCv776c"
      },
      "outputs": [],
      "source": [
        "# making bins for applicant income variable\n",
        "bins = [0,2500,4000,6000,81000]\n",
        "group = ['Low','Average','High', 'Very high']\n",
        "train['Income_bin'] = pd.cut(df['GrossIncome'],bins,labels=group)"
      ]
    },
    {
      "cell_type": "code",
      "execution_count": null,
      "metadata": {
        "id": "_4A8-McH776c",
        "outputId": "4279d9f7-26f1-4a57-c4d8-978a3b2a292b"
      },
      "outputs": [
        {
          "data": {
            "text/html": [
              "<div>\n",
              "<style scoped>\n",
              "    .dataframe tbody tr th:only-of-type {\n",
              "        vertical-align: middle;\n",
              "    }\n",
              "\n",
              "    .dataframe tbody tr th {\n",
              "        vertical-align: top;\n",
              "    }\n",
              "\n",
              "    .dataframe thead th {\n",
              "        text-align: right;\n",
              "    }\n",
              "</style>\n",
              "<table border=\"1\" class=\"dataframe\">\n",
              "  <thead>\n",
              "    <tr style=\"text-align: right;\">\n",
              "      <th></th>\n",
              "      <th>LoanCode</th>\n",
              "      <th>Gender</th>\n",
              "      <th>MaritalStatus</th>\n",
              "      <th>NumberOfDependants</th>\n",
              "      <th>Proffession</th>\n",
              "      <th>PropertyLocation</th>\n",
              "      <th>GrossIncome</th>\n",
              "      <th>FacilityLimit</th>\n",
              "      <th>GuaranteeAmount</th>\n",
              "      <th>GuaranteeIncome</th>\n",
              "      <th>TypeOfContract</th>\n",
              "      <th>NumberOfInstallments</th>\n",
              "      <th>CreditHist</th>\n",
              "      <th>SelfEmployed</th>\n",
              "      <th>Graduate</th>\n",
              "      <th>Loan_Status</th>\n",
              "      <th>Income_bin</th>\n",
              "    </tr>\n",
              "  </thead>\n",
              "  <tbody>\n",
              "    <tr>\n",
              "      <td>0</td>\n",
              "      <td>MQH1160107000087</td>\n",
              "      <td>Male</td>\n",
              "      <td>Married</td>\n",
              "      <td>0</td>\n",
              "      <td>Director</td>\n",
              "      <td>KADOMA</td>\n",
              "      <td>5849.0</td>\n",
              "      <td>23343.52</td>\n",
              "      <td>23343.52</td>\n",
              "      <td>3083.0</td>\n",
              "      <td>AssetFinanceLoans</td>\n",
              "      <td>30</td>\n",
              "      <td>0</td>\n",
              "      <td>No</td>\n",
              "      <td>Graduate</td>\n",
              "      <td>Y</td>\n",
              "      <td>High</td>\n",
              "    </tr>\n",
              "    <tr>\n",
              "      <td>1</td>\n",
              "      <td>MQH1160126000001</td>\n",
              "      <td>Male</td>\n",
              "      <td>Married</td>\n",
              "      <td>4</td>\n",
              "      <td>InsuranceOfficer</td>\n",
              "      <td>RUWA</td>\n",
              "      <td>4583.0</td>\n",
              "      <td>25000.00</td>\n",
              "      <td>25000.00</td>\n",
              "      <td>6045.0</td>\n",
              "      <td>AssetFinanceLoans</td>\n",
              "      <td>60</td>\n",
              "      <td>1</td>\n",
              "      <td>No</td>\n",
              "      <td>Graduate</td>\n",
              "      <td>Y</td>\n",
              "      <td>High</td>\n",
              "    </tr>\n",
              "    <tr>\n",
              "      <td>2</td>\n",
              "      <td>MQH1180510000001</td>\n",
              "      <td>Male</td>\n",
              "      <td>Married</td>\n",
              "      <td>0</td>\n",
              "      <td>Engineer</td>\n",
              "      <td>HARARE</td>\n",
              "      <td>3000.0</td>\n",
              "      <td>8405.81</td>\n",
              "      <td>8405.81</td>\n",
              "      <td>5250.0</td>\n",
              "      <td>AssetFinanceLoans</td>\n",
              "      <td>60</td>\n",
              "      <td>1</td>\n",
              "      <td>No</td>\n",
              "      <td>Graduate</td>\n",
              "      <td>Y</td>\n",
              "      <td>Average</td>\n",
              "    </tr>\n",
              "    <tr>\n",
              "      <td>3</td>\n",
              "      <td>MQH1190805000001</td>\n",
              "      <td>Female</td>\n",
              "      <td>Single</td>\n",
              "      <td>3</td>\n",
              "      <td>InsuranceOfficer</td>\n",
              "      <td>HARARE</td>\n",
              "      <td>2583.0</td>\n",
              "      <td>14257.28</td>\n",
              "      <td>14257.28</td>\n",
              "      <td>14683.0</td>\n",
              "      <td>AssetFinanceLoans</td>\n",
              "      <td>60</td>\n",
              "      <td>1</td>\n",
              "      <td>No</td>\n",
              "      <td>Graduate</td>\n",
              "      <td>Y</td>\n",
              "      <td>Average</td>\n",
              "    </tr>\n",
              "    <tr>\n",
              "      <td>4</td>\n",
              "      <td>QQH1130315000001</td>\n",
              "      <td>Male</td>\n",
              "      <td>Married</td>\n",
              "      <td>0</td>\n",
              "      <td>Others</td>\n",
              "      <td>HARARE</td>\n",
              "      <td>6000.0</td>\n",
              "      <td>20000.00</td>\n",
              "      <td>20000.00</td>\n",
              "      <td>4931.0</td>\n",
              "      <td>AssetFinanceLoans</td>\n",
              "      <td>30</td>\n",
              "      <td>0</td>\n",
              "      <td>Yes</td>\n",
              "      <td>Non Graduate</td>\n",
              "      <td>Y</td>\n",
              "      <td>High</td>\n",
              "    </tr>\n",
              "    <tr>\n",
              "      <td>5</td>\n",
              "      <td>QQH1150820000001</td>\n",
              "      <td>Female</td>\n",
              "      <td>Married</td>\n",
              "      <td>0</td>\n",
              "      <td>OperationManager</td>\n",
              "      <td>RUWA</td>\n",
              "      <td>5417.0</td>\n",
              "      <td>35000.00</td>\n",
              "      <td>35000.00</td>\n",
              "      <td>6083.0</td>\n",
              "      <td>AssetFinanceLoans</td>\n",
              "      <td>60</td>\n",
              "      <td>0</td>\n",
              "      <td>No</td>\n",
              "      <td>Graduate</td>\n",
              "      <td>Y</td>\n",
              "      <td>High</td>\n",
              "    </tr>\n",
              "    <tr>\n",
              "      <td>6</td>\n",
              "      <td>MQZ1170602000003</td>\n",
              "      <td>Male</td>\n",
              "      <td>Married</td>\n",
              "      <td>4</td>\n",
              "      <td>IndustrialTechnicians</td>\n",
              "      <td>SHAMVA</td>\n",
              "      <td>2333.0</td>\n",
              "      <td>5100.00</td>\n",
              "      <td>5100.00</td>\n",
              "      <td>2060.0</td>\n",
              "      <td>PersonalLoans</td>\n",
              "      <td>30</td>\n",
              "      <td>0</td>\n",
              "      <td>No</td>\n",
              "      <td>Graduate</td>\n",
              "      <td>Y</td>\n",
              "      <td>Low</td>\n",
              "    </tr>\n",
              "    <tr>\n",
              "      <td>7</td>\n",
              "      <td>MQZ1171101000001</td>\n",
              "      <td>Male</td>\n",
              "      <td>Married</td>\n",
              "      <td>5</td>\n",
              "      <td>Others</td>\n",
              "      <td>HARARE</td>\n",
              "      <td>3036.0</td>\n",
              "      <td>2170.00</td>\n",
              "      <td>2170.00</td>\n",
              "      <td>3481.0</td>\n",
              "      <td>PersonalLoans</td>\n",
              "      <td>30</td>\n",
              "      <td>0</td>\n",
              "      <td>Yes</td>\n",
              "      <td>Non Graduate</td>\n",
              "      <td>Y</td>\n",
              "      <td>Average</td>\n",
              "    </tr>\n",
              "  </tbody>\n",
              "</table>\n",
              "</div>"
            ],
            "text/plain": [
              "           LoanCode  Gender MaritalStatus  NumberOfDependants  \\\n",
              "0  MQH1160107000087    Male       Married                   0   \n",
              "1  MQH1160126000001    Male       Married                   4   \n",
              "2  MQH1180510000001    Male       Married                   0   \n",
              "3  MQH1190805000001  Female        Single                   3   \n",
              "4  QQH1130315000001    Male       Married                   0   \n",
              "5  QQH1150820000001  Female       Married                   0   \n",
              "6  MQZ1170602000003    Male       Married                   4   \n",
              "7  MQZ1171101000001    Male       Married                   5   \n",
              "\n",
              "                           Proffession PropertyLocation  GrossIncome  \\\n",
              "0                             Director           KADOMA       5849.0   \n",
              "1                     InsuranceOfficer             RUWA       4583.0   \n",
              "2  Engineer                                      HARARE       3000.0   \n",
              "3                     InsuranceOfficer           HARARE       2583.0   \n",
              "4                               Others           HARARE       6000.0   \n",
              "5                     OperationManager             RUWA       5417.0   \n",
              "6  IndustrialTechnicians                         SHAMVA       2333.0   \n",
              "7  Others                                        HARARE       3036.0   \n",
              "\n",
              "   FacilityLimit  GuaranteeAmount  GuaranteeIncome     TypeOfContract  \\\n",
              "0       23343.52         23343.52           3083.0  AssetFinanceLoans   \n",
              "1       25000.00         25000.00           6045.0  AssetFinanceLoans   \n",
              "2        8405.81          8405.81           5250.0  AssetFinanceLoans   \n",
              "3       14257.28         14257.28          14683.0  AssetFinanceLoans   \n",
              "4       20000.00         20000.00           4931.0  AssetFinanceLoans   \n",
              "5       35000.00         35000.00           6083.0  AssetFinanceLoans   \n",
              "6        5100.00          5100.00           2060.0      PersonalLoans   \n",
              "7        2170.00          2170.00           3481.0      PersonalLoans   \n",
              "\n",
              "   NumberOfInstallments  CreditHist SelfEmployed      Graduate Loan_Status  \\\n",
              "0                    30           0           No      Graduate           Y   \n",
              "1                    60           1           No      Graduate           Y   \n",
              "2                    60           1           No      Graduate           Y   \n",
              "3                    60           1           No      Graduate           Y   \n",
              "4                    30           0          Yes  Non Graduate           Y   \n",
              "5                    60           0           No      Graduate           Y   \n",
              "6                    30           0           No      Graduate           Y   \n",
              "7                    30           0          Yes  Non Graduate           Y   \n",
              "\n",
              "  Income_bin  \n",
              "0       High  \n",
              "1       High  \n",
              "2    Average  \n",
              "3    Average  \n",
              "4       High  \n",
              "5       High  \n",
              "6        Low  \n",
              "7    Average  "
            ]
          },
          "execution_count": 625,
          "metadata": {},
          "output_type": "execute_result"
        }
      ],
      "source": [
        "# take a look at the train set\n",
        "train.head(8)"
      ]
    },
    {
      "cell_type": "code",
      "execution_count": null,
      "metadata": {
        "id": "PHa3OeDe776c",
        "outputId": "e04b2b12-eb5f-4de1-fe64-717eee0bf090"
      },
      "outputs": [
        {
          "name": "stdout",
          "output_type": "stream",
          "text": [
            "Loan_Status    N     Y\n",
            "Income_bin            \n",
            "Low          107   558\n",
            "Average      176  1135\n",
            "High          99   719\n",
            "Very high     93   688\n"
          ]
        },
        {
          "data": {
            "image/png": "[encoded data removed]",
            "text/plain": [
              "<Figure size 432x288 with 1 Axes>"
            ]
          },
          "metadata": {
            "needs_background": "light"
          },
          "output_type": "display_data"
        }
      ],
      "source": [
        "print(pd.crosstab(train['Income_bin'],train['Loan_Status']))\n",
        "\n",
        "Income_bin = pd.crosstab(train['Income_bin'],train['Loan_Status'])\n",
        "Income_bin.div(Income_bin.sum(1).astype(float), axis=0).plot(kind=\"bar\",color=['brown','green'], stacked=True)\n",
        "plt.xlabel('GrossIncome_for_Applicant')\n",
        "P = plt.ylabel('Percentage')"
      ]
    },
    {
      "cell_type": "markdown",
      "metadata": {
        "id": "Iz6xJzTv776d"
      },
      "source": [
        "It can be inferred that Applicant Gross income does not affect the chances of loan approval which contradicts our hypothesis in which we assumed that if the applicant gross income is high the chances of loan approval will also be high.\n",
        "\n",
        "We will analyze the Guarantee income and Facility Limit (loan amount) variable in similar manner."
      ]
    },
    {
      "cell_type": "code",
      "execution_count": null,
      "metadata": {
        "id": "ePWo1Q-l776d"
      },
      "outputs": [],
      "source": [
        "# making bins for Guarantee income variable\n",
        "bins = [0,1000,3000,42000]\n",
        "group = ['Low','Average','High']\n",
        "train['GuaranteeIncome_bin'] = pd.cut(df['GuaranteeIncome'],bins,labels=group)"
      ]
    },
    {
      "cell_type": "code",
      "execution_count": null,
      "metadata": {
        "id": "89hZ8KJT776d",
        "outputId": "49b5d6c4-cab0-4695-c9ce-bc034af3535d"
      },
      "outputs": [
        {
          "data": {
            "image/png": "[encoded data removed]",
            "text/plain": [
              "<Figure size 432x288 with 1 Axes>"
            ]
          },
          "metadata": {
            "needs_background": "light"
          },
          "output_type": "display_data"
        }
      ],
      "source": [
        "# plot the chart\n",
        "Coapplicant_Income_bin = pd.crosstab(train['GuaranteeIncome_bin'],train['Loan_Status'])\n",
        "Coapplicant_Income_bin.div(Coapplicant_Income_bin.sum(1).astype(float), axis=0).plot(kind=\"bar\",color=['brown','green'], stacked=True)\n",
        "plt.xlabel('GuaranteeIncome')\n",
        "P = plt.ylabel('Percentage')"
      ]
    },
    {
      "cell_type": "code",
      "execution_count": null,
      "metadata": {
        "id": "amb_uWe8776d",
        "outputId": "9600a056-a4f7-4e89-bac1-8dec4f37723c"
      },
      "outputs": [
        {
          "name": "stdout",
          "output_type": "stream",
          "text": [
            "250\n"
          ]
        },
        {
          "data": {
            "text/plain": [
              "('Percentage of GuaranteeIncome = 0 is:', 0.06975446428571429)"
            ]
          },
          "execution_count": 630,
          "metadata": {},
          "output_type": "execute_result"
        }
      ],
      "source": [
        "print(len(train[train[\"GuaranteeIncome\"] == 0]))\n",
        "\"Percentage of GuaranteeIncome = 0 is:\",  len(train[train[\"GuaranteeIncome\"] == 0])/len(train[\"GuaranteeIncome\"])"
      ]
    },
    {
      "cell_type": "markdown",
      "metadata": {
        "id": "yV0oP09C776d"
      },
      "source": [
        "It shows that if coapplicant’s income is less the chances of loan approval are high. But this does not look right. The possible reason behind this may be that most of the applicants don’t have any guarantee, so the coapplicant income for such applicants is 0 and hence the loan approval is not dependent on it. So we can make a new variable in which we will combine the applicant’s and guarantee's income to visualize the combined effect of income on loan approval.\n",
        "\n",
        "Let us combine the Applicant Income and Coapplicant Income and see the combined effect of Total Income on the Loan_Status."
      ]
    },
    {
      "cell_type": "code",
      "execution_count": null,
      "metadata": {
        "id": "A0eg1ZCS776d"
      },
      "outputs": [],
      "source": [
        "# create a new variable\n",
        "train['Total_Income'] = train['GuaranteeIncome'] + train['GuaranteeIncome']"
      ]
    },
    {
      "cell_type": "code",
      "execution_count": null,
      "metadata": {
        "id": "E8335Uka776d"
      },
      "outputs": [],
      "source": [
        "# making bins for Total Income variable\n",
        "bins = [0,3000,4000,6000,81000]\n",
        "group = ['Low','Average','High', 'Very high']\n",
        "train['Total_Income_bin'] = pd.cut(train['Total_Income'],bins,labels=group)"
      ]
    },
    {
      "cell_type": "code",
      "execution_count": null,
      "metadata": {
        "id": "3A4ahmjU776d",
        "outputId": "aafde09a-de21-48c6-ce92-0686ec4eebcd"
      },
      "outputs": [
        {
          "data": {
            "image/png": "[encoded data removed]",
            "text/plain": [
              "<Figure size 432x288 with 1 Axes>"
            ]
          },
          "metadata": {
            "needs_background": "light"
          },
          "output_type": "display_data"
        }
      ],
      "source": [
        "# plot the chart\n",
        "Total_Income_bin = pd.crosstab(train['Total_Income_bin'],train['Loan_Status'])\n",
        "Total_Income_bin.div(Total_Income_bin.sum(1).astype(float), axis=0).plot(kind=\"bar\",color=['brown','green'], stacked=True)\n",
        "plt.xlabel('Total_Income')\n",
        "P = plt.ylabel('Percentage')"
      ]
    },
    {
      "cell_type": "markdown",
      "metadata": {
        "id": "TzEAviK0776d"
      },
      "source": [
        "We can see that Proportion of loans getting approved for applicants having low Total_Income is very less as compared to that of applicants with Average, High and Very High Income. This is more consistent with our hypothesis with applicants with high income  will have more chances of loan approval.\n",
        "\n",
        "Let’s visualize the Facility Limit or Loan amount variable."
      ]
    },
    {
      "cell_type": "code",
      "execution_count": null,
      "metadata": {
        "id": "0maupAKn776d"
      },
      "outputs": [],
      "source": [
        "# making bins for LoanAmount variable\n",
        "bins = [0,2000,3000,80000]\n",
        "group = ['Low','Average','High']\n",
        "train['LoanAmount_bin'] = pd.cut(df['FacilityLimit'],bins,labels=group)"
      ]
    },
    {
      "cell_type": "code",
      "execution_count": null,
      "metadata": {
        "id": "JDTk_QJp776d",
        "outputId": "97332b80-9798-4eaa-99ae-cb420c53419b"
      },
      "outputs": [
        {
          "data": {
            "image/png": "[encoded data removed]",
            "text/plain": [
              "<Figure size 432x288 with 1 Axes>"
            ]
          },
          "metadata": {
            "needs_background": "light"
          },
          "output_type": "display_data"
        }
      ],
      "source": [
        "# plot the chart\n",
        "LoanAmount_bin = pd.crosstab(train['LoanAmount_bin'],train['Loan_Status'])\n",
        "LoanAmount_bin.div(LoanAmount_bin.sum(1).astype(float), axis=0).plot(kind=\"bar\",color=['brown','green'], stacked=True)\n",
        "plt.xlabel('Facility Limit / Loan Amount')\n",
        "P = plt.ylabel('Percentage')"
      ]
    },
    {
      "cell_type": "markdown",
      "metadata": {
        "id": "WUXXJwUx776d"
      },
      "source": [
        "It can be seen that the proportion of approved loans is higher for Low Loan Amount as compared to that of Average and High Loan Amount which supports our hypothesis in which we considered that the chances of loan approval will be high when the loan amount is less.\n",
        "\n",
        "Let’s drop the bins which we created for the exploration part."
      ]
    },
    {
      "cell_type": "code",
      "execution_count": null,
      "metadata": {
        "id": "2DfiL1BS776d",
        "outputId": "7edd1c05-2475-455a-8aa4-ec140a45b696"
      },
      "outputs": [
        {
          "data": {
            "text/html": [
              "<div>\n",
              "<style scoped>\n",
              "    .dataframe tbody tr th:only-of-type {\n",
              "        vertical-align: middle;\n",
              "    }\n",
              "\n",
              "    .dataframe tbody tr th {\n",
              "        vertical-align: top;\n",
              "    }\n",
              "\n",
              "    .dataframe thead th {\n",
              "        text-align: right;\n",
              "    }\n",
              "</style>\n",
              "<table border=\"1\" class=\"dataframe\">\n",
              "  <thead>\n",
              "    <tr style=\"text-align: right;\">\n",
              "      <th></th>\n",
              "      <th>LoanCode</th>\n",
              "      <th>Gender</th>\n",
              "      <th>MaritalStatus</th>\n",
              "      <th>NumberOfDependants</th>\n",
              "      <th>Proffession</th>\n",
              "      <th>PropertyLocation</th>\n",
              "      <th>GrossIncome</th>\n",
              "      <th>FacilityLimit</th>\n",
              "      <th>GuaranteeAmount</th>\n",
              "      <th>GuaranteeIncome</th>\n",
              "      <th>...</th>\n",
              "      <th>NumberOfInstallments</th>\n",
              "      <th>CreditHist</th>\n",
              "      <th>SelfEmployed</th>\n",
              "      <th>Graduate</th>\n",
              "      <th>Loan_Status</th>\n",
              "      <th>Income_bin</th>\n",
              "      <th>GuaranteeIncome_bin</th>\n",
              "      <th>Total_Income</th>\n",
              "      <th>Total_Income_bin</th>\n",
              "      <th>LoanAmount_bin</th>\n",
              "    </tr>\n",
              "  </thead>\n",
              "  <tbody>\n",
              "    <tr>\n",
              "      <td>0</td>\n",
              "      <td>MQH1160107000087</td>\n",
              "      <td>Male</td>\n",
              "      <td>Married</td>\n",
              "      <td>0</td>\n",
              "      <td>Director</td>\n",
              "      <td>KADOMA</td>\n",
              "      <td>5849.0</td>\n",
              "      <td>23343.52</td>\n",
              "      <td>23343.52</td>\n",
              "      <td>3083.0</td>\n",
              "      <td>...</td>\n",
              "      <td>30</td>\n",
              "      <td>0</td>\n",
              "      <td>No</td>\n",
              "      <td>Graduate</td>\n",
              "      <td>Y</td>\n",
              "      <td>High</td>\n",
              "      <td>High</td>\n",
              "      <td>6166.0</td>\n",
              "      <td>Very high</td>\n",
              "      <td>High</td>\n",
              "    </tr>\n",
              "    <tr>\n",
              "      <td>1</td>\n",
              "      <td>MQH1160126000001</td>\n",
              "      <td>Male</td>\n",
              "      <td>Married</td>\n",
              "      <td>4</td>\n",
              "      <td>InsuranceOfficer</td>\n",
              "      <td>RUWA</td>\n",
              "      <td>4583.0</td>\n",
              "      <td>25000.00</td>\n",
              "      <td>25000.00</td>\n",
              "      <td>6045.0</td>\n",
              "      <td>...</td>\n",
              "      <td>60</td>\n",
              "      <td>1</td>\n",
              "      <td>No</td>\n",
              "      <td>Graduate</td>\n",
              "      <td>Y</td>\n",
              "      <td>High</td>\n",
              "      <td>High</td>\n",
              "      <td>12090.0</td>\n",
              "      <td>Very high</td>\n",
              "      <td>High</td>\n",
              "    </tr>\n",
              "    <tr>\n",
              "      <td>2</td>\n",
              "      <td>MQH1180510000001</td>\n",
              "      <td>Male</td>\n",
              "      <td>Married</td>\n",
              "      <td>0</td>\n",
              "      <td>Engineer</td>\n",
              "      <td>HARARE</td>\n",
              "      <td>3000.0</td>\n",
              "      <td>8405.81</td>\n",
              "      <td>8405.81</td>\n",
              "      <td>5250.0</td>\n",
              "      <td>...</td>\n",
              "      <td>60</td>\n",
              "      <td>1</td>\n",
              "      <td>No</td>\n",
              "      <td>Graduate</td>\n",
              "      <td>Y</td>\n",
              "      <td>Average</td>\n",
              "      <td>High</td>\n",
              "      <td>10500.0</td>\n",
              "      <td>Very high</td>\n",
              "      <td>High</td>\n",
              "    </tr>\n",
              "    <tr>\n",
              "      <td>3</td>\n",
              "      <td>MQH1190805000001</td>\n",
              "      <td>Female</td>\n",
              "      <td>Single</td>\n",
              "      <td>3</td>\n",
              "      <td>InsuranceOfficer</td>\n",
              "      <td>HARARE</td>\n",
              "      <td>2583.0</td>\n",
              "      <td>14257.28</td>\n",
              "      <td>14257.28</td>\n",
              "      <td>14683.0</td>\n",
              "      <td>...</td>\n",
              "      <td>60</td>\n",
              "      <td>1</td>\n",
              "      <td>No</td>\n",
              "      <td>Graduate</td>\n",
              "      <td>Y</td>\n",
              "      <td>Average</td>\n",
              "      <td>High</td>\n",
              "      <td>29366.0</td>\n",
              "      <td>Very high</td>\n",
              "      <td>High</td>\n",
              "    </tr>\n",
              "    <tr>\n",
              "      <td>4</td>\n",
              "      <td>QQH1130315000001</td>\n",
              "      <td>Male</td>\n",
              "      <td>Married</td>\n",
              "      <td>0</td>\n",
              "      <td>Others</td>\n",
              "      <td>HARARE</td>\n",
              "      <td>6000.0</td>\n",
              "      <td>20000.00</td>\n",
              "      <td>20000.00</td>\n",
              "      <td>4931.0</td>\n",
              "      <td>...</td>\n",
              "      <td>30</td>\n",
              "      <td>0</td>\n",
              "      <td>Yes</td>\n",
              "      <td>Non Graduate</td>\n",
              "      <td>Y</td>\n",
              "      <td>High</td>\n",
              "      <td>High</td>\n",
              "      <td>9862.0</td>\n",
              "      <td>Very high</td>\n",
              "      <td>High</td>\n",
              "    </tr>\n",
              "  </tbody>\n",
              "</table>\n",
              "<p>5 rows × 21 columns</p>\n",
              "</div>"
            ],
            "text/plain": [
              "           LoanCode  Gender MaritalStatus  NumberOfDependants  \\\n",
              "0  MQH1160107000087    Male       Married                   0   \n",
              "1  MQH1160126000001    Male       Married                   4   \n",
              "2  MQH1180510000001    Male       Married                   0   \n",
              "3  MQH1190805000001  Female        Single                   3   \n",
              "4  QQH1130315000001    Male       Married                   0   \n",
              "\n",
              "                           Proffession PropertyLocation  GrossIncome  \\\n",
              "0                             Director           KADOMA       5849.0   \n",
              "1                     InsuranceOfficer             RUWA       4583.0   \n",
              "2  Engineer                                      HARARE       3000.0   \n",
              "3                     InsuranceOfficer           HARARE       2583.0   \n",
              "4                               Others           HARARE       6000.0   \n",
              "\n",
              "   FacilityLimit  GuaranteeAmount  GuaranteeIncome  ... NumberOfInstallments  \\\n",
              "0       23343.52         23343.52           3083.0  ...                   30   \n",
              "1       25000.00         25000.00           6045.0  ...                   60   \n",
              "2        8405.81          8405.81           5250.0  ...                   60   \n",
              "3       14257.28         14257.28          14683.0  ...                   60   \n",
              "4       20000.00         20000.00           4931.0  ...                   30   \n",
              "\n",
              "   CreditHist  SelfEmployed      Graduate Loan_Status Income_bin  \\\n",
              "0           0            No      Graduate           Y       High   \n",
              "1           1            No      Graduate           Y       High   \n",
              "2           1            No      Graduate           Y    Average   \n",
              "3           1            No      Graduate           Y    Average   \n",
              "4           0           Yes  Non Graduate           Y       High   \n",
              "\n",
              "  GuaranteeIncome_bin Total_Income  Total_Income_bin LoanAmount_bin  \n",
              "0                High       6166.0         Very high           High  \n",
              "1                High      12090.0         Very high           High  \n",
              "2                High      10500.0         Very high           High  \n",
              "3                High      29366.0         Very high           High  \n",
              "4                High       9862.0         Very high           High  \n",
              "\n",
              "[5 rows x 21 columns]"
            ]
          },
          "execution_count": 636,
          "metadata": {},
          "output_type": "execute_result"
        }
      ],
      "source": [
        "# before dropping\n",
        "train.head()"
      ]
    },
    {
      "cell_type": "code",
      "execution_count": null,
      "metadata": {
        "id": "J9-Tz57q776e"
      },
      "outputs": [],
      "source": [
        "# drop the new variable of bins\n",
        "train = train.drop(['Income_bin', 'GuaranteeIncome_bin', 'LoanAmount_bin', 'Total_Income_bin', 'Total_Income'], axis=1)\n",
        "\n"
      ]
    },
    {
      "cell_type": "code",
      "execution_count": null,
      "metadata": {
        "id": "L3NVy3NX776e",
        "outputId": "d106e90b-7f3c-4e54-926f-468cae76820b"
      },
      "outputs": [
        {
          "data": {
            "text/html": [
              "<div>\n",
              "<style scoped>\n",
              "    .dataframe tbody tr th:only-of-type {\n",
              "        vertical-align: middle;\n",
              "    }\n",
              "\n",
              "    .dataframe tbody tr th {\n",
              "        vertical-align: top;\n",
              "    }\n",
              "\n",
              "    .dataframe thead th {\n",
              "        text-align: right;\n",
              "    }\n",
              "</style>\n",
              "<table border=\"1\" class=\"dataframe\">\n",
              "  <thead>\n",
              "    <tr style=\"text-align: right;\">\n",
              "      <th></th>\n",
              "      <th>LoanCode</th>\n",
              "      <th>Gender</th>\n",
              "      <th>MaritalStatus</th>\n",
              "      <th>NumberOfDependants</th>\n",
              "      <th>Proffession</th>\n",
              "      <th>PropertyLocation</th>\n",
              "      <th>GrossIncome</th>\n",
              "      <th>FacilityLimit</th>\n",
              "      <th>GuaranteeAmount</th>\n",
              "      <th>GuaranteeIncome</th>\n",
              "      <th>TypeOfContract</th>\n",
              "      <th>NumberOfInstallments</th>\n",
              "      <th>CreditHist</th>\n",
              "      <th>SelfEmployed</th>\n",
              "      <th>Graduate</th>\n",
              "      <th>Loan_Status</th>\n",
              "    </tr>\n",
              "  </thead>\n",
              "  <tbody>\n",
              "    <tr>\n",
              "      <td>0</td>\n",
              "      <td>MQH1160107000087</td>\n",
              "      <td>Male</td>\n",
              "      <td>Married</td>\n",
              "      <td>0</td>\n",
              "      <td>Director</td>\n",
              "      <td>KADOMA</td>\n",
              "      <td>5849.0</td>\n",
              "      <td>23343.52</td>\n",
              "      <td>23343.52</td>\n",
              "      <td>3083.0</td>\n",
              "      <td>AssetFinanceLoans</td>\n",
              "      <td>30</td>\n",
              "      <td>0</td>\n",
              "      <td>No</td>\n",
              "      <td>Graduate</td>\n",
              "      <td>Y</td>\n",
              "    </tr>\n",
              "    <tr>\n",
              "      <td>1</td>\n",
              "      <td>MQH1160126000001</td>\n",
              "      <td>Male</td>\n",
              "      <td>Married</td>\n",
              "      <td>4</td>\n",
              "      <td>InsuranceOfficer</td>\n",
              "      <td>RUWA</td>\n",
              "      <td>4583.0</td>\n",
              "      <td>25000.00</td>\n",
              "      <td>25000.00</td>\n",
              "      <td>6045.0</td>\n",
              "      <td>AssetFinanceLoans</td>\n",
              "      <td>60</td>\n",
              "      <td>1</td>\n",
              "      <td>No</td>\n",
              "      <td>Graduate</td>\n",
              "      <td>Y</td>\n",
              "    </tr>\n",
              "    <tr>\n",
              "      <td>2</td>\n",
              "      <td>MQH1180510000001</td>\n",
              "      <td>Male</td>\n",
              "      <td>Married</td>\n",
              "      <td>0</td>\n",
              "      <td>Engineer</td>\n",
              "      <td>HARARE</td>\n",
              "      <td>3000.0</td>\n",
              "      <td>8405.81</td>\n",
              "      <td>8405.81</td>\n",
              "      <td>5250.0</td>\n",
              "      <td>AssetFinanceLoans</td>\n",
              "      <td>60</td>\n",
              "      <td>1</td>\n",
              "      <td>No</td>\n",
              "      <td>Graduate</td>\n",
              "      <td>Y</td>\n",
              "    </tr>\n",
              "    <tr>\n",
              "      <td>3</td>\n",
              "      <td>MQH1190805000001</td>\n",
              "      <td>Female</td>\n",
              "      <td>Single</td>\n",
              "      <td>3</td>\n",
              "      <td>InsuranceOfficer</td>\n",
              "      <td>HARARE</td>\n",
              "      <td>2583.0</td>\n",
              "      <td>14257.28</td>\n",
              "      <td>14257.28</td>\n",
              "      <td>14683.0</td>\n",
              "      <td>AssetFinanceLoans</td>\n",
              "      <td>60</td>\n",
              "      <td>1</td>\n",
              "      <td>No</td>\n",
              "      <td>Graduate</td>\n",
              "      <td>Y</td>\n",
              "    </tr>\n",
              "    <tr>\n",
              "      <td>4</td>\n",
              "      <td>QQH1130315000001</td>\n",
              "      <td>Male</td>\n",
              "      <td>Married</td>\n",
              "      <td>0</td>\n",
              "      <td>Others</td>\n",
              "      <td>HARARE</td>\n",
              "      <td>6000.0</td>\n",
              "      <td>20000.00</td>\n",
              "      <td>20000.00</td>\n",
              "      <td>4931.0</td>\n",
              "      <td>AssetFinanceLoans</td>\n",
              "      <td>30</td>\n",
              "      <td>0</td>\n",
              "      <td>Yes</td>\n",
              "      <td>Non Graduate</td>\n",
              "      <td>Y</td>\n",
              "    </tr>\n",
              "  </tbody>\n",
              "</table>\n",
              "</div>"
            ],
            "text/plain": [
              "           LoanCode  Gender MaritalStatus  NumberOfDependants  \\\n",
              "0  MQH1160107000087    Male       Married                   0   \n",
              "1  MQH1160126000001    Male       Married                   4   \n",
              "2  MQH1180510000001    Male       Married                   0   \n",
              "3  MQH1190805000001  Female        Single                   3   \n",
              "4  QQH1130315000001    Male       Married                   0   \n",
              "\n",
              "                           Proffession PropertyLocation  GrossIncome  \\\n",
              "0                             Director           KADOMA       5849.0   \n",
              "1                     InsuranceOfficer             RUWA       4583.0   \n",
              "2  Engineer                                      HARARE       3000.0   \n",
              "3                     InsuranceOfficer           HARARE       2583.0   \n",
              "4                               Others           HARARE       6000.0   \n",
              "\n",
              "   FacilityLimit  GuaranteeAmount  GuaranteeIncome     TypeOfContract  \\\n",
              "0       23343.52         23343.52           3083.0  AssetFinanceLoans   \n",
              "1       25000.00         25000.00           6045.0  AssetFinanceLoans   \n",
              "2        8405.81          8405.81           5250.0  AssetFinanceLoans   \n",
              "3       14257.28         14257.28          14683.0  AssetFinanceLoans   \n",
              "4       20000.00         20000.00           4931.0  AssetFinanceLoans   \n",
              "\n",
              "   NumberOfInstallments  CreditHist SelfEmployed      Graduate Loan_Status  \n",
              "0                    30           0           No      Graduate           Y  \n",
              "1                    60           1           No      Graduate           Y  \n",
              "2                    60           1           No      Graduate           Y  \n",
              "3                    60           1           No      Graduate           Y  \n",
              "4                    30           0          Yes  Non Graduate           Y  "
            ]
          },
          "execution_count": 638,
          "metadata": {},
          "output_type": "execute_result"
        }
      ],
      "source": [
        "# after dropping\n",
        "train.head()"
      ]
    },
    {
      "cell_type": "markdown",
      "metadata": {
        "id": "2s_4V55B776e"
      },
      "source": [
        "We will convert the target variable’s categories into 0 and 1 so that we can find its correlation with numerical variables. One more reason to do so is few models like logistic regression takes only numeric values as input. We will replace N with 0 and Y with 1."
      ]
    },
    {
      "cell_type": "code",
      "execution_count": null,
      "metadata": {
        "id": "3L1teA5U776e"
      },
      "outputs": [],
      "source": [
        "# replacing Y and N in Loan_Status variable with 1 and 0 respectively\n",
        "train['Loan_Status'].replace('N', 0, inplace=True)\n",
        "train['Loan_Status'].replace('Y', 1, inplace=True)"
      ]
    },
    {
      "cell_type": "code",
      "execution_count": null,
      "metadata": {
        "id": "bvyJcjOn776e",
        "outputId": "6326796a-5076-4cdc-e2ee-8541fde6d99c"
      },
      "outputs": [
        {
          "data": {
            "text/html": [
              "<div>\n",
              "<style scoped>\n",
              "    .dataframe tbody tr th:only-of-type {\n",
              "        vertical-align: middle;\n",
              "    }\n",
              "\n",
              "    .dataframe tbody tr th {\n",
              "        vertical-align: top;\n",
              "    }\n",
              "\n",
              "    .dataframe thead th {\n",
              "        text-align: right;\n",
              "    }\n",
              "</style>\n",
              "<table border=\"1\" class=\"dataframe\">\n",
              "  <thead>\n",
              "    <tr style=\"text-align: right;\">\n",
              "      <th></th>\n",
              "      <th>LoanCode</th>\n",
              "      <th>Gender</th>\n",
              "      <th>MaritalStatus</th>\n",
              "      <th>NumberOfDependants</th>\n",
              "      <th>Proffession</th>\n",
              "      <th>PropertyLocation</th>\n",
              "      <th>GrossIncome</th>\n",
              "      <th>FacilityLimit</th>\n",
              "      <th>GuaranteeAmount</th>\n",
              "      <th>GuaranteeIncome</th>\n",
              "      <th>TypeOfContract</th>\n",
              "      <th>NumberOfInstallments</th>\n",
              "      <th>CreditHist</th>\n",
              "      <th>SelfEmployed</th>\n",
              "      <th>Graduate</th>\n",
              "      <th>Loan_Status</th>\n",
              "    </tr>\n",
              "  </thead>\n",
              "  <tbody>\n",
              "    <tr>\n",
              "      <td>0</td>\n",
              "      <td>MQH1160107000087</td>\n",
              "      <td>Male</td>\n",
              "      <td>Married</td>\n",
              "      <td>0</td>\n",
              "      <td>Director</td>\n",
              "      <td>KADOMA</td>\n",
              "      <td>5849.0</td>\n",
              "      <td>23343.52</td>\n",
              "      <td>23343.52</td>\n",
              "      <td>3083.0</td>\n",
              "      <td>AssetFinanceLoans</td>\n",
              "      <td>30</td>\n",
              "      <td>0</td>\n",
              "      <td>No</td>\n",
              "      <td>Graduate</td>\n",
              "      <td>1</td>\n",
              "    </tr>\n",
              "    <tr>\n",
              "      <td>1</td>\n",
              "      <td>MQH1160126000001</td>\n",
              "      <td>Male</td>\n",
              "      <td>Married</td>\n",
              "      <td>4</td>\n",
              "      <td>InsuranceOfficer</td>\n",
              "      <td>RUWA</td>\n",
              "      <td>4583.0</td>\n",
              "      <td>25000.00</td>\n",
              "      <td>25000.00</td>\n",
              "      <td>6045.0</td>\n",
              "      <td>AssetFinanceLoans</td>\n",
              "      <td>60</td>\n",
              "      <td>1</td>\n",
              "      <td>No</td>\n",
              "      <td>Graduate</td>\n",
              "      <td>1</td>\n",
              "    </tr>\n",
              "    <tr>\n",
              "      <td>2</td>\n",
              "      <td>MQH1180510000001</td>\n",
              "      <td>Male</td>\n",
              "      <td>Married</td>\n",
              "      <td>0</td>\n",
              "      <td>Engineer</td>\n",
              "      <td>HARARE</td>\n",
              "      <td>3000.0</td>\n",
              "      <td>8405.81</td>\n",
              "      <td>8405.81</td>\n",
              "      <td>5250.0</td>\n",
              "      <td>AssetFinanceLoans</td>\n",
              "      <td>60</td>\n",
              "      <td>1</td>\n",
              "      <td>No</td>\n",
              "      <td>Graduate</td>\n",
              "      <td>1</td>\n",
              "    </tr>\n",
              "    <tr>\n",
              "      <td>3</td>\n",
              "      <td>MQH1190805000001</td>\n",
              "      <td>Female</td>\n",
              "      <td>Single</td>\n",
              "      <td>3</td>\n",
              "      <td>InsuranceOfficer</td>\n",
              "      <td>HARARE</td>\n",
              "      <td>2583.0</td>\n",
              "      <td>14257.28</td>\n",
              "      <td>14257.28</td>\n",
              "      <td>14683.0</td>\n",
              "      <td>AssetFinanceLoans</td>\n",
              "      <td>60</td>\n",
              "      <td>1</td>\n",
              "      <td>No</td>\n",
              "      <td>Graduate</td>\n",
              "      <td>1</td>\n",
              "    </tr>\n",
              "    <tr>\n",
              "      <td>4</td>\n",
              "      <td>QQH1130315000001</td>\n",
              "      <td>Male</td>\n",
              "      <td>Married</td>\n",
              "      <td>0</td>\n",
              "      <td>Others</td>\n",
              "      <td>HARARE</td>\n",
              "      <td>6000.0</td>\n",
              "      <td>20000.00</td>\n",
              "      <td>20000.00</td>\n",
              "      <td>4931.0</td>\n",
              "      <td>AssetFinanceLoans</td>\n",
              "      <td>30</td>\n",
              "      <td>0</td>\n",
              "      <td>Yes</td>\n",
              "      <td>Non Graduate</td>\n",
              "      <td>1</td>\n",
              "    </tr>\n",
              "  </tbody>\n",
              "</table>\n",
              "</div>"
            ],
            "text/plain": [
              "           LoanCode  Gender MaritalStatus  NumberOfDependants  \\\n",
              "0  MQH1160107000087    Male       Married                   0   \n",
              "1  MQH1160126000001    Male       Married                   4   \n",
              "2  MQH1180510000001    Male       Married                   0   \n",
              "3  MQH1190805000001  Female        Single                   3   \n",
              "4  QQH1130315000001    Male       Married                   0   \n",
              "\n",
              "                           Proffession PropertyLocation  GrossIncome  \\\n",
              "0                             Director           KADOMA       5849.0   \n",
              "1                     InsuranceOfficer             RUWA       4583.0   \n",
              "2  Engineer                                      HARARE       3000.0   \n",
              "3                     InsuranceOfficer           HARARE       2583.0   \n",
              "4                               Others           HARARE       6000.0   \n",
              "\n",
              "   FacilityLimit  GuaranteeAmount  GuaranteeIncome     TypeOfContract  \\\n",
              "0       23343.52         23343.52           3083.0  AssetFinanceLoans   \n",
              "1       25000.00         25000.00           6045.0  AssetFinanceLoans   \n",
              "2        8405.81          8405.81           5250.0  AssetFinanceLoans   \n",
              "3       14257.28         14257.28          14683.0  AssetFinanceLoans   \n",
              "4       20000.00         20000.00           4931.0  AssetFinanceLoans   \n",
              "\n",
              "   NumberOfInstallments  CreditHist SelfEmployed      Graduate  Loan_Status  \n",
              "0                    30           0           No      Graduate            1  \n",
              "1                    60           1           No      Graduate            1  \n",
              "2                    60           1           No      Graduate            1  \n",
              "3                    60           1           No      Graduate            1  \n",
              "4                    30           0          Yes  Non Graduate            1  "
            ]
          },
          "execution_count": 640,
          "metadata": {},
          "output_type": "execute_result"
        }
      ],
      "source": [
        "# check the dataset\n",
        "train.head()"
      ]
    },
    {
      "cell_type": "markdown",
      "metadata": {
        "id": "QU6JDokZ776e"
      },
      "source": [
        "Now lets look at the correlation between all the numerical variables. We can use the `corr()` to compute pairwise correlation of columns, excluding NA/null values using pearson correlation coefficient. Then we will use the heat map to visualize the correlation. Heatmaps visualize data through variations in coloring. The variables with darker color means their correlation is more."
      ]
    },
    {
      "cell_type": "code",
      "execution_count": null,
      "metadata": {
        "id": "_2387ujq776e",
        "outputId": "1e44aa3f-8cf6-4ba4-856c-b705766e3f56"
      },
      "outputs": [
        {
          "data": {
            "text/html": [
              "<div>\n",
              "<style scoped>\n",
              "    .dataframe tbody tr th:only-of-type {\n",
              "        vertical-align: middle;\n",
              "    }\n",
              "\n",
              "    .dataframe tbody tr th {\n",
              "        vertical-align: top;\n",
              "    }\n",
              "\n",
              "    .dataframe thead th {\n",
              "        text-align: right;\n",
              "    }\n",
              "</style>\n",
              "<table border=\"1\" class=\"dataframe\">\n",
              "  <thead>\n",
              "    <tr style=\"text-align: right;\">\n",
              "      <th></th>\n",
              "      <th>NumberOfDependants</th>\n",
              "      <th>GrossIncome</th>\n",
              "      <th>FacilityLimit</th>\n",
              "      <th>GuaranteeAmount</th>\n",
              "      <th>GuaranteeIncome</th>\n",
              "      <th>NumberOfInstallments</th>\n",
              "      <th>CreditHist</th>\n",
              "      <th>Loan_Status</th>\n",
              "    </tr>\n",
              "  </thead>\n",
              "  <tbody>\n",
              "    <tr>\n",
              "      <td>NumberOfDependants</td>\n",
              "      <td>1.000000</td>\n",
              "      <td>0.036573</td>\n",
              "      <td>-0.007071</td>\n",
              "      <td>-0.007071</td>\n",
              "      <td>-0.023821</td>\n",
              "      <td>-0.042035</td>\n",
              "      <td>-0.027408</td>\n",
              "      <td>0.093454</td>\n",
              "    </tr>\n",
              "    <tr>\n",
              "      <td>GrossIncome</td>\n",
              "      <td>0.036573</td>\n",
              "      <td>1.000000</td>\n",
              "      <td>0.000261</td>\n",
              "      <td>0.000261</td>\n",
              "      <td>0.012516</td>\n",
              "      <td>-0.008144</td>\n",
              "      <td>0.013212</td>\n",
              "      <td>0.031257</td>\n",
              "    </tr>\n",
              "    <tr>\n",
              "      <td>FacilityLimit</td>\n",
              "      <td>-0.007071</td>\n",
              "      <td>0.000261</td>\n",
              "      <td>1.000000</td>\n",
              "      <td>1.000000</td>\n",
              "      <td>0.000936</td>\n",
              "      <td>0.221528</td>\n",
              "      <td>0.053026</td>\n",
              "      <td>0.021870</td>\n",
              "    </tr>\n",
              "    <tr>\n",
              "      <td>GuaranteeAmount</td>\n",
              "      <td>-0.007071</td>\n",
              "      <td>0.000261</td>\n",
              "      <td>1.000000</td>\n",
              "      <td>1.000000</td>\n",
              "      <td>0.000936</td>\n",
              "      <td>0.221528</td>\n",
              "      <td>0.053026</td>\n",
              "      <td>0.021870</td>\n",
              "    </tr>\n",
              "    <tr>\n",
              "      <td>GuaranteeIncome</td>\n",
              "      <td>-0.023821</td>\n",
              "      <td>0.012516</td>\n",
              "      <td>0.000936</td>\n",
              "      <td>0.000936</td>\n",
              "      <td>1.000000</td>\n",
              "      <td>-0.065561</td>\n",
              "      <td>-0.013105</td>\n",
              "      <td>-0.031436</td>\n",
              "    </tr>\n",
              "    <tr>\n",
              "      <td>NumberOfInstallments</td>\n",
              "      <td>-0.042035</td>\n",
              "      <td>-0.008144</td>\n",
              "      <td>0.221528</td>\n",
              "      <td>0.221528</td>\n",
              "      <td>-0.065561</td>\n",
              "      <td>1.000000</td>\n",
              "      <td>0.109888</td>\n",
              "      <td>0.019711</td>\n",
              "    </tr>\n",
              "    <tr>\n",
              "      <td>CreditHist</td>\n",
              "      <td>-0.027408</td>\n",
              "      <td>0.013212</td>\n",
              "      <td>0.053026</td>\n",
              "      <td>0.053026</td>\n",
              "      <td>-0.013105</td>\n",
              "      <td>0.109888</td>\n",
              "      <td>1.000000</td>\n",
              "      <td>-0.034601</td>\n",
              "    </tr>\n",
              "    <tr>\n",
              "      <td>Loan_Status</td>\n",
              "      <td>0.093454</td>\n",
              "      <td>0.031257</td>\n",
              "      <td>0.021870</td>\n",
              "      <td>0.021870</td>\n",
              "      <td>-0.031436</td>\n",
              "      <td>0.019711</td>\n",
              "      <td>-0.034601</td>\n",
              "      <td>1.000000</td>\n",
              "    </tr>\n",
              "  </tbody>\n",
              "</table>\n",
              "</div>"
            ],
            "text/plain": [
              "                      NumberOfDependants  GrossIncome  FacilityLimit  \\\n",
              "NumberOfDependants              1.000000     0.036573      -0.007071   \n",
              "GrossIncome                     0.036573     1.000000       0.000261   \n",
              "FacilityLimit                  -0.007071     0.000261       1.000000   \n",
              "GuaranteeAmount                -0.007071     0.000261       1.000000   \n",
              "GuaranteeIncome                -0.023821     0.012516       0.000936   \n",
              "NumberOfInstallments           -0.042035    -0.008144       0.221528   \n",
              "CreditHist                     -0.027408     0.013212       0.053026   \n",
              "Loan_Status                     0.093454     0.031257       0.021870   \n",
              "\n",
              "                      GuaranteeAmount  GuaranteeIncome  NumberOfInstallments  \\\n",
              "NumberOfDependants          -0.007071        -0.023821             -0.042035   \n",
              "GrossIncome                  0.000261         0.012516             -0.008144   \n",
              "FacilityLimit                1.000000         0.000936              0.221528   \n",
              "GuaranteeAmount              1.000000         0.000936              0.221528   \n",
              "GuaranteeIncome              0.000936         1.000000             -0.065561   \n",
              "NumberOfInstallments         0.221528        -0.065561              1.000000   \n",
              "CreditHist                   0.053026        -0.013105              0.109888   \n",
              "Loan_Status                  0.021870        -0.031436              0.019711   \n",
              "\n",
              "                      CreditHist  Loan_Status  \n",
              "NumberOfDependants     -0.027408     0.093454  \n",
              "GrossIncome             0.013212     0.031257  \n",
              "FacilityLimit           0.053026     0.021870  \n",
              "GuaranteeAmount         0.053026     0.021870  \n",
              "GuaranteeIncome        -0.013105    -0.031436  \n",
              "NumberOfInstallments    0.109888     0.019711  \n",
              "CreditHist              1.000000    -0.034601  \n",
              "Loan_Status            -0.034601     1.000000  "
            ]
          },
          "execution_count": 641,
          "metadata": {},
          "output_type": "execute_result"
        },
        {
          "data": {
            "image/png": "[encoded data removed]",
            "text/plain": [
              "<Figure size 864x576 with 2 Axes>"
            ]
          },
          "metadata": {
            "needs_background": "light"
          },
          "output_type": "display_data"
        }
      ],
      "source": [
        "#train2 = train.drop(['NumberOfDependants', 'NumberOfInstallments'], axis=1)\n",
        "\n",
        "\n",
        "# calculate and visualize correlation matrix\n",
        "matrix = train.corr()\n",
        "f, ax = plt.subplots(figsize=(12, 8))\n",
        "sns.heatmap(matrix, vmax=1, square=True, cmap=\"BuPu\", annot=True)\n",
        "\n",
        "matrix"
      ]
    },
    {
      "cell_type": "markdown",
      "metadata": {
        "id": "CBzhwRT5776e"
      },
      "source": [
        "**Note: ** We see that the most correlated variables are\n",
        "\n",
        "- FacilityLimit is correlated with GuaranteetIncome with correlation coefficient of 1."
      ]
    },
    {
      "cell_type": "markdown",
      "metadata": {
        "id": "SPltVGQH776e"
      },
      "source": [
        "***\n",
        "# <a name=\"pre\">Data Pre-processing</a>\n",
        "\n",
        "Data pre-processing is a data mining technique that involves transforming raw data into an understandable format. Real-world data is often incomplete, inconsistent, and/or lacking in certain behaviors or trends, and is likely to contain many errors. Data pre-processing is a method of resolving such issues."
      ]
    },
    {
      "cell_type": "markdown",
      "metadata": {
        "id": "kqMoZFzw776e"
      },
      "source": [
        "## Missing value and outlier treatment\n",
        "After exploring all the variables in our data, we can now impute the missing values and treat the outliers because missing data and outliers can have adverse effect on the model performance.\n",
        "\n",
        "### Missing value imputation\n",
        "\n",
        "Let’s list out feature-wise count of missing values."
      ]
    },
    {
      "cell_type": "code",
      "execution_count": null,
      "metadata": {
        "id": "fPdsn7SR776e",
        "outputId": "eec49c75-f359-424a-988e-72f00b40b746"
      },
      "outputs": [
        {
          "data": {
            "text/plain": [
              "LoanCode                0\n",
              "Gender                  0\n",
              "MaritalStatus           0\n",
              "NumberOfDependants      0\n",
              "Proffession             0\n",
              "PropertyLocation        0\n",
              "GrossIncome             0\n",
              "FacilityLimit           0\n",
              "GuaranteeAmount         0\n",
              "GuaranteeIncome         0\n",
              "TypeOfContract          0\n",
              "NumberOfInstallments    0\n",
              "CreditHist              0\n",
              "SelfEmployed            0\n",
              "Graduate                0\n",
              "Loan_Status             0\n",
              "dtype: int64"
            ]
          },
          "execution_count": 642,
          "metadata": {},
          "output_type": "execute_result"
        }
      ],
      "source": [
        "# check for missing values\n",
        "train.isnull().sum()"
      ]
    },
    {
      "cell_type": "markdown",
      "metadata": {
        "id": "3F-uK7hW776e"
      },
      "source": [
        "There are missing values in Gender, Married, Dependents, Self_Employed, LoanAmount, Loan_Amount_Term and Credit_History features. We will treat the missing values in all the features one by one.\n",
        "\n",
        "We can consider these methods to fill the missing values:\n",
        "\n",
        "- For numerical variables: imputation using mean or median\n",
        "- For categorical variables: imputation using mode\n",
        "\n",
        "There are very less missing values in Gender, Married, Dependents, Credit_History and Self_Employed features so we can fill them using the mode of the features. If an independent variable in our dataset has huge amount of missing data e.g. 80% missing values in it, then we would drop the variable from the dataset."
      ]
    },
    {
      "cell_type": "code",
      "execution_count": null,
      "metadata": {
        "id": "qXEFWW5Q776e"
      },
      "outputs": [],
      "source": [
        "# replace missing values with the mode\n",
        "train['Gender'].fillna(train['Gender'].mode()[0], inplace=True)\n",
        "train['MaritalStatus'].fillna(train['MaritalStatus'].mode()[0], inplace=True)\n",
        "train['NumberOfDependants'].fillna(train['NumberOfDependants'].mode()[0], inplace=True)\n",
        "train['SelfEmployed'].fillna(train['SelfEmployed'].mode()[0], inplace=True)\n",
        "train['CreditHist'].fillna(train['CreditHist'].mode()[0], inplace=True)"
      ]
    },
    {
      "cell_type": "markdown",
      "metadata": {
        "id": "EBE6-NGD776e"
      },
      "source": [
        "Now let’s try to find a way to fill the missing values in Loan_Amount_Term. We will look at the value count of the Loan amount term variable."
      ]
    },
    {
      "cell_type": "code",
      "execution_count": null,
      "metadata": {
        "id": "MLSF66hn776e",
        "outputId": "8620bbc7-5d8a-497d-dd31-1b71d9e32df9"
      },
      "outputs": [
        {
          "data": {
            "text/plain": [
              "60     1699\n",
              "30      918\n",
              "12      903\n",
              "90       19\n",
              "120      14\n",
              "320      12\n",
              "220      11\n",
              "260       5\n",
              "160       3\n",
              "Name: NumberOfInstallments, dtype: int64"
            ]
          },
          "execution_count": 644,
          "metadata": {},
          "output_type": "execute_result"
        }
      ],
      "source": [
        "train['NumberOfInstallments'].value_counts()"
      ]
    },
    {
      "cell_type": "markdown",
      "metadata": {
        "id": "qCmP-HGV776e"
      },
      "source": [
        "It can be seen that in loan amount term variable, the value of 360 is repeating the most. So we will replace the missing values in this variable using the mode of this variable."
      ]
    },
    {
      "cell_type": "code",
      "execution_count": null,
      "metadata": {
        "id": "Ek6kVrnE776f"
      },
      "outputs": [],
      "source": [
        "# replace missing value with the mode\n",
        "train['NumberOfInstallments'].fillna(train['NumberOfInstallments'].mode()[0], inplace=True)"
      ]
    },
    {
      "cell_type": "markdown",
      "metadata": {
        "id": "iP0s6o3g776f"
      },
      "source": [
        "Now we will see the LoanAmount variable. As it is a numerical variable, we can use mean or median to impute the missing values. We will use median to fill the null values as earlier we saw that loan amount have outliers so the mean will not be the proper approach as it is highly affected by the presence of outliers."
      ]
    },
    {
      "cell_type": "code",
      "execution_count": null,
      "metadata": {
        "id": "ARyDTkpf776f"
      },
      "outputs": [],
      "source": [
        "# replace missing values with the median value due to outliers\n",
        "train['FacilityLimit'].fillna(train['FacilityLimit'].median(), inplace=True)"
      ]
    },
    {
      "cell_type": "code",
      "execution_count": null,
      "metadata": {
        "id": "r_uZPbGU776f",
        "outputId": "f395d38f-3659-49ba-de58-054434e65e24"
      },
      "outputs": [
        {
          "data": {
            "text/plain": [
              "LoanCode                0\n",
              "Gender                  0\n",
              "MaritalStatus           0\n",
              "NumberOfDependants      0\n",
              "Proffession             0\n",
              "PropertyLocation        0\n",
              "GrossIncome             0\n",
              "FacilityLimit           0\n",
              "GuaranteeAmount         0\n",
              "GuaranteeIncome         0\n",
              "TypeOfContract          0\n",
              "NumberOfInstallments    0\n",
              "CreditHist              0\n",
              "SelfEmployed            0\n",
              "Graduate                0\n",
              "Loan_Status             0\n",
              "dtype: int64"
            ]
          },
          "execution_count": 647,
          "metadata": {},
          "output_type": "execute_result"
        }
      ],
      "source": [
        "# check whether all the missing values are filled in the Train dataset\n",
        "train.isnull().sum()"
      ]
    },
    {
      "cell_type": "markdown",
      "metadata": {
        "id": "Mze_eQfg776f"
      },
      "source": [
        "As we can see that all the missing values have been filled in the Train dataset. Let’s fill all the missing values in the test dataset too with the same approach.\n",
        "\n",
        "**Note: ** We need to replace the missing values in Test set using the mode/median/mean of the Training set, not from the Test set. Likewise, if you remove values above some threshold in the test case, make sure that the threshold is derived from the training and not test set. Make sure to calculate the mean (or any other metrics) only on the train data to avoid data leakage to your test set."
      ]
    },
    {
      "cell_type": "code",
      "execution_count": null,
      "metadata": {
        "id": "N3MuBUft776f"
      },
      "outputs": [],
      "source": [
        "# replace missing values in Test set with mode/median from Training set\n",
        "test['Gender'].fillna(train['Gender'].mode()[0], inplace=True)\n",
        "test['NumberOfDependants'].fillna(train['NumberOfDependants'].mode()[0], inplace=True)\n",
        "test['SelfEmployed'].fillna(train['SelfEmployed'].mode()[0], inplace=True)\n",
        "test['CreditHist'].fillna(train['CreditHist'].mode()[0], inplace=True)\n",
        "test['NumberOfInstallments'].fillna(train['NumberOfInstallments'].mode()[0], inplace=True)\n",
        "test['FacilityLimit'].fillna(train['FacilityLimit'].median(), inplace=True)"
      ]
    },
    {
      "cell_type": "code",
      "execution_count": null,
      "metadata": {
        "id": "JbubfkIN776f",
        "outputId": "bdf8e81a-0121-4878-b5f6-c5e9b4cd81bd"
      },
      "outputs": [
        {
          "data": {
            "text/plain": [
              "LoanCode                0\n",
              "Gender                  0\n",
              "MaritalStatus           0\n",
              "NumberOfDependants      0\n",
              "Proffession             0\n",
              "PropertyLocation        0\n",
              "GrossIncome             0\n",
              "FacilityLimit           0\n",
              "GuaranteeAmount         0\n",
              "GuaranteeIncome         0\n",
              "TypeOfContract          0\n",
              "NumberOfInstallments    0\n",
              "CreditHist              0\n",
              "SelfEmployed            0\n",
              "Graduate                0\n",
              "dtype: int64"
            ]
          },
          "execution_count": 649,
          "metadata": {},
          "output_type": "execute_result"
        }
      ],
      "source": [
        "# check whether all the missing values are filled in the Test dataset\n",
        "test.isnull().sum()"
      ]
    },
    {
      "cell_type": "markdown",
      "metadata": {
        "id": "5RFAs1Co776f"
      },
      "source": [
        "As we can see that all the missing values have been filled in the Test dataset.\n"
      ]
    },
    {
      "cell_type": "markdown",
      "metadata": {
        "id": "obBbhI07776f"
      },
      "source": [
        "\n",
        "### Outlier Treatment\n",
        "\n",
        "FacilityLimit contains outliers so we have to treat them as the presence of outliers affects the distribution of the data. Having outliers in the dataset often has a significant effect on the mean and standard deviation and hence affecting the distribution. We must take steps to remove outliers from our data sets.\n",
        "\n",
        "Due to these outliers bulk of the data in the facility limit  is at the left and the right tail is longer. This is called right skewness (or positive skewness). One way to remove the skewness is by doing the log transformation. As we take the log transformation, it does not affect the smaller values much, but reduces the larger values. So, we get a distribution similar to normal distribution.\n",
        "\n",
        "Let’s visualize the effect of log transformation. We will do the similar changes to the test file simultaneously."
      ]
    },
    {
      "cell_type": "code",
      "execution_count": null,
      "metadata": {
        "id": "xCXjpr9U776f",
        "outputId": "539dba5d-0d43-4330-fde1-44df93d95ea1"
      },
      "outputs": [
        {
          "data": {
            "text/plain": [
              "Text(0.5, 1.0, 'Test')"
            ]
          },
          "execution_count": 651,
          "metadata": {},
          "output_type": "execute_result"
        },
        {
          "data": {
            "image/png": "[encoded data removed]",
            "text/plain": [
              "<Figure size 864x288 with 2 Axes>"
            ]
          },
          "metadata": {
            "needs_background": "light"
          },
          "output_type": "display_data"
        }
      ],
      "source": [
        "# before log transformation\n",
        "\n",
        "ax1 = plt.subplot(121)\n",
        "train['FacilityLimit'].hist(bins=20,color=['green'], figsize=(12,4))\n",
        "ax1.set_title(\"Train\")\n",
        "\n",
        "ax2 = plt.subplot(122)\n",
        "test['FacilityLimit'].hist(bins=20,color=['green'])\n",
        "ax2.set_title(\"Test\")"
      ]
    },
    {
      "cell_type": "code",
      "execution_count": null,
      "metadata": {
        "id": "7hS4s1HN776f"
      },
      "outputs": [],
      "source": [
        "# Removing skewness in LoanAmount variable by log transformation\n",
        "train['FacilityLimit_log'] = np.log(train['FacilityLimit'])\n",
        "test['FacilityLimit_log'] = np.log(test['FacilityLimit'])"
      ]
    },
    {
      "cell_type": "code",
      "execution_count": null,
      "metadata": {
        "id": "oUOdUGap776f",
        "outputId": "90c51a46-0ca8-4e0d-ed69-40c8773cee1e"
      },
      "outputs": [
        {
          "data": {
            "text/plain": [
              "Text(0.5, 1.0, 'Test')"
            ]
          },
          "execution_count": 654,
          "metadata": {},
          "output_type": "execute_result"
        },
        {
          "data": {
            "image/png": "[encoded data removed]",
            "text/plain": [
              "<Figure size 864x288 with 2 Axes>"
            ]
          },
          "metadata": {
            "needs_background": "light"
          },
          "output_type": "display_data"
        }
      ],
      "source": [
        "# after log transformation\n",
        "\n",
        "ax1 = plt.subplot(121)\n",
        "train['FacilityLimit_log'].hist(bins=20,color=['green'], figsize=(12,4))\n",
        "ax1.set_title(\"Train\")\n",
        "\n",
        "ax2 = plt.subplot(122)\n",
        "test['FacilityLimit_log'].hist(bins=20,color=['green'])\n",
        "ax2.set_title(\"Test\")"
      ]
    },
    {
      "cell_type": "markdown",
      "metadata": {
        "id": "vHWc-g65776f"
      },
      "source": [
        "Now the distribution looks much closer to normal and effect of extreme values has been significantly subsided. Let’s build a logistic regression model and make predictions for the test dataset."
      ]
    },
    {
      "cell_type": "markdown",
      "metadata": {
        "id": "dV_NmbW7776f"
      },
      "source": [
        "***\n",
        "# <a name=\"model\">Model Development and Evaluation</a>\n",
        "\n",
        "There are four sub-sections in this stage:\n",
        "- [Model Building : Part I](#model1)\n",
        "- [Feature Engineering](#feature)\n",
        "- [Model Building : Part II](#model2)"
      ]
    },
    {
      "cell_type": "markdown",
      "metadata": {
        "id": "Zs6PjyTv776f"
      },
      "source": [
        "***\n",
        "## <a name=\"model1\">Model Building : Part I</a>\n",
        "\n",
        "We will predict the target variable using Logistic Regression which is used for predicting binary outcome.\n",
        "\n",
        "- Logistic Regression is a classification algorithm. It is used to predict a binary outcome (1 / 0, Yes / No, True / False) given a set of independent variables.\n",
        "- Logistic regression is an estimation of Logit function. Logit function is simply a log of odds in favor of the event.\n",
        "- This function creates a s-shaped curve with the probability estimate, which is very similar to the required step wise function\n",
        "\n",
        "Lets drop the Loan_ID variable as it do not have any effect on the loan status. We will do the same changes to the test dataset which we did for the training dataset."
      ]
    },
    {
      "cell_type": "code",
      "execution_count": null,
      "metadata": {
        "id": "fqjLnlq_776g"
      },
      "outputs": [],
      "source": [
        "# drop Loan_ID\n",
        "train = train.drop('LoanCode', axis=1)\n",
        "test = test.drop('LoanCode', axis=1)"
      ]
    },
    {
      "cell_type": "markdown",
      "metadata": {
        "id": "0tCWrVL0776g"
      },
      "source": [
        "We will use scikit-learn (sklearn) for making different models which is an open source library for Python. It is one of the most efficient tool which contains many inbuilt functions that can be used for modeling in Python.\n",
        "\n",
        "\n",
        "Sklearn requires the target variable in a separate dataset. So, we will drop our target variable from the train dataset and save it in another dataset."
      ]
    },
    {
      "cell_type": "code",
      "execution_count": null,
      "metadata": {
        "id": "iZAmlVpL776g"
      },
      "outputs": [],
      "source": [
        "# drop \"Loan_Status\" and assign it to target variable\n",
        "X = train.drop('Loan_Status', 1)\n",
        "y = train.Loan_Status"
      ]
    },
    {
      "cell_type": "markdown",
      "metadata": {
        "id": "jf6FKdvO776g"
      },
      "source": [
        "Now we will make dummy variables for the categorical variables. Dummy variable turns categorical variables into a series of 0 and 1, making them lot easier to quantify and compare. Let us understand the process of dummies first:\n",
        "\n",
        "- Consider the “Gender” variable. It has two classes, Male and Female.\n",
        "- As logistic regression takes only the numerical values as input, we have to change male and female into numerical value.\n",
        "- Once we apply dummies to this variable, it will convert the “Gender” variable into two variables(Gender_Male and Gender_Female), one for each class, i.e. Male and Female.\n",
        "- Gender_Male will have a value of 0 if the gender is Female and a value of 1 if the gender is Male.\n",
        "\n",
        "We can use pandas `get_dummies` function to convert categorical variable into dummy/indicator variables, it will only convert \"object\" type and will not affect numerical type."
      ]
    },
    {
      "cell_type": "code",
      "execution_count": null,
      "metadata": {
        "id": "-bB26OwD776g"
      },
      "outputs": [],
      "source": [
        "# adding dummies to the dataset\n",
        "X = pd.get_dummies(X)\n",
        "train = pd.get_dummies(train)\n",
        "test = pd.get_dummies(test)"
      ]
    },
    {
      "cell_type": "code",
      "execution_count": null,
      "metadata": {
        "id": "JgLrGpOm776g",
        "outputId": "feb44b09-439e-4f91-c649-4e197f66fb2c"
      },
      "outputs": [
        {
          "data": {
            "text/plain": [
              "((3584, 401), (3584, 402), (4210, 401))"
            ]
          },
          "execution_count": 658,
          "metadata": {},
          "output_type": "execute_result"
        }
      ],
      "source": [
        "X.shape, train.shape, test.shape"
      ]
    },
    {
      "cell_type": "code",
      "execution_count": null,
      "metadata": {
        "id": "DUGE-IN_776g",
        "outputId": "88aa38bb-38a7-4ebd-c24d-73b9fa767016"
      },
      "outputs": [
        {
          "data": {
            "text/html": [
              "<div>\n",
              "<style scoped>\n",
              "    .dataframe tbody tr th:only-of-type {\n",
              "        vertical-align: middle;\n",
              "    }\n",
              "\n",
              "    .dataframe tbody tr th {\n",
              "        vertical-align: top;\n",
              "    }\n",
              "\n",
              "    .dataframe thead th {\n",
              "        text-align: right;\n",
              "    }\n",
              "</style>\n",
              "<table border=\"1\" class=\"dataframe\">\n",
              "  <thead>\n",
              "    <tr style=\"text-align: right;\">\n",
              "      <th></th>\n",
              "      <th>NumberOfDependants</th>\n",
              "      <th>GrossIncome</th>\n",
              "      <th>FacilityLimit</th>\n",
              "      <th>GuaranteeAmount</th>\n",
              "      <th>GuaranteeIncome</th>\n",
              "      <th>NumberOfInstallments</th>\n",
              "      <th>CreditHist</th>\n",
              "      <th>FacilityLimit_log</th>\n",
              "      <th>Gender_Female</th>\n",
              "      <th>Gender_Male</th>\n",
              "      <th>...</th>\n",
              "      <th>PropertyLocation_ZVIMBA</th>\n",
              "      <th>PropertyLocation_ZVISHAVANE</th>\n",
              "      <th>TypeOfContract_AssetFinanceLoans</th>\n",
              "      <th>TypeOfContract_BusinessWorkingCapitalLoans</th>\n",
              "      <th>TypeOfContract_MortgageLoans</th>\n",
              "      <th>TypeOfContract_PersonalLoans</th>\n",
              "      <th>SelfEmployed_No</th>\n",
              "      <th>SelfEmployed_Yes</th>\n",
              "      <th>Graduate_Graduate</th>\n",
              "      <th>Graduate_Non Graduate</th>\n",
              "    </tr>\n",
              "  </thead>\n",
              "  <tbody>\n",
              "    <tr>\n",
              "      <td>0</td>\n",
              "      <td>0</td>\n",
              "      <td>5849.0</td>\n",
              "      <td>23343.52</td>\n",
              "      <td>23343.52</td>\n",
              "      <td>3083.0</td>\n",
              "      <td>30</td>\n",
              "      <td>0</td>\n",
              "      <td>10.058075</td>\n",
              "      <td>0</td>\n",
              "      <td>1</td>\n",
              "      <td>...</td>\n",
              "      <td>0</td>\n",
              "      <td>0</td>\n",
              "      <td>1</td>\n",
              "      <td>0</td>\n",
              "      <td>0</td>\n",
              "      <td>0</td>\n",
              "      <td>1</td>\n",
              "      <td>0</td>\n",
              "      <td>1</td>\n",
              "      <td>0</td>\n",
              "    </tr>\n",
              "    <tr>\n",
              "      <td>1</td>\n",
              "      <td>4</td>\n",
              "      <td>4583.0</td>\n",
              "      <td>25000.00</td>\n",
              "      <td>25000.00</td>\n",
              "      <td>6045.0</td>\n",
              "      <td>60</td>\n",
              "      <td>1</td>\n",
              "      <td>10.126631</td>\n",
              "      <td>0</td>\n",
              "      <td>1</td>\n",
              "      <td>...</td>\n",
              "      <td>0</td>\n",
              "      <td>0</td>\n",
              "      <td>1</td>\n",
              "      <td>0</td>\n",
              "      <td>0</td>\n",
              "      <td>0</td>\n",
              "      <td>1</td>\n",
              "      <td>0</td>\n",
              "      <td>1</td>\n",
              "      <td>0</td>\n",
              "    </tr>\n",
              "    <tr>\n",
              "      <td>2</td>\n",
              "      <td>0</td>\n",
              "      <td>3000.0</td>\n",
              "      <td>8405.81</td>\n",
              "      <td>8405.81</td>\n",
              "      <td>5250.0</td>\n",
              "      <td>60</td>\n",
              "      <td>1</td>\n",
              "      <td>9.036678</td>\n",
              "      <td>0</td>\n",
              "      <td>1</td>\n",
              "      <td>...</td>\n",
              "      <td>0</td>\n",
              "      <td>0</td>\n",
              "      <td>1</td>\n",
              "      <td>0</td>\n",
              "      <td>0</td>\n",
              "      <td>0</td>\n",
              "      <td>1</td>\n",
              "      <td>0</td>\n",
              "      <td>1</td>\n",
              "      <td>0</td>\n",
              "    </tr>\n",
              "    <tr>\n",
              "      <td>3</td>\n",
              "      <td>3</td>\n",
              "      <td>2583.0</td>\n",
              "      <td>14257.28</td>\n",
              "      <td>14257.28</td>\n",
              "      <td>14683.0</td>\n",
              "      <td>60</td>\n",
              "      <td>1</td>\n",
              "      <td>9.565023</td>\n",
              "      <td>1</td>\n",
              "      <td>0</td>\n",
              "      <td>...</td>\n",
              "      <td>0</td>\n",
              "      <td>0</td>\n",
              "      <td>1</td>\n",
              "      <td>0</td>\n",
              "      <td>0</td>\n",
              "      <td>0</td>\n",
              "      <td>1</td>\n",
              "      <td>0</td>\n",
              "      <td>1</td>\n",
              "      <td>0</td>\n",
              "    </tr>\n",
              "    <tr>\n",
              "      <td>4</td>\n",
              "      <td>0</td>\n",
              "      <td>6000.0</td>\n",
              "      <td>20000.00</td>\n",
              "      <td>20000.00</td>\n",
              "      <td>4931.0</td>\n",
              "      <td>30</td>\n",
              "      <td>0</td>\n",
              "      <td>9.903488</td>\n",
              "      <td>0</td>\n",
              "      <td>1</td>\n",
              "      <td>...</td>\n",
              "      <td>0</td>\n",
              "      <td>0</td>\n",
              "      <td>1</td>\n",
              "      <td>0</td>\n",
              "      <td>0</td>\n",
              "      <td>0</td>\n",
              "      <td>0</td>\n",
              "      <td>1</td>\n",
              "      <td>0</td>\n",
              "      <td>1</td>\n",
              "    </tr>\n",
              "  </tbody>\n",
              "</table>\n",
              "<p>5 rows × 401 columns</p>\n",
              "</div>"
            ],
            "text/plain": [
              "   NumberOfDependants  GrossIncome  FacilityLimit  GuaranteeAmount  \\\n",
              "0                   0       5849.0       23343.52         23343.52   \n",
              "1                   4       4583.0       25000.00         25000.00   \n",
              "2                   0       3000.0        8405.81          8405.81   \n",
              "3                   3       2583.0       14257.28         14257.28   \n",
              "4                   0       6000.0       20000.00         20000.00   \n",
              "\n",
              "   GuaranteeIncome  NumberOfInstallments  CreditHist  FacilityLimit_log  \\\n",
              "0           3083.0                    30           0          10.058075   \n",
              "1           6045.0                    60           1          10.126631   \n",
              "2           5250.0                    60           1           9.036678   \n",
              "3          14683.0                    60           1           9.565023   \n",
              "4           4931.0                    30           0           9.903488   \n",
              "\n",
              "   Gender_Female  Gender_Male  ...  PropertyLocation_ZVIMBA  \\\n",
              "0              0            1  ...                        0   \n",
              "1              0            1  ...                        0   \n",
              "2              0            1  ...                        0   \n",
              "3              1            0  ...                        0   \n",
              "4              0            1  ...                        0   \n",
              "\n",
              "   PropertyLocation_ZVISHAVANE  TypeOfContract_AssetFinanceLoans  \\\n",
              "0                            0                                 1   \n",
              "1                            0                                 1   \n",
              "2                            0                                 1   \n",
              "3                            0                                 1   \n",
              "4                            0                                 1   \n",
              "\n",
              "   TypeOfContract_BusinessWorkingCapitalLoans  TypeOfContract_MortgageLoans  \\\n",
              "0                                           0                             0   \n",
              "1                                           0                             0   \n",
              "2                                           0                             0   \n",
              "3                                           0                             0   \n",
              "4                                           0                             0   \n",
              "\n",
              "   TypeOfContract_PersonalLoans  SelfEmployed_No  SelfEmployed_Yes  \\\n",
              "0                             0                1                 0   \n",
              "1                             0                1                 0   \n",
              "2                             0                1                 0   \n",
              "3                             0                1                 0   \n",
              "4                             0                0                 1   \n",
              "\n",
              "   Graduate_Graduate  Graduate_Non Graduate  \n",
              "0                  1                      0  \n",
              "1                  1                      0  \n",
              "2                  1                      0  \n",
              "3                  1                      0  \n",
              "4                  0                      1  \n",
              "\n",
              "[5 rows x 401 columns]"
            ]
          },
          "execution_count": 659,
          "metadata": {},
          "output_type": "execute_result"
        }
      ],
      "source": [
        "X.head()"
      ]
    },
    {
      "cell_type": "markdown",
      "metadata": {
        "id": "MwsDTFuP776g"
      },
      "source": [
        "Now we will train the model on training dataset and make predictions for the test dataset. But can we validate these predictions? One way of doing this is we can divide our train dataset into two parts: train and validation. We can train the model on this train part and using that make predictions for the validation part. In this way we can validate our predictions as we have the true predictions for the validation part (which we do not have for the test dataset).\n",
        "\n",
        "We will use the train_test_split function from sklearn to divide our train dataset. So, first let us import train_test_split."
      ]
    },
    {
      "cell_type": "code",
      "execution_count": null,
      "metadata": {
        "id": "mYvBiRna776g"
      },
      "outputs": [],
      "source": [
        "# import library\n",
        "from sklearn.model_selection import train_test_split"
      ]
    },
    {
      "cell_type": "code",
      "execution_count": null,
      "metadata": {
        "id": "UYcEuR50776g"
      },
      "outputs": [],
      "source": [
        "# split the data into train and cross validation set\n",
        "x_train, x_cv, y_train, y_cv = train_test_split(X, y, test_size=0.3, random_state=0)"
      ]
    },
    {
      "cell_type": "code",
      "execution_count": null,
      "metadata": {
        "id": "V6z8VPu1776g",
        "outputId": "4a1f6a99-98bf-46d9-c2d1-5dc8997c0c13"
      },
      "outputs": [
        {
          "data": {
            "text/plain": [
              "((2508, 401), (1076, 401), (2508,), (1076,))"
            ]
          },
          "execution_count": 662,
          "metadata": {},
          "output_type": "execute_result"
        }
      ],
      "source": [
        "# take a look at the dimension of the data\n",
        "x_train.shape, x_cv.shape, y_train.shape, y_cv.shape"
      ]
    },
    {
      "cell_type": "markdown",
      "metadata": {
        "id": "EurnAJpM776g"
      },
      "source": [
        "The dataset has been divided into training and validation part. Let us import LogisticRegression and accuracy_score from sklearn and fit the logistic regression model."
      ]
    },
    {
      "cell_type": "code",
      "execution_count": null,
      "metadata": {
        "id": "YQhYtSEp776g"
      },
      "outputs": [],
      "source": [
        "# import libraries\n",
        "from sklearn.linear_model import LogisticRegression\n",
        "from sklearn.metrics import accuracy_score"
      ]
    },
    {
      "cell_type": "code",
      "execution_count": null,
      "metadata": {
        "id": "_dPDPZ6F776g",
        "outputId": "03a91cd4-c896-4467-957d-604d4383b71b"
      },
      "outputs": [
        {
          "data": {
            "text/plain": [
              "LogisticRegression(C=1.0, class_weight=None, dual=False, fit_intercept=True,\n",
              "                   intercept_scaling=1, l1_ratio=None, max_iter=100,\n",
              "                   multi_class='warn', n_jobs=None, penalty='l2',\n",
              "                   random_state=None, solver='warn', tol=0.0001, verbose=0,\n",
              "                   warm_start=False)"
            ]
          },
          "execution_count": 664,
          "metadata": {},
          "output_type": "execute_result"
        }
      ],
      "source": [
        "# fit the model\n",
        "model = LogisticRegression()\n",
        "model.fit(x_train, y_train)"
      ]
    },
    {
      "cell_type": "markdown",
      "metadata": {
        "id": "TQuPvWA4776i"
      },
      "source": [
        "Here the C=1.0 parameter represents inverse of regularization strength. Regularization is applying a penalty to increasing the magnitude of parameter values in order to reduce overfitting.\n",
        "\n",
        "Let’s predict the Loan_Status for validation set and calculate its accuracy."
      ]
    },
    {
      "cell_type": "code",
      "execution_count": null,
      "metadata": {
        "id": "MOsMlvO3776i"
      },
      "outputs": [],
      "source": [
        "# make prediction\n",
        "pred_cv = model.predict(x_cv)"
      ]
    },
    {
      "cell_type": "markdown",
      "metadata": {
        "id": "mePzL2tr776i"
      },
      "source": [
        "Let us calculate how accurate our predictions are by calculating the accuracy."
      ]
    },
    {
      "cell_type": "code",
      "execution_count": null,
      "metadata": {
        "id": "Bz09pznZ776i",
        "outputId": "d8e32599-906d-40ac-f84d-bf58990439b1"
      },
      "outputs": [
        {
          "data": {
            "text/plain": [
              "0.8680297397769516"
            ]
          },
          "execution_count": 666,
          "metadata": {},
          "output_type": "execute_result"
        }
      ],
      "source": [
        "# calculate accuracy score\n",
        "accuracy_score(y_cv, pred_cv)"
      ]
    },
    {
      "cell_type": "markdown",
      "metadata": {
        "id": "x20LJy9e776i"
      },
      "source": [
        "So our predictions are over 86% accurate, i.e. we have identified 86% of the loan status correctly.\n",
        "\n",
        "Let’s evaluate our model with the confusion matrix."
      ]
    },
    {
      "cell_type": "code",
      "execution_count": null,
      "metadata": {
        "id": "JVDbv1KT776i",
        "outputId": "6882ee0c-6990-43fa-9f01-5c7505f8147b"
      },
      "outputs": [
        {
          "name": "stdout",
          "output_type": "stream",
          "text": [
            "[[  0 142]\n",
            " [  0 934]]\n"
          ]
        },
        {
          "data": {
            "text/plain": [
              "Text(33.0, 0.5, 'True')"
            ]
          },
          "execution_count": 667,
          "metadata": {},
          "output_type": "execute_result"
        },
        {
          "data": {
            "image/png": "[encoded data removed]",
            "text/plain": [
              "<Figure size 432x288 with 2 Axes>"
            ]
          },
          "metadata": {
            "needs_background": "light"
          },
          "output_type": "display_data"
        }
      ],
      "source": [
        "# import confusion_matrix\n",
        "from sklearn.metrics import confusion_matrix\n",
        "\n",
        "cm = confusion_matrix(y_cv, pred_cv)\n",
        "print(cm)\n",
        "\n",
        "# f, ax = plt.subplots(figsize=(9, 6))\n",
        "sns.heatmap(cm, annot=True, fmt=\"d\")\n",
        "plt.title('Confusion matrix of the classifier')\n",
        "plt.xlabel('Predicted')\n",
        "plt.ylabel('True')"
      ]
    },
    {
      "cell_type": "markdown",
      "metadata": {
        "id": "M5K4QTu0776i"
      },
      "source": [
        "Let's build a text report showing the main classification metrics."
      ]
    },
    {
      "cell_type": "code",
      "execution_count": null,
      "metadata": {
        "id": "TYMvl0D0776i",
        "outputId": "f9193f27-3c1f-4285-a562-a42595ff6ff6"
      },
      "outputs": [
        {
          "name": "stdout",
          "output_type": "stream",
          "text": [
            "              precision    recall  f1-score   support\n",
            "\n",
            "           0       0.00      0.00      0.00       142\n",
            "           1       0.87      1.00      0.93       934\n",
            "\n",
            "    accuracy                           0.87      1076\n",
            "   macro avg       0.43      0.50      0.46      1076\n",
            "weighted avg       0.75      0.87      0.81      1076\n",
            "\n"
          ]
        }
      ],
      "source": [
        "# import classification_report\n",
        "from sklearn.metrics import classification_report\n",
        "print(classification_report(y_cv, pred_cv))"
      ]
    },
    {
      "cell_type": "markdown",
      "metadata": {
        "id": "3vb_4q5F776i"
      },
      "source": [
        "The performance of our model seems encouraging, with accuracy of 87%, precision of 87% and recall of 100%.\n",
        "\n",
        "Let’s make predictions for the test dataset and submit the result."
      ]
    },
    {
      "cell_type": "code",
      "execution_count": null,
      "metadata": {
        "id": "K0Sg29i_776i"
      },
      "outputs": [],
      "source": [
        "#test_reduced = model.predict(test)\n",
        "#test_reduced.shape\n",
        "# make prediction on test set\n",
        "pred_test = model.predict(test)"
      ]
    },
    {
      "cell_type": "code",
      "execution_count": null,
      "metadata": {
        "id": "ma7aNZxb776i",
        "outputId": "af0e8d0a-c854-406c-ab87-99caf4dc606d"
      },
      "outputs": [
        {
          "data": {
            "text/plain": [
              "array([1, 1, 1, 1, 1, 1, 1, 1, 1, 1, 1, 1, 1, 1, 1, 1, 1, 1, 1, 1, 1, 1,\n",
              "       1, 1, 1, 1, 1, 1, 1, 1, 1, 1, 1, 1, 1, 1, 1, 1, 1, 1, 1, 1, 1, 1,\n",
              "       1, 1, 1, 1, 1, 1], dtype=int64)"
            ]
          },
          "execution_count": 670,
          "metadata": {},
          "output_type": "execute_result"
        }
      ],
      "source": [
        "# take a look at the prediction\n",
        "pred_test[:50]"
      ]
    },
    {
      "cell_type": "markdown",
      "metadata": {
        "id": "3e7WF2q5776i"
      },
      "source": [
        "Lets import the submission file which we have to submit on the solution checker."
      ]
    },
    {
      "cell_type": "code",
      "execution_count": null,
      "metadata": {
        "id": "0riqZICJ776i"
      },
      "outputs": [],
      "source": [
        "submission = pd.read_csv(\"Sample_Submission.csv\")"
      ]
    },
    {
      "cell_type": "markdown",
      "metadata": {
        "id": "hZZ37rnG776i"
      },
      "source": [
        "We only need the Loan_ID and the corresponding Loan_Status for the final submission. we will fill these columns with the Loan_ID of test dataset and the predictions that we made, i.e., pred_test respectively."
      ]
    },
    {
      "cell_type": "code",
      "execution_count": null,
      "metadata": {
        "id": "bQsVjYi9776i"
      },
      "outputs": [],
      "source": [
        "# fill the Loan_ID and Loan_Status\n",
        "submission['Loan_Status'] = pred_test\n",
        "submission['LoanCode'] = test_original['LoanCode']"
      ]
    },
    {
      "cell_type": "markdown",
      "metadata": {
        "id": "MHuwLJav776i"
      },
      "source": [
        "Remember we need predictions in Y and N. So let’s convert 1 and 0 to Y and N."
      ]
    },
    {
      "cell_type": "code",
      "execution_count": null,
      "metadata": {
        "id": "7Ci8LzcI776j"
      },
      "outputs": [],
      "source": [
        "# replace with \"N\" and \"Y\"\n",
        "submission['Loan_Status'].replace(0, 'N', inplace=True)\n",
        "submission['Loan_Status'].replace(1, 'Y', inplace=True)"
      ]
    },
    {
      "cell_type": "code",
      "execution_count": null,
      "metadata": {
        "id": "E9nc1j07776j",
        "outputId": "1bb0faa6-d938-405b-8769-02ef0e14a7ba"
      },
      "outputs": [
        {
          "data": {
            "text/html": [
              "<div>\n",
              "<style scoped>\n",
              "    .dataframe tbody tr th:only-of-type {\n",
              "        vertical-align: middle;\n",
              "    }\n",
              "\n",
              "    .dataframe tbody tr th {\n",
              "        vertical-align: top;\n",
              "    }\n",
              "\n",
              "    .dataframe thead th {\n",
              "        text-align: right;\n",
              "    }\n",
              "</style>\n",
              "<table border=\"1\" class=\"dataframe\">\n",
              "  <thead>\n",
              "    <tr style=\"text-align: right;\">\n",
              "      <th></th>\n",
              "      <th>LoanCode</th>\n",
              "      <th>Loan_Status</th>\n",
              "    </tr>\n",
              "  </thead>\n",
              "  <tbody>\n",
              "    <tr>\n",
              "      <td>0</td>\n",
              "      <td>MQZ1190318000004</td>\n",
              "      <td>Y</td>\n",
              "    </tr>\n",
              "    <tr>\n",
              "      <td>1</td>\n",
              "      <td>MQZ1190320000005</td>\n",
              "      <td>Y</td>\n",
              "    </tr>\n",
              "    <tr>\n",
              "      <td>2</td>\n",
              "      <td>MQZ1190321000001</td>\n",
              "      <td>Y</td>\n",
              "    </tr>\n",
              "    <tr>\n",
              "      <td>3</td>\n",
              "      <td>MQZ1190326000001</td>\n",
              "      <td>Y</td>\n",
              "    </tr>\n",
              "    <tr>\n",
              "      <td>4</td>\n",
              "      <td>MQZ1190327000001</td>\n",
              "      <td>Y</td>\n",
              "    </tr>\n",
              "  </tbody>\n",
              "</table>\n",
              "</div>"
            ],
            "text/plain": [
              "           LoanCode Loan_Status\n",
              "0  MQZ1190318000004           Y\n",
              "1  MQZ1190320000005           Y\n",
              "2  MQZ1190321000001           Y\n",
              "3  MQZ1190326000001           Y\n",
              "4  MQZ1190327000001           Y"
            ]
          },
          "execution_count": 674,
          "metadata": {},
          "output_type": "execute_result"
        }
      ],
      "source": [
        "# take a look at the submission result\n",
        "submission.head()"
      ]
    },
    {
      "cell_type": "markdown",
      "metadata": {
        "id": "-T7kj6js776j"
      },
      "source": [
        "Finally we will convert the submission to .csv format and make submission to check the accuracy on the leaderboard."
      ]
    },
    {
      "cell_type": "code",
      "execution_count": null,
      "metadata": {
        "id": "EAp0E3dr776j"
      },
      "outputs": [],
      "source": [
        "# convert to CSV file, without row index\n",
        "submission.to_csv('logistic.csv', index=False)"
      ]
    },
    {
      "cell_type": "markdown",
      "metadata": {
        "id": "Jcw0rIYK776j"
      },
      "source": [
        "From this submission we got an accuracy of 0.7847 on the leaderboard.\n"
      ]
    },
    {
      "cell_type": "markdown",
      "metadata": {
        "id": "jxP8M_6u776j"
      },
      "source": [
        "## Logistic Regression using stratified k-folds cross validation\n",
        "\n",
        "To check how robust our model is to unseen data, we can use Validation. It is a technique which involves reserving a particular sample of a dataset on which you do not train the model. Later, you test your model on this sample before finalizing it. Some of the common methods for validation are listed below:\n",
        "\n",
        "- The validation set approach\n",
        "- k-fold cross validation\n",
        "- Leave one out cross validation (LOOCV)\n",
        "- Stratified k-fold cross validation\n"
      ]
    },
    {
      "cell_type": "code",
      "execution_count": null,
      "metadata": {
        "id": "Y9uWUJ-n776j",
        "outputId": "ac043f80-995c-4348-aeda-77386368ac82"
      },
      "outputs": [
        {
          "name": "stdout",
          "output_type": "stream",
          "text": [
            "\n",
            "1 of kfold 5\n",
            "accuracy_score 0.8661087866108786\n",
            "\n",
            "2 of kfold 5\n",
            "accuracy_score 0.8675034867503487\n",
            "\n",
            "3 of kfold 5\n",
            "accuracy_score 0.8675034867503487\n",
            "\n",
            "4 of kfold 5\n",
            "accuracy_score 0.8675034867503487\n",
            "\n",
            "5 of kfold 5\n",
            "accuracy_score 0.86731843575419\n",
            "\n",
            "Mean validation accuracy:  0.8671875365232229\n"
          ]
        }
      ],
      "source": [
        "# import StratifiedKFold from sklearn and fit the model\n",
        "from sklearn.model_selection import StratifiedKFold\n",
        "\n",
        "# stratified 5 folds, shuffle each stratification of the data before splitting into batches\n",
        "\n",
        "mean_accuracy = []\n",
        "i = 1\n",
        "kf = StratifiedKFold(n_splits=5, random_state=1, shuffle=True)\n",
        "\n",
        "for train_index, test_index in kf.split(X, y):\n",
        "    print('\\n{} of kfold {}'.format(i, kf.n_splits))\n",
        "    xtr, xvl = X.loc[train_index], X.loc[test_index]\n",
        "    ytr, yvl = y[train_index], y[test_index]\n",
        "\n",
        "    model = LogisticRegression(random_state=1)\n",
        "    model.fit(xtr, ytr)\n",
        "    pred_test = model.predict(xvl)\n",
        "    score = accuracy_score(yvl, pred_test)\n",
        "    mean_accuracy.append(score)\n",
        "    print('accuracy_score', score)\n",
        "    i+=1\n",
        "\n",
        "print(\"\\nMean validation accuracy: \", sum(mean_accuracy)/len(mean_accuracy))\n",
        "\n",
        "\n",
        "# make prediction on test set\n",
        "pred_test = model.predict(test)\n",
        "\n",
        "\n",
        "# calculate probability estimates of loan approval\n",
        "# column 0 is the probability for class 0 and column 1 is the probability for class 1\n",
        "# probability of loan default = 1 - model.predict_proba(test)[:,1]\n",
        "pred = model.predict_proba(xvl)[:,1]"
      ]
    },
    {
      "cell_type": "markdown",
      "metadata": {
        "id": "fBERV6ou776j"
      },
      "source": [
        "The mean validation accuracy for this model turns out to be 0.867. Let us visualize the ROC curve."
      ]
    },
    {
      "cell_type": "markdown",
      "metadata": {
        "id": "OUQRZd5u776j"
      },
      "source": [
        "### Visualizing the ROC curve."
      ]
    },
    {
      "cell_type": "code",
      "execution_count": null,
      "metadata": {
        "id": "Sbj0Hion776j",
        "outputId": "194fedbd-15ee-4c6c-c7c7-134eead4393a"
      },
      "outputs": [
        {
          "data": {
            "image/png": "[encoded data removed]",
            "text/plain": [
              "<Figure size 864x576 with 1 Axes>"
            ]
          },
          "metadata": {
            "needs_background": "light"
          },
          "output_type": "display_data"
        }
      ],
      "source": [
        "# visualize ROC curve\n",
        "from sklearn import metrics\n",
        "fpr, tpr, _ = metrics.roc_curve(yvl,  pred)\n",
        "auc = metrics.roc_auc_score(yvl, pred)\n",
        "plt.figure(figsize=(12,8))\n",
        "plt.plot(fpr,tpr,label=\"validation, auc=\"+str(auc))\n",
        "plt.xlabel('False Positive Rate')\n",
        "plt.ylabel('True Positive Rate')\n",
        "plt.legend(loc=4)\n",
        "plt.show()"
      ]
    },
    {
      "cell_type": "markdown",
      "metadata": {
        "id": "sGxZvk6U776j"
      },
      "source": [
        "We got an AUC (\"Area Under Curve\") value of 0.718."
      ]
    },
    {
      "cell_type": "code",
      "execution_count": null,
      "metadata": {
        "id": "-hJSdSW5776j"
      },
      "outputs": [],
      "source": [
        "submission['Loan_Status'] = pred_test\n",
        "submission['LoanCode'] = test_original['LoanCode']"
      ]
    },
    {
      "cell_type": "markdown",
      "metadata": {
        "id": "yEFYB70h776j"
      },
      "source": [
        "Remember we need predictions in Y and N. So let’s convert 1 and 0 to Y and N."
      ]
    },
    {
      "cell_type": "code",
      "execution_count": null,
      "metadata": {
        "id": "SgujYmRj776j"
      },
      "outputs": [],
      "source": [
        "submission['Loan_Status'].replace(0, 'N', inplace=True)\n",
        "submission['Loan_Status'].replace(1, 'Y', inplace=True)"
      ]
    },
    {
      "cell_type": "markdown",
      "metadata": {
        "id": "30U6evEg776j"
      },
      "source": [
        "Lets convert the submission to .csv format and make submission to check the accuracy on the leaderboard."
      ]
    },
    {
      "cell_type": "code",
      "execution_count": null,
      "metadata": {
        "id": "uRHox_Os776j"
      },
      "outputs": [],
      "source": [
        "# convert to CSV file, without row index\n",
        "submission.to_csv('logistic.csv', index=False)"
      ]
    },
    {
      "cell_type": "markdown",
      "metadata": {
        "id": "83XsZxaF776j"
      },
      "source": [
        "From this submission we got an accuracy of 0.718 on the leaderboard. Now we will try to improve this accuracy using different approaches."
      ]
    },
    {
      "cell_type": "markdown",
      "metadata": {
        "id": "ccZCKDUu776j"
      },
      "source": [
        "***\n",
        "## <a name=\"feature\">Feature Engineering</a>\n",
        "\n",
        "Based on the domain knowledge, we can come up with new features that might affect the target variable. We will create the following three new features:\n",
        "\n",
        "- **Total Income** - As discussed during bivariate analysis we will combine the Applicant Gross Income and Guarantee Income. If the total income is high, chances of loan approval might also be high.\n",
        "- **Equated Monthly Installment** - EMI is the monthly amount to be paid by the applicant to repay the loan. Idea behind making this variable is that people who have high EMI’s might find it difficult to pay back the loan. We can calculate the EMI by taking the ratio of loan amount with respect to loan amount term.\n",
        "- **Balance Income** - This is the income left after the EMI has been paid. Idea behind creating this variable is that if this value is high, the chances are high that a person will repay the loan and hence increasing the chances of loan approval.\n"
      ]
    },
    {
      "cell_type": "code",
      "execution_count": null,
      "metadata": {
        "id": "kA4MLsyf776j"
      },
      "outputs": [],
      "source": [
        "# combine Applicant Income and Guarantee Income into a new variable\n",
        "train['Total_Income'] = train['GrossIncome'] + train['GuaranteeIncome']\n",
        "test['Total_Income'] = test['GrossIncome'] + test2['GuaranteeIncome']"
      ]
    },
    {
      "cell_type": "code",
      "execution_count": null,
      "metadata": {
        "id": "LsTT7oAx776k",
        "outputId": "17a8169f-7718-470b-aecb-34498c92e26f"
      },
      "outputs": [
        {
          "data": {
            "text/plain": [
              "Text(0.5, 1.0, 'Test')"
            ]
          },
          "execution_count": 558,
          "metadata": {},
          "output_type": "execute_result"
        },
        {
          "data": {
            "image/png": "[encoded data removed]",
            "text/plain": [
              "<Figure size 1008x288 with 2 Axes>"
            ]
          },
          "metadata": {
            "needs_background": "light"
          },
          "output_type": "display_data"
        }
      ],
      "source": [
        "# check the distribution of Total Income\n",
        "# before log transformation\n",
        "\n",
        "fig = plt.figure(figsize=(14, 4))\n",
        "ax1 = plt.subplot(121)\n",
        "sns.distplot(train['Total_Income'],color=\"g\",)\n",
        "\n",
        "ax1.set_title(\"Train\")\n",
        "\n",
        "ax1 = plt.subplot(122)\n",
        "sns.distplot(test['Total_Income'],color=\"r\",)\n",
        "ax1.set_title(\"Test\")\n"
      ]
    },
    {
      "cell_type": "markdown",
      "metadata": {
        "id": "ERSleWYQ776k"
      },
      "source": [
        "We can see it is shifted towards left, i.e., the distribution is right skewed. So, let’s take the log transformation to make the distribution normal."
      ]
    },
    {
      "cell_type": "code",
      "execution_count": null,
      "metadata": {
        "id": "YAgS9l0b776k"
      },
      "outputs": [],
      "source": [
        "# log transformation\n",
        "train['Total_Income_log'] = np.log(train['Total_Income']).replace([np.inf, -np.inf, -0], 0)\n",
        "test['Total_Income_log'] = np.log(test['Total_Income']).replace([np.inf, -np.inf, -0], 0)"
      ]
    },
    {
      "cell_type": "code",
      "execution_count": null,
      "metadata": {
        "id": "-L1q2WUz776k",
        "outputId": "46eec8cf-3b7b-4e21-91b3-413e0213727e"
      },
      "outputs": [
        {
          "data": {
            "text/plain": [
              "Text(0.5, 1.0, 'Test')"
            ]
          },
          "execution_count": 560,
          "metadata": {},
          "output_type": "execute_result"
        },
        {
          "data": {
            "image/png": "[encoded data removed]",
            "text/plain": [
              "<Figure size 1008x288 with 2 Axes>"
            ]
          },
          "metadata": {
            "needs_background": "light"
          },
          "output_type": "display_data"
        }
      ],
      "source": [
        "# after log transformation\n",
        "fig = plt.figure(figsize=(14, 4))\n",
        "ax1 = plt.subplot(121)\n",
        "sns.distplot(train['Total_Income_log'],color=\"g\",)\n",
        "ax1.set_title(\"Train\")\n",
        "\n",
        "ax1 = plt.subplot(122)\n",
        "sns.distplot(test['Total_Income_log'],color=\"r\",)\n",
        "ax1.set_title(\"Test\")"
      ]
    },
    {
      "cell_type": "markdown",
      "metadata": {
        "id": "KRrB7-du776k"
      },
      "source": [
        "Let’s create the EMI feature now. We can calculate the EMI by taking the ratio of loan amount with respect to loan amount term. It is just an approximation of actual EMI."
      ]
    },
    {
      "cell_type": "code",
      "execution_count": null,
      "metadata": {
        "id": "Px55l8zb776k"
      },
      "outputs": [],
      "source": [
        "# create EMI feature\n",
        "train['EMI'] = train['FacilityLimit'] / train['NumberOfInstallments']\n",
        "test['EMI'] = test['FacilityLimit'] / test['NumberOfInstallments']"
      ]
    },
    {
      "cell_type": "markdown",
      "metadata": {
        "id": "XaUrENQm776k"
      },
      "source": [
        "Let’s check the distribution of EMI variable. EMI is a continuous numerical variable."
      ]
    },
    {
      "cell_type": "code",
      "execution_count": null,
      "metadata": {
        "id": "c0rOi8Cu776k",
        "outputId": "3c5cc856-063c-4a48-c977-ccf0e68a0692"
      },
      "outputs": [
        {
          "data": {
            "text/plain": [
              "Text(0.5, 1.0, 'Test')"
            ]
          },
          "execution_count": 562,
          "metadata": {},
          "output_type": "execute_result"
        },
        {
          "data": {
            "image/png": "[encoded data removed]",
            "text/plain": [
              "<Figure size 1008x288 with 2 Axes>"
            ]
          },
          "metadata": {
            "needs_background": "light"
          },
          "output_type": "display_data"
        }
      ],
      "source": [
        "# check the distribution of EMI\n",
        "\n",
        "fig = plt.figure(figsize=(14, 4))\n",
        "ax1 = plt.subplot(121)\n",
        "sns.distplot(train['EMI'],color=\"g\",)\n",
        "ax1.set_title(\"Train\")\n",
        "\n",
        "ax1 = plt.subplot(122)\n",
        "sns.distplot(test['EMI'],color=\"r\",)\n",
        "ax1.set_title(\"Test\")"
      ]
    },
    {
      "cell_type": "markdown",
      "metadata": {
        "id": "DTlAIhtc776k"
      },
      "source": [
        "Let us create Balance Income feature now and check its distribution. This is the income left after the EMI has been paid."
      ]
    },
    {
      "cell_type": "code",
      "execution_count": null,
      "metadata": {
        "id": "NCbEjNM2776k"
      },
      "outputs": [],
      "source": [
        "# create new \"Balance Income\" variable\n",
        "train['Balance Income'] = train['Total_Income'] - (train['EMI']*1000) # Multiply with 1000 to make the units equal\n",
        "test['Balance Income'] = test['Total_Income'] - (test['EMI']*1000)"
      ]
    },
    {
      "cell_type": "code",
      "execution_count": null,
      "metadata": {
        "id": "MQ9YRG-6776k",
        "outputId": "e2c92f0c-f8e8-4968-9fbf-75c3c8383ac6"
      },
      "outputs": [
        {
          "data": {
            "text/plain": [
              "Text(0.5, 1.0, 'Test')"
            ]
          },
          "execution_count": 564,
          "metadata": {},
          "output_type": "execute_result"
        },
        {
          "data": {
            "image/png": "[encoded data removed]",
            "text/plain": [
              "<Figure size 1008x288 with 2 Axes>"
            ]
          },
          "metadata": {
            "needs_background": "light"
          },
          "output_type": "display_data"
        }
      ],
      "source": [
        "# check the distribution of EMI\n",
        "# before log transformation\n",
        "\n",
        "fig = plt.figure(figsize=(14, 4))\n",
        "ax1 = plt.subplot(121)\n",
        "sns.distplot(train['Balance Income'],color=\"g\",)\n",
        "ax1.set_title(\"Train\")\n",
        "\n",
        "ax1 = plt.subplot(122)\n",
        "sns.distplot(test['Balance Income'],color=\"r\",)\n",
        "ax1.set_title(\"Test\")"
      ]
    },
    {
      "cell_type": "markdown",
      "metadata": {
        "id": "ihD-bpvF776k"
      },
      "source": [
        "Let us now drop the variables which we used to create these new features. Reason for doing this is, the correlation between those old features and these new features will be very high and logistic regression assumes that the variables are not highly correlated. We also wants to remove the noise from the dataset, so removing correlated features will help in reducing the noise too. We will drop \"ApplicantIncome\", \"CoapplicantIncome\", \"LoanAmount\", \"Loan_Amount_Term\" as they are already represented by \"Total Income\", \"EMI\" and \"Balance Income\"."
      ]
    },
    {
      "cell_type": "code",
      "execution_count": null,
      "metadata": {
        "id": "p-IQINxN776k",
        "outputId": "6fb8dc67-7adf-4830-aba9-ae4aa8c126bd"
      },
      "outputs": [
        {
          "data": {
            "text/html": [
              "<div>\n",
              "<style scoped>\n",
              "    .dataframe tbody tr th:only-of-type {\n",
              "        vertical-align: middle;\n",
              "    }\n",
              "\n",
              "    .dataframe tbody tr th {\n",
              "        vertical-align: top;\n",
              "    }\n",
              "\n",
              "    .dataframe thead th {\n",
              "        text-align: right;\n",
              "    }\n",
              "</style>\n",
              "<table border=\"1\" class=\"dataframe\">\n",
              "  <thead>\n",
              "    <tr style=\"text-align: right;\">\n",
              "      <th></th>\n",
              "      <th>NumberOfDependants</th>\n",
              "      <th>GrossIncome</th>\n",
              "      <th>FacilityLimit</th>\n",
              "      <th>GuaranteeAmount</th>\n",
              "      <th>GuaranteeIncome</th>\n",
              "      <th>NumberOfInstallments</th>\n",
              "      <th>CreditHist</th>\n",
              "      <th>Loan_Status</th>\n",
              "      <th>FacilityLimit_log</th>\n",
              "      <th>Gender_Female</th>\n",
              "      <th>...</th>\n",
              "      <th>TypeOfContract_MortgageLoans</th>\n",
              "      <th>TypeOfContract_PersonalLoans</th>\n",
              "      <th>SelfEmployed_No</th>\n",
              "      <th>SelfEmployed_Yes</th>\n",
              "      <th>Graduate_Graduate</th>\n",
              "      <th>Graduate_Non Graduate</th>\n",
              "      <th>Total_Income</th>\n",
              "      <th>Total_Income_log</th>\n",
              "      <th>EMI</th>\n",
              "      <th>Balance Income</th>\n",
              "    </tr>\n",
              "  </thead>\n",
              "  <tbody>\n",
              "    <tr>\n",
              "      <td>0</td>\n",
              "      <td>0</td>\n",
              "      <td>5849.0</td>\n",
              "      <td>23343.52</td>\n",
              "      <td>23343.52</td>\n",
              "      <td>3083.0</td>\n",
              "      <td>30</td>\n",
              "      <td>0</td>\n",
              "      <td>1</td>\n",
              "      <td>10.058075</td>\n",
              "      <td>0</td>\n",
              "      <td>...</td>\n",
              "      <td>0</td>\n",
              "      <td>0</td>\n",
              "      <td>1</td>\n",
              "      <td>0</td>\n",
              "      <td>1</td>\n",
              "      <td>0</td>\n",
              "      <td>8932.0</td>\n",
              "      <td>9.097396</td>\n",
              "      <td>778.117333</td>\n",
              "      <td>-769185.333333</td>\n",
              "    </tr>\n",
              "    <tr>\n",
              "      <td>1</td>\n",
              "      <td>4</td>\n",
              "      <td>4583.0</td>\n",
              "      <td>25000.00</td>\n",
              "      <td>25000.00</td>\n",
              "      <td>6045.0</td>\n",
              "      <td>60</td>\n",
              "      <td>1</td>\n",
              "      <td>1</td>\n",
              "      <td>10.126631</td>\n",
              "      <td>0</td>\n",
              "      <td>...</td>\n",
              "      <td>0</td>\n",
              "      <td>0</td>\n",
              "      <td>1</td>\n",
              "      <td>0</td>\n",
              "      <td>1</td>\n",
              "      <td>0</td>\n",
              "      <td>10628.0</td>\n",
              "      <td>9.271247</td>\n",
              "      <td>416.666667</td>\n",
              "      <td>-406038.666667</td>\n",
              "    </tr>\n",
              "    <tr>\n",
              "      <td>2</td>\n",
              "      <td>0</td>\n",
              "      <td>3000.0</td>\n",
              "      <td>8405.81</td>\n",
              "      <td>8405.81</td>\n",
              "      <td>5250.0</td>\n",
              "      <td>60</td>\n",
              "      <td>1</td>\n",
              "      <td>1</td>\n",
              "      <td>9.036678</td>\n",
              "      <td>0</td>\n",
              "      <td>...</td>\n",
              "      <td>0</td>\n",
              "      <td>0</td>\n",
              "      <td>1</td>\n",
              "      <td>0</td>\n",
              "      <td>1</td>\n",
              "      <td>0</td>\n",
              "      <td>8250.0</td>\n",
              "      <td>9.017968</td>\n",
              "      <td>140.096833</td>\n",
              "      <td>-131846.833333</td>\n",
              "    </tr>\n",
              "    <tr>\n",
              "      <td>3</td>\n",
              "      <td>3</td>\n",
              "      <td>2583.0</td>\n",
              "      <td>14257.28</td>\n",
              "      <td>14257.28</td>\n",
              "      <td>14683.0</td>\n",
              "      <td>60</td>\n",
              "      <td>1</td>\n",
              "      <td>1</td>\n",
              "      <td>9.565023</td>\n",
              "      <td>1</td>\n",
              "      <td>...</td>\n",
              "      <td>0</td>\n",
              "      <td>0</td>\n",
              "      <td>1</td>\n",
              "      <td>0</td>\n",
              "      <td>1</td>\n",
              "      <td>0</td>\n",
              "      <td>17266.0</td>\n",
              "      <td>9.756495</td>\n",
              "      <td>237.621333</td>\n",
              "      <td>-220355.333333</td>\n",
              "    </tr>\n",
              "    <tr>\n",
              "      <td>4</td>\n",
              "      <td>0</td>\n",
              "      <td>6000.0</td>\n",
              "      <td>20000.00</td>\n",
              "      <td>20000.00</td>\n",
              "      <td>4931.0</td>\n",
              "      <td>30</td>\n",
              "      <td>0</td>\n",
              "      <td>1</td>\n",
              "      <td>9.903488</td>\n",
              "      <td>0</td>\n",
              "      <td>...</td>\n",
              "      <td>0</td>\n",
              "      <td>0</td>\n",
              "      <td>0</td>\n",
              "      <td>1</td>\n",
              "      <td>0</td>\n",
              "      <td>1</td>\n",
              "      <td>10931.0</td>\n",
              "      <td>9.299358</td>\n",
              "      <td>666.666667</td>\n",
              "      <td>-655735.666667</td>\n",
              "    </tr>\n",
              "  </tbody>\n",
              "</table>\n",
              "<p>5 rows × 406 columns</p>\n",
              "</div>"
            ],
            "text/plain": [
              "   NumberOfDependants  GrossIncome  FacilityLimit  GuaranteeAmount  \\\n",
              "0                   0       5849.0       23343.52         23343.52   \n",
              "1                   4       4583.0       25000.00         25000.00   \n",
              "2                   0       3000.0        8405.81          8405.81   \n",
              "3                   3       2583.0       14257.28         14257.28   \n",
              "4                   0       6000.0       20000.00         20000.00   \n",
              "\n",
              "   GuaranteeIncome  NumberOfInstallments  CreditHist  Loan_Status  \\\n",
              "0           3083.0                    30           0            1   \n",
              "1           6045.0                    60           1            1   \n",
              "2           5250.0                    60           1            1   \n",
              "3          14683.0                    60           1            1   \n",
              "4           4931.0                    30           0            1   \n",
              "\n",
              "   FacilityLimit_log  Gender_Female  ...  TypeOfContract_MortgageLoans  \\\n",
              "0          10.058075              0  ...                             0   \n",
              "1          10.126631              0  ...                             0   \n",
              "2           9.036678              0  ...                             0   \n",
              "3           9.565023              1  ...                             0   \n",
              "4           9.903488              0  ...                             0   \n",
              "\n",
              "   TypeOfContract_PersonalLoans  SelfEmployed_No  SelfEmployed_Yes  \\\n",
              "0                             0                1                 0   \n",
              "1                             0                1                 0   \n",
              "2                             0                1                 0   \n",
              "3                             0                1                 0   \n",
              "4                             0                0                 1   \n",
              "\n",
              "   Graduate_Graduate  Graduate_Non Graduate  Total_Income  Total_Income_log  \\\n",
              "0                  1                      0        8932.0          9.097396   \n",
              "1                  1                      0       10628.0          9.271247   \n",
              "2                  1                      0        8250.0          9.017968   \n",
              "3                  1                      0       17266.0          9.756495   \n",
              "4                  0                      1       10931.0          9.299358   \n",
              "\n",
              "          EMI  Balance Income  \n",
              "0  778.117333  -769185.333333  \n",
              "1  416.666667  -406038.666667  \n",
              "2  140.096833  -131846.833333  \n",
              "3  237.621333  -220355.333333  \n",
              "4  666.666667  -655735.666667  \n",
              "\n",
              "[5 rows x 406 columns]"
            ]
          },
          "execution_count": 565,
          "metadata": {},
          "output_type": "execute_result"
        }
      ],
      "source": [
        "# before dropping variables\n",
        "train.head()"
      ]
    },
    {
      "cell_type": "code",
      "execution_count": null,
      "metadata": {
        "id": "oKPARKwt776k",
        "outputId": "13fb615a-695d-48fc-e5fa-4201ec367a26"
      },
      "outputs": [
        {
          "data": {
            "text/html": [
              "<div>\n",
              "<style scoped>\n",
              "    .dataframe tbody tr th:only-of-type {\n",
              "        vertical-align: middle;\n",
              "    }\n",
              "\n",
              "    .dataframe tbody tr th {\n",
              "        vertical-align: top;\n",
              "    }\n",
              "\n",
              "    .dataframe thead th {\n",
              "        text-align: right;\n",
              "    }\n",
              "</style>\n",
              "<table border=\"1\" class=\"dataframe\">\n",
              "  <thead>\n",
              "    <tr style=\"text-align: right;\">\n",
              "      <th></th>\n",
              "      <th>NumberOfDependants</th>\n",
              "      <th>GrossIncome</th>\n",
              "      <th>FacilityLimit</th>\n",
              "      <th>GuaranteeAmount</th>\n",
              "      <th>GuaranteeIncome</th>\n",
              "      <th>NumberOfInstallments</th>\n",
              "      <th>CreditHist</th>\n",
              "      <th>FacilityLimit_log</th>\n",
              "      <th>Gender_Female</th>\n",
              "      <th>Gender_Male</th>\n",
              "      <th>...</th>\n",
              "      <th>TypeOfContract_MortgageLoans</th>\n",
              "      <th>TypeOfContract_PersonalLoans</th>\n",
              "      <th>SelfEmployed_No</th>\n",
              "      <th>SelfEmployed_Yes</th>\n",
              "      <th>Graduate_Graduate</th>\n",
              "      <th>Graduate_Non Graduate</th>\n",
              "      <th>Total_Income</th>\n",
              "      <th>Total_Income_log</th>\n",
              "      <th>EMI</th>\n",
              "      <th>Balance Income</th>\n",
              "    </tr>\n",
              "  </thead>\n",
              "  <tbody>\n",
              "    <tr>\n",
              "      <td>0</td>\n",
              "      <td>2</td>\n",
              "      <td>5849.0</td>\n",
              "      <td>5100.0</td>\n",
              "      <td>5100.0</td>\n",
              "      <td>3083.0</td>\n",
              "      <td>60</td>\n",
              "      <td>1</td>\n",
              "      <td>8.536996</td>\n",
              "      <td>0</td>\n",
              "      <td>1</td>\n",
              "      <td>...</td>\n",
              "      <td>0</td>\n",
              "      <td>1</td>\n",
              "      <td>1</td>\n",
              "      <td>0</td>\n",
              "      <td>1</td>\n",
              "      <td>0</td>\n",
              "      <td>8932.0</td>\n",
              "      <td>9.097396</td>\n",
              "      <td>85.000000</td>\n",
              "      <td>-76068.000000</td>\n",
              "    </tr>\n",
              "    <tr>\n",
              "      <td>1</td>\n",
              "      <td>3</td>\n",
              "      <td>4583.0</td>\n",
              "      <td>1560.0</td>\n",
              "      <td>1560.0</td>\n",
              "      <td>6045.0</td>\n",
              "      <td>30</td>\n",
              "      <td>1</td>\n",
              "      <td>7.352441</td>\n",
              "      <td>0</td>\n",
              "      <td>1</td>\n",
              "      <td>...</td>\n",
              "      <td>0</td>\n",
              "      <td>1</td>\n",
              "      <td>0</td>\n",
              "      <td>1</td>\n",
              "      <td>0</td>\n",
              "      <td>1</td>\n",
              "      <td>10628.0</td>\n",
              "      <td>9.271247</td>\n",
              "      <td>52.000000</td>\n",
              "      <td>-41372.000000</td>\n",
              "    </tr>\n",
              "    <tr>\n",
              "      <td>2</td>\n",
              "      <td>2</td>\n",
              "      <td>3000.0</td>\n",
              "      <td>6732.0</td>\n",
              "      <td>6732.0</td>\n",
              "      <td>5250.0</td>\n",
              "      <td>60</td>\n",
              "      <td>1</td>\n",
              "      <td>8.814628</td>\n",
              "      <td>1</td>\n",
              "      <td>0</td>\n",
              "      <td>...</td>\n",
              "      <td>0</td>\n",
              "      <td>1</td>\n",
              "      <td>1</td>\n",
              "      <td>0</td>\n",
              "      <td>1</td>\n",
              "      <td>0</td>\n",
              "      <td>8250.0</td>\n",
              "      <td>9.017968</td>\n",
              "      <td>112.200000</td>\n",
              "      <td>-103950.000000</td>\n",
              "    </tr>\n",
              "    <tr>\n",
              "      <td>3</td>\n",
              "      <td>3</td>\n",
              "      <td>2583.0</td>\n",
              "      <td>1260.0</td>\n",
              "      <td>1260.0</td>\n",
              "      <td>14683.0</td>\n",
              "      <td>30</td>\n",
              "      <td>1</td>\n",
              "      <td>7.138867</td>\n",
              "      <td>1</td>\n",
              "      <td>0</td>\n",
              "      <td>...</td>\n",
              "      <td>0</td>\n",
              "      <td>1</td>\n",
              "      <td>1</td>\n",
              "      <td>0</td>\n",
              "      <td>1</td>\n",
              "      <td>0</td>\n",
              "      <td>17266.0</td>\n",
              "      <td>9.756495</td>\n",
              "      <td>42.000000</td>\n",
              "      <td>-24734.000000</td>\n",
              "    </tr>\n",
              "    <tr>\n",
              "      <td>4</td>\n",
              "      <td>0</td>\n",
              "      <td>6000.0</td>\n",
              "      <td>1160.0</td>\n",
              "      <td>1160.0</td>\n",
              "      <td>4931.0</td>\n",
              "      <td>30</td>\n",
              "      <td>1</td>\n",
              "      <td>7.056175</td>\n",
              "      <td>0</td>\n",
              "      <td>1</td>\n",
              "      <td>...</td>\n",
              "      <td>0</td>\n",
              "      <td>1</td>\n",
              "      <td>0</td>\n",
              "      <td>1</td>\n",
              "      <td>0</td>\n",
              "      <td>1</td>\n",
              "      <td>10931.0</td>\n",
              "      <td>9.299358</td>\n",
              "      <td>38.666667</td>\n",
              "      <td>-27735.666667</td>\n",
              "    </tr>\n",
              "  </tbody>\n",
              "</table>\n",
              "<p>5 rows × 405 columns</p>\n",
              "</div>"
            ],
            "text/plain": [
              "   NumberOfDependants  GrossIncome  FacilityLimit  GuaranteeAmount  \\\n",
              "0                   2       5849.0         5100.0           5100.0   \n",
              "1                   3       4583.0         1560.0           1560.0   \n",
              "2                   2       3000.0         6732.0           6732.0   \n",
              "3                   3       2583.0         1260.0           1260.0   \n",
              "4                   0       6000.0         1160.0           1160.0   \n",
              "\n",
              "   GuaranteeIncome  NumberOfInstallments  CreditHist  FacilityLimit_log  \\\n",
              "0           3083.0                    60           1           8.536996   \n",
              "1           6045.0                    30           1           7.352441   \n",
              "2           5250.0                    60           1           8.814628   \n",
              "3          14683.0                    30           1           7.138867   \n",
              "4           4931.0                    30           1           7.056175   \n",
              "\n",
              "   Gender_Female  Gender_Male  ...  TypeOfContract_MortgageLoans  \\\n",
              "0              0            1  ...                             0   \n",
              "1              0            1  ...                             0   \n",
              "2              1            0  ...                             0   \n",
              "3              1            0  ...                             0   \n",
              "4              0            1  ...                             0   \n",
              "\n",
              "   TypeOfContract_PersonalLoans  SelfEmployed_No  SelfEmployed_Yes  \\\n",
              "0                             1                1                 0   \n",
              "1                             1                0                 1   \n",
              "2                             1                1                 0   \n",
              "3                             1                1                 0   \n",
              "4                             1                0                 1   \n",
              "\n",
              "   Graduate_Graduate  Graduate_Non Graduate  Total_Income  Total_Income_log  \\\n",
              "0                  1                      0        8932.0          9.097396   \n",
              "1                  0                      1       10628.0          9.271247   \n",
              "2                  1                      0        8250.0          9.017968   \n",
              "3                  1                      0       17266.0          9.756495   \n",
              "4                  0                      1       10931.0          9.299358   \n",
              "\n",
              "          EMI  Balance Income  \n",
              "0   85.000000   -76068.000000  \n",
              "1   52.000000   -41372.000000  \n",
              "2  112.200000  -103950.000000  \n",
              "3   42.000000   -24734.000000  \n",
              "4   38.666667   -27735.666667  \n",
              "\n",
              "[5 rows x 405 columns]"
            ]
          },
          "execution_count": 566,
          "metadata": {},
          "output_type": "execute_result"
        }
      ],
      "source": [
        "test.head()"
      ]
    },
    {
      "cell_type": "code",
      "execution_count": null,
      "metadata": {
        "id": "ukaUv6Z1776k"
      },
      "outputs": [],
      "source": [
        "# drop the variables\n",
        "train = train.drop(['GrossIncome', 'GuaranteeAmount','GuaranteeIncome', 'FacilityLimit', 'NumberOfInstallments'], axis=1)\n",
        "test = test.drop(['GrossIncome','GuaranteeAmount','GuaranteeIncome', 'FacilityLimit', 'NumberOfInstallments'], axis=1)\n",
        "\n"
      ]
    },
    {
      "cell_type": "code",
      "execution_count": null,
      "metadata": {
        "id": "bfdNoAzR776k",
        "outputId": "11b4a65b-9613-4f0c-e07b-7e2b3d69d974"
      },
      "outputs": [
        {
          "data": {
            "text/html": [
              "<div>\n",
              "<style scoped>\n",
              "    .dataframe tbody tr th:only-of-type {\n",
              "        vertical-align: middle;\n",
              "    }\n",
              "\n",
              "    .dataframe tbody tr th {\n",
              "        vertical-align: top;\n",
              "    }\n",
              "\n",
              "    .dataframe thead th {\n",
              "        text-align: right;\n",
              "    }\n",
              "</style>\n",
              "<table border=\"1\" class=\"dataframe\">\n",
              "  <thead>\n",
              "    <tr style=\"text-align: right;\">\n",
              "      <th></th>\n",
              "      <th>NumberOfDependants</th>\n",
              "      <th>CreditHist</th>\n",
              "      <th>Loan_Status</th>\n",
              "      <th>FacilityLimit_log</th>\n",
              "      <th>Gender_Female</th>\n",
              "      <th>Gender_Male</th>\n",
              "      <th>MaritalStatus_Divorced</th>\n",
              "      <th>MaritalStatus_Married</th>\n",
              "      <th>MaritalStatus_Separated</th>\n",
              "      <th>MaritalStatus_Single</th>\n",
              "      <th>...</th>\n",
              "      <th>TypeOfContract_MortgageLoans</th>\n",
              "      <th>TypeOfContract_PersonalLoans</th>\n",
              "      <th>SelfEmployed_No</th>\n",
              "      <th>SelfEmployed_Yes</th>\n",
              "      <th>Graduate_Graduate</th>\n",
              "      <th>Graduate_Non Graduate</th>\n",
              "      <th>Total_Income</th>\n",
              "      <th>Total_Income_log</th>\n",
              "      <th>EMI</th>\n",
              "      <th>Balance Income</th>\n",
              "    </tr>\n",
              "  </thead>\n",
              "  <tbody>\n",
              "    <tr>\n",
              "      <td>0</td>\n",
              "      <td>0</td>\n",
              "      <td>0</td>\n",
              "      <td>1</td>\n",
              "      <td>10.058075</td>\n",
              "      <td>0</td>\n",
              "      <td>1</td>\n",
              "      <td>0</td>\n",
              "      <td>1</td>\n",
              "      <td>0</td>\n",
              "      <td>0</td>\n",
              "      <td>...</td>\n",
              "      <td>0</td>\n",
              "      <td>0</td>\n",
              "      <td>1</td>\n",
              "      <td>0</td>\n",
              "      <td>1</td>\n",
              "      <td>0</td>\n",
              "      <td>8932.0</td>\n",
              "      <td>9.097396</td>\n",
              "      <td>778.117333</td>\n",
              "      <td>-769185.333333</td>\n",
              "    </tr>\n",
              "    <tr>\n",
              "      <td>1</td>\n",
              "      <td>4</td>\n",
              "      <td>1</td>\n",
              "      <td>1</td>\n",
              "      <td>10.126631</td>\n",
              "      <td>0</td>\n",
              "      <td>1</td>\n",
              "      <td>0</td>\n",
              "      <td>1</td>\n",
              "      <td>0</td>\n",
              "      <td>0</td>\n",
              "      <td>...</td>\n",
              "      <td>0</td>\n",
              "      <td>0</td>\n",
              "      <td>1</td>\n",
              "      <td>0</td>\n",
              "      <td>1</td>\n",
              "      <td>0</td>\n",
              "      <td>10628.0</td>\n",
              "      <td>9.271247</td>\n",
              "      <td>416.666667</td>\n",
              "      <td>-406038.666667</td>\n",
              "    </tr>\n",
              "    <tr>\n",
              "      <td>2</td>\n",
              "      <td>0</td>\n",
              "      <td>1</td>\n",
              "      <td>1</td>\n",
              "      <td>9.036678</td>\n",
              "      <td>0</td>\n",
              "      <td>1</td>\n",
              "      <td>0</td>\n",
              "      <td>1</td>\n",
              "      <td>0</td>\n",
              "      <td>0</td>\n",
              "      <td>...</td>\n",
              "      <td>0</td>\n",
              "      <td>0</td>\n",
              "      <td>1</td>\n",
              "      <td>0</td>\n",
              "      <td>1</td>\n",
              "      <td>0</td>\n",
              "      <td>8250.0</td>\n",
              "      <td>9.017968</td>\n",
              "      <td>140.096833</td>\n",
              "      <td>-131846.833333</td>\n",
              "    </tr>\n",
              "    <tr>\n",
              "      <td>3</td>\n",
              "      <td>3</td>\n",
              "      <td>1</td>\n",
              "      <td>1</td>\n",
              "      <td>9.565023</td>\n",
              "      <td>1</td>\n",
              "      <td>0</td>\n",
              "      <td>0</td>\n",
              "      <td>0</td>\n",
              "      <td>0</td>\n",
              "      <td>1</td>\n",
              "      <td>...</td>\n",
              "      <td>0</td>\n",
              "      <td>0</td>\n",
              "      <td>1</td>\n",
              "      <td>0</td>\n",
              "      <td>1</td>\n",
              "      <td>0</td>\n",
              "      <td>17266.0</td>\n",
              "      <td>9.756495</td>\n",
              "      <td>237.621333</td>\n",
              "      <td>-220355.333333</td>\n",
              "    </tr>\n",
              "    <tr>\n",
              "      <td>4</td>\n",
              "      <td>0</td>\n",
              "      <td>0</td>\n",
              "      <td>1</td>\n",
              "      <td>9.903488</td>\n",
              "      <td>0</td>\n",
              "      <td>1</td>\n",
              "      <td>0</td>\n",
              "      <td>1</td>\n",
              "      <td>0</td>\n",
              "      <td>0</td>\n",
              "      <td>...</td>\n",
              "      <td>0</td>\n",
              "      <td>0</td>\n",
              "      <td>0</td>\n",
              "      <td>1</td>\n",
              "      <td>0</td>\n",
              "      <td>1</td>\n",
              "      <td>10931.0</td>\n",
              "      <td>9.299358</td>\n",
              "      <td>666.666667</td>\n",
              "      <td>-655735.666667</td>\n",
              "    </tr>\n",
              "  </tbody>\n",
              "</table>\n",
              "<p>5 rows × 401 columns</p>\n",
              "</div>"
            ],
            "text/plain": [
              "   NumberOfDependants  CreditHist  Loan_Status  FacilityLimit_log  \\\n",
              "0                   0           0            1          10.058075   \n",
              "1                   4           1            1          10.126631   \n",
              "2                   0           1            1           9.036678   \n",
              "3                   3           1            1           9.565023   \n",
              "4                   0           0            1           9.903488   \n",
              "\n",
              "   Gender_Female  Gender_Male  MaritalStatus_Divorced  MaritalStatus_Married  \\\n",
              "0              0            1                       0                      1   \n",
              "1              0            1                       0                      1   \n",
              "2              0            1                       0                      1   \n",
              "3              1            0                       0                      0   \n",
              "4              0            1                       0                      1   \n",
              "\n",
              "   MaritalStatus_Separated  MaritalStatus_Single  ...  \\\n",
              "0                        0                     0  ...   \n",
              "1                        0                     0  ...   \n",
              "2                        0                     0  ...   \n",
              "3                        0                     1  ...   \n",
              "4                        0                     0  ...   \n",
              "\n",
              "   TypeOfContract_MortgageLoans  TypeOfContract_PersonalLoans  \\\n",
              "0                             0                             0   \n",
              "1                             0                             0   \n",
              "2                             0                             0   \n",
              "3                             0                             0   \n",
              "4                             0                             0   \n",
              "\n",
              "   SelfEmployed_No  SelfEmployed_Yes  Graduate_Graduate  \\\n",
              "0                1                 0                  1   \n",
              "1                1                 0                  1   \n",
              "2                1                 0                  1   \n",
              "3                1                 0                  1   \n",
              "4                0                 1                  0   \n",
              "\n",
              "   Graduate_Non Graduate  Total_Income  Total_Income_log         EMI  \\\n",
              "0                      0        8932.0          9.097396  778.117333   \n",
              "1                      0       10628.0          9.271247  416.666667   \n",
              "2                      0        8250.0          9.017968  140.096833   \n",
              "3                      0       17266.0          9.756495  237.621333   \n",
              "4                      1       10931.0          9.299358  666.666667   \n",
              "\n",
              "   Balance Income  \n",
              "0  -769185.333333  \n",
              "1  -406038.666667  \n",
              "2  -131846.833333  \n",
              "3  -220355.333333  \n",
              "4  -655735.666667  \n",
              "\n",
              "[5 rows x 401 columns]"
            ]
          },
          "execution_count": 568,
          "metadata": {},
          "output_type": "execute_result"
        }
      ],
      "source": [
        "# after dropping variables\n",
        "train.head()"
      ]
    },
    {
      "cell_type": "markdown",
      "metadata": {
        "id": "rmtOB7hi776k"
      },
      "source": [
        "***\n",
        "## <a name=\"model2\">Model Building : Part II</a>\n",
        "\n",
        "\n",
        "After creating new features, we can continue the model building process.\n",
        "\n",
        "We will build the following models in this section.\n",
        "\n",
        "- Logistic Regression\n",
        "- Decision Tree\n",
        "- Random Forest\n",
        "- XGBoost\n",
        "\n",
        "Let’s prepare the data for feeding into the models."
      ]
    },
    {
      "cell_type": "code",
      "execution_count": null,
      "metadata": {
        "id": "GcXlaD3s776k"
      },
      "outputs": [],
      "source": [
        "# drop \"Loan_Status\" and assign it to target variable\n",
        "X = train.drop('Loan_Status', axis=1)\n",
        "y = train.Loan_Status                # Save target variable in separate dataset"
      ]
    },
    {
      "cell_type": "markdown",
      "metadata": {
        "id": "RXXBwNcq776l"
      },
      "source": [
        "### Logistic Regression"
      ]
    },
    {
      "cell_type": "code",
      "execution_count": null,
      "metadata": {
        "id": "KurEnVoB776l",
        "outputId": "14fb4f21-4964-4bc5-fb0b-37f1bc188c24"
      },
      "outputs": [
        {
          "name": "stdout",
          "output_type": "stream",
          "text": [
            "\n",
            "1 of kfold 5\n",
            "accuracy_score 0.8675034867503487\n",
            "\n",
            "2 of kfold 5\n",
            "accuracy_score 0.8675034867503487\n",
            "\n",
            "3 of kfold 5\n",
            "accuracy_score 0.8675034867503487\n",
            "\n",
            "4 of kfold 5\n",
            "accuracy_score 0.8675034867503487\n",
            "\n",
            "5 of kfold 5\n",
            "accuracy_score 0.86731843575419\n",
            "\n",
            "Mean validation accuracy:  0.8674664765511169\n"
          ]
        }
      ],
      "source": [
        "# stratified 5 folds, shuffle each stratification of the data before splitting into batches\n",
        "\n",
        "mean_accuracy = []\n",
        "i = 1\n",
        "kf = StratifiedKFold(n_splits=5, random_state=1, shuffle=True)\n",
        "\n",
        "for train_index, test_index in kf.split(X, y):\n",
        "    print('\\n{} of kfold {}'.format(i, kf.n_splits))\n",
        "    xtr, xvl = X.loc[train_index], X.loc[test_index]\n",
        "    ytr, yvl = y[train_index], y[test_index]\n",
        "\n",
        "    model = LogisticRegression(random_state=1)\n",
        "    model.fit(xtr, ytr)\n",
        "    pred_test = model.predict(xvl)\n",
        "    score = accuracy_score(yvl, pred_test)\n",
        "    mean_accuracy.append(score)\n",
        "    print('accuracy_score', score)\n",
        "    i+=1\n",
        "\n",
        "print(\"\\nMean validation accuracy: \", sum(mean_accuracy)/len(mean_accuracy))\n",
        "\n",
        "\n",
        "# make prediction on test set\n",
        "pred_test = model.predict(test)\n",
        "\n",
        "\n",
        "# calculate probability estimates of loan approval\n",
        "# column 0 is the probability for class 0 and column 1 is the probability for class 1\n",
        "# probability of loan default = 1 - model.predict_proba(test)[:,1]\n",
        "pred = model.predict_proba(xvl)[:,1]"
      ]
    },
    {
      "cell_type": "markdown",
      "metadata": {
        "id": "bNo9rLCd776l"
      },
      "source": [
        "The mean validation accuracy for this model is 0.867"
      ]
    },
    {
      "cell_type": "code",
      "execution_count": null,
      "metadata": {
        "id": "ciaRABqM776l"
      },
      "outputs": [],
      "source": [
        "# filling Loan_Status with predictions\n",
        "submission['Loan_Status'] = pred_test\n",
        "\n",
        "# filling Loan_ID with test Loan_ID\n",
        "submission['LoanCode'] = test_original['LoanCode']"
      ]
    },
    {
      "cell_type": "code",
      "execution_count": null,
      "metadata": {
        "id": "mX6Pq4WS776l"
      },
      "outputs": [],
      "source": [
        "# replacing 0 and 1 with N and Y\n",
        "submission['Loan_Status'].replace(0, 'N', inplace=True)\n",
        "submission['Loan_Status'].replace(1, 'Y', inplace=True)"
      ]
    },
    {
      "cell_type": "code",
      "execution_count": null,
      "metadata": {
        "id": "9YnoI8XW776l"
      },
      "outputs": [],
      "source": [
        "# Converting submission file to .csv format\n",
        "submission.to_csv('Log2.csv', index=False)"
      ]
    },
    {
      "cell_type": "markdown",
      "metadata": {
        "id": "Dg9sSzqT776l"
      },
      "source": [
        "From this submission we got an accuracy of 0.7778 on the leaderboard. So we can infer feature engineering has not improved the model. Let us look at some other algorithms."
      ]
    },
    {
      "cell_type": "markdown",
      "metadata": {
        "id": "n19wR8gb776l"
      },
      "source": [
        "### Decision Tree"
      ]
    },
    {
      "cell_type": "markdown",
      "metadata": {
        "id": "uTv8_Yeg776l"
      },
      "source": [
        "Decision tree is a type of supervised learning algorithm(having a pre-defined target variable) that is mostly used in classification problems. In this technique, we split the population or sample into two or more homogeneous sets(or sub-populations) based on most significant splitter / differentiator in input variables.\n",
        "\n",
        "Decision trees use multiple algorithms to decide to split a node in two or more sub-nodes. The creation of sub-nodes increases the homogeneity of resultant sub-nodes. In other words, we can say that purity of the node increases with respect to the target variable.\n"
      ]
    },
    {
      "cell_type": "code",
      "execution_count": null,
      "metadata": {
        "id": "sikIvqic776l"
      },
      "outputs": [],
      "source": [
        "# import library\n",
        "from sklearn import tree"
      ]
    },
    {
      "cell_type": "markdown",
      "metadata": {
        "id": "p6IsMxFF776l"
      },
      "source": [
        "Let’s fit the decision tree model with 5 folds of cross validation."
      ]
    },
    {
      "cell_type": "code",
      "execution_count": null,
      "metadata": {
        "id": "2JMR_lYg776l",
        "outputId": "0cc284b4-390a-4841-c82a-89e0d42eaf84"
      },
      "outputs": [
        {
          "name": "stdout",
          "output_type": "stream",
          "text": [
            "\n",
            "1 of kfold 5\n",
            "accuracy_score 0.793584379358438\n",
            "\n",
            "2 of kfold 5\n",
            "accuracy_score 0.8117154811715481\n",
            "\n",
            "3 of kfold 5\n",
            "accuracy_score 0.793584379358438\n",
            "\n",
            "4 of kfold 5\n",
            "accuracy_score 0.7866108786610879\n",
            "\n",
            "5 of kfold 5\n",
            "accuracy_score 0.8058659217877095\n",
            "\n",
            "Mean validation accuracy:  0.7982722080674443\n"
          ]
        }
      ],
      "source": [
        "mean_accuracy = []\n",
        "i=1\n",
        "kf = StratifiedKFold(n_splits=5,random_state=1,shuffle=True)\n",
        "for train_index,test_index in kf.split(X,y):\n",
        "    print('\\n{} of kfold {}'.format(i,kf.n_splits))\n",
        "    xtr,xvl = X.loc[train_index],X.loc[test_index]\n",
        "    ytr,yvl = y[train_index],y[test_index]\n",
        "\n",
        "    model = tree.DecisionTreeClassifier(random_state=1)\n",
        "    model.fit(xtr, ytr)\n",
        "    pred_test = model.predict(xvl)\n",
        "    score = accuracy_score(yvl,pred_test)\n",
        "    mean_accuracy.append(score)\n",
        "    print('accuracy_score',score)\n",
        "    i+=1\n",
        "\n",
        "print(\"\\nMean validation accuracy: \", sum(mean_accuracy)/len(mean_accuracy))\n",
        "pred_test = model.predict(test)"
      ]
    },
    {
      "cell_type": "markdown",
      "metadata": {
        "id": "Gifcz3mK776l"
      },
      "source": [
        "The mean validation accuracy for this model is 0.79, which is lower than Logistic Regression, let's see how it perform on the Test set by submitting to the result."
      ]
    },
    {
      "cell_type": "code",
      "execution_count": null,
      "metadata": {
        "id": "h36BARDd776l"
      },
      "outputs": [],
      "source": [
        "# filling Loan_Status with predictions\n",
        "submission['Loan_Status'] = pred_test\n",
        "\n",
        "# filling Loan_ID with test Loan_ID\n",
        "submission['LoanCode'] = test_original['LoanCode']"
      ]
    },
    {
      "cell_type": "code",
      "execution_count": null,
      "metadata": {
        "id": "WWhfarHx776l"
      },
      "outputs": [],
      "source": [
        "# replacing 0 and 1 with N and Y\n",
        "submission['Loan_Status'].replace(0, 'N', inplace=True)\n",
        "submission['Loan_Status'].replace(1, 'Y', inplace=True)"
      ]
    },
    {
      "cell_type": "code",
      "execution_count": null,
      "metadata": {
        "id": "WaS663lF776l"
      },
      "outputs": [],
      "source": [
        "# Converting submission file to .csv format\n",
        "submission.to_csv('Decision Tree.csv', index=False)"
      ]
    },
    {
      "cell_type": "markdown",
      "metadata": {
        "id": "Tf7fH9SM776l"
      },
      "source": [
        "We got an accuracy of 0.6458 which is much lesser than the accuracy from logistic regression model. So let’s build another model, i.e. Random Forest, a tree based ensemble algorithm and try to improve our model by improving the accuracy."
      ]
    },
    {
      "cell_type": "markdown",
      "metadata": {
        "id": "poEX7goS776m"
      },
      "source": [
        "### Random Forest\n",
        "\n",
        "- RandomForest is a tree based bootstrapping algorithm wherein a certain no. of weak learners (decision trees) are combined to make a powerful prediction model.\n",
        "- For every individual learner, a random sample of rows and a few randomly chosen variables are used to build a decision tree model.\n",
        "- Final prediction can be a function of all the predictions made by the individual learners.\n",
        "- In case of regression problem, the final prediction can be mean of all the predictions.\n",
        "\n",
        "There are some parameters worth exploring with the sklearn RandomForestClassifier:\n",
        "\n",
        "- n_estimators\n",
        "- max_features\n",
        "\n",
        "n_estimators = ususally bigger the forest the better, there is small chance of overfitting here. The more estimators you give it, the better it will do. We will use the default value of 10.\n",
        "\n",
        "max depth of each tree (default none, leading to full tree) - reduction of the maximum depth helps fighting with overfitting. We will limit at 10.\n",
        "\n"
      ]
    },
    {
      "cell_type": "code",
      "execution_count": null,
      "metadata": {
        "id": "gHqY2Xo6776m"
      },
      "outputs": [],
      "source": [
        "# import library\n",
        "from sklearn.ensemble import RandomForestClassifier"
      ]
    },
    {
      "cell_type": "code",
      "execution_count": null,
      "metadata": {
        "id": "l1DTSXrm776m",
        "outputId": "e9865ebc-0f7f-4523-a886-bb94688d041c"
      },
      "outputs": [
        {
          "name": "stdout",
          "output_type": "stream",
          "text": [
            "\n",
            "1 of kfold 5\n",
            "accuracy_score 0.8675034867503487\n",
            "\n",
            "2 of kfold 5\n",
            "accuracy_score 0.8661087866108786\n",
            "\n",
            "3 of kfold 5\n",
            "accuracy_score 0.8675034867503487\n",
            "\n",
            "4 of kfold 5\n",
            "accuracy_score 0.8688981868898187\n",
            "\n",
            "5 of kfold 5\n",
            "accuracy_score 0.86731843575419\n",
            "\n",
            "Mean validation accuracy:  0.8674664765511169\n"
          ]
        }
      ],
      "source": [
        "mean_accuracy = []\n",
        "i=1\n",
        "kf = StratifiedKFold(n_splits=5,random_state=1,shuffle=True)\n",
        "for train_index,test_index in kf.split(X, y):\n",
        "    print('\\n{} of kfold {}'.format(i,kf.n_splits))\n",
        "    xtr,xvl = X.loc[train_index],X.loc[test_index]\n",
        "    ytr,yvl = y[train_index],y[test_index]\n",
        "\n",
        "    model = RandomForestClassifier(random_state=1, max_depth=10, n_estimators=10)\n",
        "    model.fit(xtr, ytr)\n",
        "    pred_test = model.predict(xvl)\n",
        "    score = accuracy_score(yvl,pred_test)\n",
        "    mean_accuracy.append(score)\n",
        "    print('accuracy_score',score)\n",
        "    i+=1\n",
        "\n",
        "print(\"\\nMean validation accuracy: \", sum(mean_accuracy)/len(mean_accuracy))\n",
        "pred_test = model.predict(test)"
      ]
    },
    {
      "cell_type": "markdown",
      "metadata": {
        "id": "iNboFBMu776m"
      },
      "source": [
        "The mean validation accuracy for this model is 0.867"
      ]
    },
    {
      "cell_type": "markdown",
      "metadata": {
        "id": "NKG_-Koy776m"
      },
      "source": [
        "### XGBoost\n",
        "\n",
        "XGBoost is a fast and efficient algorithm and has been used to by the winners of many data science competitions.\n",
        "\n",
        "XGBoost works only with numeric variables and we have already replaced the categorical variables with numeric variables. Let’s have a look at the parameters that we are going to use in our model.\n",
        "\n",
        "- n_estimator: This specifies the number of trees for the model.\n",
        "- max_depth: We can specify maximum depth of a tree using this parameter.\n"
      ]
    },
    {
      "cell_type": "code",
      "execution_count": null,
      "metadata": {
        "id": "sC0O-lcH776m"
      },
      "outputs": [],
      "source": [
        "# import library\n",
        "from xgboost import XGBClassifier"
      ]
    },
    {
      "cell_type": "code",
      "execution_count": null,
      "metadata": {
        "id": "UERzCFPo776m",
        "outputId": "6be9303f-4f8d-4bf0-e2ca-a611c2e1ff92"
      },
      "outputs": [
        {
          "name": "stdout",
          "output_type": "stream",
          "text": [
            "\n",
            "1 of kfold 5\n",
            "accuracy_score 0.8619246861924686\n",
            "\n",
            "2 of kfold 5\n",
            "accuracy_score 0.8633193863319386\n",
            "\n",
            "3 of kfold 5\n",
            "accuracy_score 0.8675034867503487\n",
            "\n",
            "4 of kfold 5\n",
            "accuracy_score 0.8661087866108786\n",
            "\n",
            "5 of kfold 5\n",
            "accuracy_score 0.8645251396648045\n",
            "\n",
            "Mean validation accuracy:  0.8646762971100879\n"
          ]
        }
      ],
      "source": [
        "\n",
        "\n",
        "mean_accuracy = []\n",
        "i=1\n",
        "kf = StratifiedKFold(n_splits=5,random_state=1,shuffle=True)\n",
        "for train_index,test_index in kf.split(X,y):\n",
        "    print('\\n{} of kfold {}'.format(i,kf.n_splits))\n",
        "    xtr,xvl = X.loc[train_index],X.loc[test_index]\n",
        "    ytr,yvl = y[train_index],y[test_index]\n",
        "\n",
        "    model = XGBClassifier(random_state=1, n_estimators=50, max_depth=4)\n",
        "    model.fit(xtr, ytr)\n",
        "    pred_test = model.predict(xvl)\n",
        "    score = accuracy_score(yvl,pred_test)\n",
        "    mean_accuracy.append(score)\n",
        "    print('accuracy_score',score)\n",
        "    i+=1\n",
        "\n",
        "print(\"\\nMean validation accuracy: \", sum(mean_accuracy)/len(mean_accuracy))\n",
        "#pred_test = model.predict(test)\n",
        "#pred3=model.predict_proba(test)[:,1]\n",
        "\n",
        "# warnings.filterwarnings(action='ignore', category=DeprecationWarning)"
      ]
    },
    {
      "cell_type": "markdown",
      "metadata": {
        "id": "ISPm3Gfx776m"
      },
      "source": [
        "The mean validation accuracy for this model is 0.86\n",
        "\n",
        "We will try to improve the accuracy by tuning the hyperparameters for this model. We will use grid search to get the optimized values of hyper parameters."
      ]
    },
    {
      "cell_type": "code",
      "execution_count": null,
      "metadata": {
        "id": "NkbrA-T7776m"
      },
      "outputs": [],
      "source": [
        "# import library\n",
        "from sklearn.model_selection import GridSearchCV"
      ]
    },
    {
      "cell_type": "code",
      "execution_count": null,
      "metadata": {
        "id": "UDFJbGQr776m"
      },
      "outputs": [],
      "source": [
        "# Provide range for max_depth from 1 to 20 with an interval of 2 and from 1 to 200 with an interval of 20 for n_estimators\n",
        "paramgrid = {'max_depth': list(range(1, 20, 2)), 'n_estimators': list(range(1, 200, 20))}"
      ]
    },
    {
      "cell_type": "code",
      "execution_count": null,
      "metadata": {
        "id": "ZbO5UZkS776m"
      },
      "outputs": [],
      "source": [
        "# default 3-fold cross validation, cv=3\n",
        "grid_search = GridSearchCV(XGBClassifier(random_state=1), paramgrid)"
      ]
    },
    {
      "cell_type": "code",
      "execution_count": null,
      "metadata": {
        "id": "S_pXxvD8776m"
      },
      "outputs": [],
      "source": [
        "# split the data\n",
        "from sklearn.model_selection import train_test_split\n",
        "x_train, x_cv, y_train, y_cv = train_test_split(X, y, test_size =0.3, random_state=1)"
      ]
    },
    {
      "cell_type": "code",
      "execution_count": null,
      "metadata": {
        "id": "mmjxz4k7776m",
        "outputId": "ecf53d2d-795c-43ec-eac8-b7c7f7e78299"
      },
      "outputs": [
        {
          "data": {
            "text/plain": [
              "GridSearchCV(cv='warn', error_score='raise-deprecating',\n",
              "             estimator=XGBClassifier(base_score=0.5, booster='gbtree',\n",
              "                                     colsample_bylevel=1, colsample_bynode=1,\n",
              "                                     colsample_bytree=1, gamma=0,\n",
              "                                     learning_rate=0.1, max_delta_step=0,\n",
              "                                     max_depth=3, min_child_weight=1,\n",
              "                                     missing=None, n_estimators=100, n_jobs=1,\n",
              "                                     nthread=None, objective='binary:logistic',\n",
              "                                     random_state=1, reg_alpha=0, reg_lambda=1,\n",
              "                                     scale_pos_weight=1, seed=None, silent=None,\n",
              "                                     subsample=1, verbosity=1),\n",
              "             iid='warn', n_jobs=None,\n",
              "             param_grid={'max_depth': [1, 3, 5, 7, 9, 11, 13, 15, 17, 19],\n",
              "                         'n_estimators': [1, 21, 41, 61, 81, 101, 121, 141, 161,\n",
              "                                          181]},\n",
              "             pre_dispatch='2*n_jobs', refit=True, return_train_score=False,\n",
              "             scoring=None, verbose=0)"
            ]
          },
          "execution_count": 588,
          "metadata": {},
          "output_type": "execute_result"
        }
      ],
      "source": [
        "# fit the grid search model\n",
        "grid_search.fit(x_train, y_train)"
      ]
    },
    {
      "cell_type": "code",
      "execution_count": null,
      "metadata": {
        "scrolled": true,
        "id": "agQHZaYn776m",
        "outputId": "66cf1102-2afe-47a9-962f-6114d5f75a14"
      },
      "outputs": [
        {
          "data": {
            "text/plain": [
              "XGBClassifier(base_score=0.5, booster='gbtree', colsample_bylevel=1,\n",
              "              colsample_bynode=1, colsample_bytree=1, gamma=0,\n",
              "              learning_rate=0.1, max_delta_step=0, max_depth=3,\n",
              "              min_child_weight=1, missing=None, n_estimators=1, n_jobs=1,\n",
              "              nthread=None, objective='binary:logistic', random_state=1,\n",
              "              reg_alpha=0, reg_lambda=1, scale_pos_weight=1, seed=None,\n",
              "              silent=None, subsample=1, verbosity=1)"
            ]
          },
          "execution_count": 589,
          "metadata": {},
          "output_type": "execute_result"
        }
      ],
      "source": [
        "# estimate the optimized value\n",
        "grid_search.best_estimator_"
      ]
    },
    {
      "cell_type": "markdown",
      "metadata": {
        "collapsed": true,
        "id": "odGwhfi4776n"
      },
      "source": [
        "So, the optimized value for the max_depth variable is 1 and for n_estimator is 81. Now let’s build the model using these optimized values."
      ]
    },
    {
      "cell_type": "code",
      "execution_count": null,
      "metadata": {
        "id": "h9C_OhMx776n",
        "outputId": "04594a9d-bfb1-47a2-918a-ea9c84c4d530"
      },
      "outputs": [
        {
          "name": "stdout",
          "output_type": "stream",
          "text": [
            "\n",
            "1 of kfold 5\n",
            "accuracy_score 0.8647140864714087\n",
            "\n",
            "2 of kfold 5\n",
            "accuracy_score 0.8675034867503487\n",
            "\n",
            "3 of kfold 5\n",
            "accuracy_score 0.8675034867503487\n",
            "\n",
            "4 of kfold 5\n",
            "accuracy_score 0.8688981868898187\n",
            "\n",
            "5 of kfold 5\n",
            "accuracy_score 0.86731843575419\n",
            "\n",
            "Mean validation accuracy:  0.867187536523223\n"
          ]
        }
      ],
      "source": [
        "mean_accuracy = []\n",
        "i=1\n",
        "kf = StratifiedKFold(n_splits=5,random_state=1,shuffle=True)\n",
        "for train_index,test_index in kf.split(X,y):\n",
        "    print('\\n{} of kfold {}'.format(i,kf.n_splits))\n",
        "    xtr,xvl = X.loc[train_index],X.loc[test_index]\n",
        "    ytr,yvl = y[train_index],y[test_index]\n",
        "\n",
        "    model = XGBClassifier(random_state=1, n_estimators=81, max_depth=1)\n",
        "    model.fit(xtr, ytr)\n",
        "    pred_test = model.predict(xvl)\n",
        "    score = accuracy_score(yvl,pred_test)\n",
        "    mean_accuracy.append(score)\n",
        "    print('accuracy_score',score)\n",
        "    i+=1\n",
        "\n",
        "print(\"\\nMean validation accuracy: \", sum(mean_accuracy)/len(mean_accuracy))\n",
        "#pred_test = model.predict(test)\n",
        "#pred3 = model.predict_proba(test)[:,1]"
      ]
    },
    {
      "cell_type": "markdown",
      "metadata": {
        "id": "co5D7H3J776n"
      },
      "source": [
        "The mean validation accuracy has improved from 0.864 to 0.867"
      ]
    },
    {
      "cell_type": "code",
      "execution_count": null,
      "metadata": {
        "id": "pQB8ff63776n"
      },
      "outputs": [],
      "source": [
        "# replacing 0 and 1 with N and Y\n",
        "submission['Loan_Status'].replace(0, 'N', inplace=True)\n",
        "submission['Loan_Status'].replace(1, 'Y', inplace=True)"
      ]
    },
    {
      "cell_type": "code",
      "execution_count": null,
      "metadata": {
        "id": "rI-PIKi7776n"
      },
      "outputs": [],
      "source": [
        "# Converting submission file to .csv format\n",
        "submission.to_csv('XGBoost.csv', index=False)"
      ]
    },
    {
      "cell_type": "markdown",
      "metadata": {
        "id": "f7LSf7fm776n"
      },
      "source": [
        "We got an accuracy of 0.7778 with this model."
      ]
    },
    {
      "cell_type": "markdown",
      "metadata": {
        "id": "GRC3JlRD776n"
      },
      "source": [
        "***\n",
        "# <a name=\"conclusion\">Conclusion</a>\n",
        "\n",
        "After trying and testing 4 different algorithms, the best accuracy on the public leaderboard is achieved by Logistic Regression (0.7847), followed by RandomForest (0.7778) and XGBoost (0.7778), and Decision Tree performed the worst (0.79). While new features created via feature engineering helped in predicting the target variable, it did not improve the overall model accuracy much. Compared to using default parameter values, GridSearchCV helped improved the model's mean validation accuracy by providing the optimized values for the model's hyperparameters. On the whole, a logistic regression classifier provides the best result in terms of accuracy for the given dataset, without any feature engineering needed. Because of its simplicity and the fact that it can be implemented relatively easy and quick, Logistic Regression is often a good baseline that data scientists can use to measure the performance of other more complex algorithms. In this case, however, a basic Logistic Regression has already outperformed other more complex algorithms like Random Forest and XGBoost, for the given dataset.\n",
        "\n",
        "**Suggestions for Improvement**. There are many things that can be tried to improve the models’ predictions.  We can create and add more variables, try different models with different subset of features and/or rows, etc. Some of the ideas are listed below:\n",
        "\n",
        "- Combine the applicants with 1,2,3 or more dependents and make a new feature as discussed in the EDA part.\n",
        "- Make independent vs independent variable visualizations to discover some more patterns.\n",
        "- Arrive at the EMI using a better formula which may include interest rates as well.\n",
        "- Try ensemble modeling (combination of different models).\n",
        "- Try neural network using Tensorflow or PyTorch\n"
      ]
    },
    {
      "cell_type": "markdown",
      "metadata": {
        "id": "pxodYpw7776n"
      },
      "source": [
        "***\n",
        "### References\n",
        "- https://towardsdatascience.com/data-types-in-statistics-347e152e8bee\n",
        "- https://machinelearning-blog.com/2018/04/23/logistic-regression-101/\n",
        "- https://www.analyticsvidhya.com/blog/2015/08/introduction-ensemble-learning/\n",
        "- https://www.analyticsvidhya.com/blog/2015/09/questions-ensemble-modeling/"
      ]
    },
    {
      "cell_type": "code",
      "execution_count": null,
      "metadata": {
        "id": "icAfwN4x776n"
      },
      "outputs": [],
      "source": []
    }
  ],
  "metadata": {
    "kernelspec": {
      "display_name": "Python 3",
      "language": "python",
      "name": "python3"
    },
    "language_info": {
      "codemirror_mode": {
        "name": "ipython",
        "version": 3
      },
      "file_extension": ".py",
      "mimetype": "text/x-python",
      "name": "python",
      "nbconvert_exporter": "python",
      "pygments_lexer": "ipython3",
      "version": "3.7.4"
    },
    "colab": {
      "provenance": [],
      "include_colab_link": true
    }
  },
  "nbformat": 4,
  "nbformat_minor": 0
}